{
 "metadata": {
  "name": "",
  "signature": "sha256:fa46428c67fe037b76831acbab45c708da12513a68674d724f3a9d5cc945fff2"
 },
 "nbformat": 3,
 "nbformat_minor": 0,
 "worksheets": [
  {
   "cells": [
    {
     "cell_type": "markdown",
     "metadata": {},
     "source": [
      "This is a set of hacks to run cMonkey<sub>2</sub> in an IPython notebook, allowing it to accept\n",
      "user-input options (e.g. organism, output-dir and ratios filename).\n",
      "\n",
      "In the near future, we will write a module to simplify this task."
     ]
    },
    {
     "cell_type": "code",
     "collapsed": false,
     "input": [
      "import sys\n",
      "import os\n",
      "\n",
      "sys.path.append(os.getcwd() + '/cmonkey2')\n",
      "\n",
      "import cmonkey.cmonkey_run as cmr\n",
      "import cmonkey.config as conf\n",
      "import cmonkey.meme as meme\n",
      "\n",
      "## capture logging output in ipython --\n",
      "##   https://stackoverflow.com/questions/18786912/get-output-from-the-logging-module-in-ipython-notebook\n",
      "##   use logging.DEBUG to see all output including debugging\n",
      "import logging\n",
      "reload(logging) ## is this really necessary? after testing - YES\n",
      "logging.basicConfig(format='%(asctime)s %(levelname)s: %(message)s', level=logging.INFO, datefmt='%I:%M:%S')\n",
      "\n",
      "conf.USER_INI_PATH = 'cmonkey2/config/default.ini'\n",
      "meme.USER_TEST_FASTA_PATH = 'cmonkey2/config/fasta_test.fa'\n",
      "cmr.USER_KEGG_FILE_PATH = 'cmonkey2/config/KEGG_taxonomy'\n",
      "cmr.USER_GO_FILE_PATH = 'cmonkey2/config/proteome2taxid'\n",
      "cmr.PIPELINE_USER_PATHS = {\n",
      "    'default': 'cmonkey2/config/default_pipeline.json',\n",
      "    'rows': 'cmonkey2/config/rows_pipeline.json',\n",
      "    'rowsandmotifs': 'cmonkey2/config/rows_and_motifs_pipeline.json',\n",
      "    'rowsandnetworks': 'cmonkey2/config/rows_and_networks_pipeline.json'\n",
      "}\n",
      "\n",
      "def arg_ext(parser):\n",
      "    parser.set_defaults( organism='eco', out='eco-test', ##config='eco-out-001/final.ini', \n",
      "                         ratios='ratios.tsv.gz' ) ##, interactive=True )\n",
      "    ##parser.add_argument('args', nargs=argparse.REMAINDER)\n",
      "    return parser\n",
      "\n",
      "sys.argv = [sys.argv[0]] ## HACK to remove extra ipython args, like --pylab --pdb"
     ],
     "language": "python",
     "metadata": {},
     "outputs": [],
     "prompt_number": 2
    },
    {
     "cell_type": "code",
     "collapsed": false,
     "input": [
      "args, params, ratios = conf.setup(arg_ext)"
     ],
     "language": "python",
     "metadata": {},
     "outputs": [
      {
       "output_type": "stream",
       "stream": "stderr",
       "text": [
        "03:35:52 INFO: checking MEME...\n"
       ]
      }
     ],
     "prompt_number": 3
    },
    {
     "cell_type": "code",
     "collapsed": false,
     "input": [
      "cm = cmr.CMonkeyRun(ratios, params)"
     ],
     "language": "python",
     "metadata": {},
     "outputs": [
      {
       "output_type": "stream",
       "stream": "stderr",
       "text": [
        "03:35:53 INFO: Input matrix has # rows: 4297, # columns: 176\n"
       ]
      },
      {
       "output_type": "stream",
       "stream": "stderr",
       "text": [
        "03:35:53 INFO: # clusters/row: 2\n"
       ]
      },
      {
       "output_type": "stream",
       "stream": "stderr",
       "text": [
        "03:35:53 INFO: # clusters/column: 215\n"
       ]
      },
      {
       "output_type": "stream",
       "stream": "stderr",
       "text": [
        "03:35:53 INFO: # CLUSTERS: 430\n"
       ]
      },
      {
       "output_type": "stream",
       "stream": "stderr",
       "text": [
        "03:35:53 INFO: use operons: 1\n"
       ]
      },
      {
       "output_type": "stream",
       "stream": "stderr",
       "text": [
        "03:35:53 INFO: using MEME version 4.10.0\n"
       ]
      }
     ],
     "prompt_number": 4
    },
    {
     "cell_type": "code",
     "collapsed": true,
     "input": [
      "cm.config_params['multiprocessing'] = True\n",
      "cm.config_params['num_cores'] = 2\n",
      "cm.prepare_run()"
     ],
     "language": "python",
     "metadata": {},
     "outputs": [
      {
       "output_type": "stream",
       "stream": "stderr",
       "text": [
        "03:36:02 INFO: attempting automatic download of operons from Microbes Online\n"
       ]
      },
      {
       "output_type": "stream",
       "stream": "stderr",
       "text": [
        "03:36:02 INFO: NCBI CODE IS: 511145\n"
       ]
      },
      {
       "output_type": "stream",
       "stream": "stderr",
       "text": [
        "03:36:02 INFO: Automatically using STRING file in 'cache/511145.gz'\n"
       ]
      },
      {
       "output_type": "stream",
       "stream": "stderr",
       "text": [
        "03:36:02 INFO: RSAT - get_directory()\n"
       ]
      },
      {
       "output_type": "stream",
       "stream": "stderr",
       "text": [
        "03:36:18 WARNING: can't find the correct RSAT mapping !\n"
       ]
      },
      {
       "output_type": "stream",
       "stream": "stderr",
       "text": [
        "03:36:18 INFO: KEGG = 'Escherichia coli K-12 MG1655' -> RSAT = 'Escherichia_coli_K12'\n"
       ]
      },
      {
       "output_type": "stream",
       "stream": "stderr",
       "text": [
        "03:36:18 INFO: Creating networks...\n"
       ]
      },
      {
       "output_type": "stream",
       "stream": "stderr",
       "text": [
        "03:36:18 INFO: stringdb.read_edges2()\n"
       ]
      },
      {
       "output_type": "stream",
       "stream": "stderr",
       "text": [
        "03:36:24 INFO: stringdb.read_edges2(), 869664 edges read, 9308 edges ignored\n"
       ]
      },
      {
       "output_type": "stream",
       "stream": "stderr",
       "text": [
        "03:36:27 INFO: MicrobesOnline - make_network()\n"
       ]
      },
      {
       "output_type": "stream",
       "stream": "stderr",
       "text": [
        "03:36:27 INFO: MicrobesOnline.get_operon_predictions_for(511145)\n"
       ]
      },
      {
       "output_type": "stream",
       "stream": "stderr",
       "text": [
        "03:36:27 INFO: 1806 prediction pairs read\n"
       ]
      },
      {
       "output_type": "stream",
       "stream": "stderr",
       "text": [
        "03:36:27 INFO: 835 operons created\n"
       ]
      },
      {
       "output_type": "stream",
       "stream": "stderr",
       "text": [
        "03:36:27 INFO: 4708 edges computed\n"
       ]
      },
      {
       "output_type": "stream",
       "stream": "stderr",
       "text": [
        "03:36:28 INFO: Finished creating networks.\n"
       ]
      },
      {
       "output_type": "stream",
       "stream": "stderr",
       "text": [
        "03:36:35 INFO: MicrobesOnline.get_operon_predictions_for(511145)\n"
       ]
      },
      {
       "output_type": "stream",
       "stream": "stderr",
       "text": [
        "03:36:35 INFO: 1806 prediction pairs read\n"
       ]
      },
      {
       "output_type": "stream",
       "stream": "stderr",
       "text": [
        "03:36:36 INFO: 835 operons created\n"
       ]
      },
      {
       "output_type": "stream",
       "stream": "stderr",
       "text": [
        "03:36:36 WARNING: Microbes Online operon gene 'b4577' not found in RSAT features\n"
       ]
      },
      {
       "output_type": "stream",
       "stream": "stderr",
       "text": [
        "03:36:36 WARNING: Microbes Online operon gene 'b4662' not found in RSAT features\n"
       ]
      },
      {
       "output_type": "stream",
       "stream": "stderr",
       "text": [
        "03:36:36 WARNING: Operon did not contain any available genes\n"
       ]
      },
      {
       "output_type": "stream",
       "stream": "stderr",
       "text": [
        "03:36:36 WARNING: Microbes Online operon gene 'b4414' not found in RSAT features\n"
       ]
      },
      {
       "output_type": "stream",
       "stream": "stderr",
       "text": [
        "03:36:36 WARNING: Microbes Online operon gene 'b4694' not found in RSAT features\n"
       ]
      },
      {
       "output_type": "stream",
       "stream": "stderr",
       "text": [
        "03:36:36 WARNING: Microbes Online operon gene 'b4695' not found in RSAT features\n"
       ]
      },
      {
       "output_type": "stream",
       "stream": "stderr",
       "text": [
        "03:36:36 WARNING: Microbes Online operon gene 'b4418' not found in RSAT features\n"
       ]
      },
      {
       "output_type": "stream",
       "stream": "stderr",
       "text": [
        "03:36:36 WARNING: Microbes Online operon gene 'b4692' not found in RSAT features\n"
       ]
      },
      {
       "output_type": "stream",
       "stream": "stderr",
       "text": [
        "03:36:36 WARNING: Microbes Online operon gene 'b4693' not found in RSAT features\n"
       ]
      },
      {
       "output_type": "stream",
       "stream": "stderr",
       "text": [
        "03:36:36 WARNING: Microbes Online operon gene 'b4425' not found in RSAT features\n"
       ]
      },
      {
       "output_type": "stream",
       "stream": "stderr",
       "text": [
        "03:36:36 WARNING: Microbes Online operon gene 'b4673' not found in RSAT features\n"
       ]
      },
      {
       "output_type": "stream",
       "stream": "stderr",
       "text": [
        "03:36:37 WARNING: Microbes Online operon gene 'b4689' not found in RSAT features\n"
       ]
      },
      {
       "output_type": "stream",
       "stream": "stderr",
       "text": [
        "03:36:37 WARNING: Microbes Online operon gene 'b4431' not found in RSAT features\n"
       ]
      },
      {
       "output_type": "stream",
       "stream": "stderr",
       "text": [
        "03:36:37 WARNING: Microbes Online operon gene 'b4676' not found in RSAT features\n"
       ]
      },
      {
       "output_type": "stream",
       "stream": "stderr",
       "text": [
        "03:36:37 WARNING: Microbes Online operon gene 'b4675' not found in RSAT features\n"
       ]
      },
      {
       "output_type": "stream",
       "stream": "stderr",
       "text": [
        "03:36:37 WARNING: Microbes Online operon gene 'b4678' not found in RSAT features\n"
       ]
      },
      {
       "output_type": "stream",
       "stream": "stderr",
       "text": [
        "03:36:37 WARNING: Microbes Online operon gene 'b4682' not found in RSAT features\n"
       ]
      },
      {
       "output_type": "stream",
       "stream": "stderr",
       "text": [
        "03:36:37 WARNING: Microbes Online operon gene 'b4684' not found in RSAT features\n"
       ]
      },
      {
       "output_type": "stream",
       "stream": "stderr",
       "text": [
        "03:36:37 WARNING: Microbes Online operon gene 'b2911' not found in RSAT features\n"
       ]
      },
      {
       "output_type": "stream",
       "stream": "stderr",
       "text": [
        "03:36:38 WARNING: Microbes Online operon gene 'b4685' not found in RSAT features\n"
       ]
      },
      {
       "output_type": "stream",
       "stream": "stderr",
       "text": [
        "03:36:38 WARNING: Microbes Online operon gene 'b4697' not found in RSAT features\n"
       ]
      },
      {
       "output_type": "stream",
       "stream": "stderr",
       "text": [
        "03:36:38 WARNING: Microbes Online operon gene 'b4614' not found in RSAT features\n"
       ]
      },
      {
       "output_type": "stream",
       "stream": "stderr",
       "text": [
        "03:36:38 WARNING: Microbes Online operon gene 'b4669' not found in RSAT features\n"
       ]
      },
      {
       "output_type": "stream",
       "stream": "stderr",
       "text": [
        "03:36:48 WARNING: 59 genes not found in synonyms.\n"
       ]
      },
      {
       "output_type": "stream",
       "stream": "stderr",
       "text": [
        "03:36:48 INFO: cmonkey_run config_params:\n"
       ]
      },
      {
       "output_type": "stream",
       "stream": "stderr",
       "text": [
        "03:36:48 INFO: memb.max_cluster_rows_allowed=70\n"
       ]
      },
      {
       "output_type": "stream",
       "stream": "stderr",
       "text": [
        "03:36:48 INFO: MEME={'background_order': '3', 'use_revcomp': 'True', 'arg_mod': 'zoops', 'schedule': 1,100, 'max_width': '24', 'nmotifs_rvec': 'c(rep(1, num_iterations/3), rep(2, num_iterations/3))', 'version': '4.10.0', 'global_background': 'True'}\n"
       ]
      },
      {
       "output_type": "stream",
       "stream": "stderr",
       "text": [
        "03:36:48 INFO: rsat_dir=None\n"
       ]
      },
      {
       "output_type": "stream",
       "stream": "stderr",
       "text": [
        "03:36:48 INFO: Rows={'scaling': ('scaling_const', 0.3), 'schedule': 1,2}\n"
       ]
      },
      {
       "output_type": "stream",
       "stream": "stderr",
       "text": [
        "03:36:48 INFO: nomotifs=False\n"
       ]
      },
      {
       "output_type": "stream",
       "stream": "stderr",
       "text": [
        "03:36:48 INFO: memb.clusters_per_row=2\n"
       ]
      },
      {
       "output_type": "stream",
       "stream": "stderr",
       "text": [
        "03:36:48 INFO: string_file=cache/511145.gz\n"
       ]
      },
      {
       "output_type": "stream",
       "stream": "stderr",
       "text": [
        "03:36:48 INFO: minimize_io=False\n"
       ]
      },
      {
       "output_type": "stream",
       "stream": "stderr",
       "text": [
        "03:36:48 INFO: fasta_file=None\n"
       ]
      },
      {
       "output_type": "stream",
       "stream": "stderr",
       "text": [
        "03:36:48 INFO: memb.max_changes_per_row=1\n"
       ]
      },
      {
       "output_type": "stream",
       "stream": "stderr",
       "text": [
        "03:36:48 INFO: organism_code=eco\n"
       ]
      },
      {
       "output_type": "stream",
       "stream": "stderr",
       "text": [
        "03:36:48 INFO: rsat_organism=None\n"
       ]
      },
      {
       "output_type": "stream",
       "stream": "stderr",
       "text": [
        "03:36:48 INFO: remap_network_nodes=False\n"
       ]
      },
      {
       "output_type": "stream",
       "stream": "stderr",
       "text": [
        "03:36:48 INFO: operon_file=None\n"
       ]
      },
      {
       "output_type": "stream",
       "stream": "stderr",
       "text": [
        "03:36:48 INFO: Motifs={'scaling': ('scaling_rvec', 'c(rep(1e-5, 100), seq(1e-5, 1, length=num_iterations*3/4))'), 'sequence_types': 'upstream', 'schedule': 2,10}\n"
       ]
      },
      {
       "output_type": "stream",
       "stream": "stderr",
       "text": [
        "03:36:48 INFO: result_freq=10\n"
       ]
      },
      {
       "output_type": "stream",
       "stream": "stderr",
       "text": [
        "03:36:48 INFO: Weeder={'schedule': 1,100, 'top': '50', 'analysis': 'small', 'nmotifs_rvec': 'c(rep(1, num_iterations/3), rep(2, num_iterations/3))', 'freqfile_dir': '', 'global_background': 'True', 'orgcode': ''}\n"
       ]
      },
      {
       "output_type": "stream",
       "stream": "stderr",
       "text": [
        "03:36:48 INFO: tmp_dir=\n"
       ]
      },
      {
       "output_type": "stream",
       "stream": "stderr",
       "text": [
        "03:36:48 INFO: sequence_types=['upstream']\n"
       ]
      },
      {
       "output_type": "stream",
       "stream": "stderr",
       "text": [
        "03:36:48 INFO: memb.max_changes_per_col=5\n"
       ]
      },
      {
       "output_type": "stream",
       "stream": "stderr",
       "text": [
        "03:36:48 INFO: logfile=None\n"
       ]
      },
      {
       "output_type": "stream",
       "stream": "stderr",
       "text": [
        "03:36:48 INFO: quantile_normalize=False\n"
       ]
      },
      {
       "output_type": "stream",
       "stream": "stderr",
       "text": [
        "03:36:48 INFO: checkratios=False\n"
       ]
      },
      {
       "output_type": "stream",
       "stream": "stderr",
       "text": [
        "03:36:48 INFO: memb.prob_col_change=1.0\n"
       ]
      },
      {
       "output_type": "stream",
       "stream": "stderr",
       "text": [
        "03:36:48 INFO: ncbi_code=511145\n"
       ]
      },
      {
       "output_type": "stream",
       "stream": "stderr",
       "text": [
        "03:36:48 INFO: debug_freq=50\n"
       ]
      },
      {
       "output_type": "stream",
       "stream": "stderr",
       "text": [
        "03:36:48 INFO: memb.clusters_per_col=215\n"
       ]
      },
      {
       "output_type": "stream",
       "stream": "stderr",
       "text": [
        "03:36:48 INFO: memb.min_cluster_rows_allowed=3\n"
       ]
      },
      {
       "output_type": "stream",
       "stream": "stderr",
       "text": [
        "03:36:48 INFO: case_sensitive=False\n"
       ]
      },
      {
       "output_type": "stream",
       "stream": "stderr",
       "text": [
        "03:36:48 INFO: pipeline_file=\n"
       ]
      },
      {
       "output_type": "stream",
       "stream": "stderr",
       "text": [
        "03:36:48 INFO: normalize_ratios=True\n"
       ]
      },
      {
       "output_type": "stream",
       "stream": "stderr",
       "text": [
        "03:36:48 INFO: output_dir=eco-test\n"
       ]
      },
      {
       "output_type": "stream",
       "stream": "stderr",
       "text": [
        "03:36:48 INFO: postadjust=True\n"
       ]
      },
      {
       "output_type": "stream",
       "stream": "stderr",
       "text": [
        "03:36:48 INFO: num_clusters=430\n"
       ]
      },
      {
       "output_type": "stream",
       "stream": "stderr",
       "text": [
        "03:36:48 INFO: start_iteration=1\n"
       ]
      },
      {
       "output_type": "stream",
       "stream": "stderr",
       "text": [
        "03:36:48 INFO: command_line=-c\n"
       ]
      },
      {
       "output_type": "stream",
       "stream": "stderr",
       "text": [
        "03:36:48 INFO: stats_freq=10\n"
       ]
      },
      {
       "output_type": "stream",
       "stream": "stderr",
       "text": [
        "03:36:48 INFO: SequenceType-upstream={'search_distance': '-20,150', 'scan_distance': '-30,250'}\n"
       ]
      },
      {
       "output_type": "stream",
       "stream": "stderr",
       "text": [
        "03:36:48 INFO: random_seed=1285972858\n"
       ]
      },
      {
       "output_type": "stream",
       "stream": "stderr",
       "text": [
        "03:36:48 INFO: resume=False\n"
       ]
      },
      {
       "output_type": "stream",
       "stream": "stderr",
       "text": [
        "03:36:48 INFO: use_string=True\n"
       ]
      },
      {
       "output_type": "stream",
       "stream": "stderr",
       "text": [
        "03:36:48 INFO: nonetworks=False\n"
       ]
      },
      {
       "output_type": "stream",
       "stream": "stderr",
       "text": [
        "03:36:48 INFO: rsat_base_url=http://embnet.ccg.unam.mx/rsa-tools\n"
       ]
      },
      {
       "output_type": "stream",
       "stream": "stderr",
       "text": [
        "03:36:48 INFO: out_database=eco-test/cmonkey_run.db\n"
       ]
      },
      {
       "output_type": "stream",
       "stream": "stderr",
       "text": [
        "03:36:48 INFO: ratios_file=ratios.tsv.gz\n"
       ]
      },
      {
       "output_type": "stream",
       "stream": "stderr",
       "text": [
        "03:36:48 INFO: cache_dir=cache\n"
       ]
      },
      {
       "output_type": "stream",
       "stream": "stderr",
       "text": [
        "03:36:48 INFO: search_distances={'upstream': (-20, 150)}\n"
       ]
      },
      {
       "output_type": "stream",
       "stream": "stderr",
       "text": [
        "03:36:48 INFO: memb.prob_row_change=0.5\n"
       ]
      },
      {
       "output_type": "stream",
       "stream": "stderr",
       "text": [
        "03:36:48 INFO: add_fuzz=rows\n"
       ]
      },
      {
       "output_type": "stream",
       "stream": "stderr",
       "text": [
        "03:36:48 INFO: Columns={'schedule': 1,5}\n"
       ]
      },
      {
       "output_type": "stream",
       "stream": "stderr",
       "text": [
        "03:36:48 INFO: log_subresults=True\n"
       ]
      },
      {
       "output_type": "stream",
       "stream": "stderr",
       "text": [
        "03:36:48 INFO: synonym_file=None\n"
       ]
      },
      {
       "output_type": "stream",
       "stream": "stderr",
       "text": [
        "03:36:48 INFO: pipeline={u'row-scoring': {u'function': {u'class': u'ScoringFunctionCombiner', u'module': u'cmonkey.scoring'}, u'args': {u'functions': [{u'function': {u'class': u'RowScoringFunction', u'module': u'cmonkey.microarray'}, u'id': u'Rows'}, {u'function': {u'class': u'ScoringFunction', u'module': u'cmonkey.network'}, u'id': u'Networks'}, {u'function': {u'class': u'MemeScoringFunction', u'module': u'cmonkey.motif'}, u'id': u'Motifs'}]}, u'id': u'combiner'}, u'column-scoring': {u'function': {u'class': u'ColumnScoringFunction', u'module': u'cmonkey.scoring'}, u'id': u'Columns'}}\n"
       ]
      },
      {
       "output_type": "stream",
       "stream": "stderr",
       "text": [
        "03:36:48 INFO: num_iterations=2000\n"
       ]
      },
      {
       "output_type": "stream",
       "stream": "stderr",
       "text": [
        "03:36:48 INFO: num_cores=2\n"
       ]
      },
      {
       "output_type": "stream",
       "stream": "stderr",
       "text": [
        "03:36:48 INFO: dbfile_name=cmonkey_run.db\n"
       ]
      },
      {
       "output_type": "stream",
       "stream": "stderr",
       "text": [
        "03:36:48 INFO: Networks={'scaling': ('scaling_rvec', 'seq(1e-5, 0.5, length=num_iterations*3/4)'), 'schedule': 1,7}\n"
       ]
      },
      {
       "output_type": "stream",
       "stream": "stderr",
       "text": [
        "03:36:48 INFO: use_operons=True\n"
       ]
      },
      {
       "output_type": "stream",
       "stream": "stderr",
       "text": [
        "03:36:48 INFO: scan_distances={'upstream': (-30, 250)}\n"
       ]
      },
      {
       "output_type": "stream",
       "stream": "stderr",
       "text": [
        "03:36:48 INFO: debug=set([])\n"
       ]
      },
      {
       "output_type": "stream",
       "stream": "stderr",
       "text": [
        "03:36:48 INFO: multiprocessing=True\n"
       ]
      },
      {
       "output_type": "stream",
       "stream": "stderr",
       "text": [
        "03:36:48 INFO: interactive=False\n"
       ]
      }
     ],
     "prompt_number": 5
    },
    {
     "cell_type": "code",
     "collapsed": true,
     "input": [
      "cm.run_iteration(1)"
     ],
     "language": "python",
     "metadata": {},
     "outputs": [
      {
       "output_type": "stream",
       "stream": "stderr",
       "text": [
        "03:38:06 INFO: Iteration # 1\n"
       ]
      },
      {
       "output_type": "stream",
       "stream": "stderr",
       "text": [
        "03:38:21 ERROR: No sequences read for eco!\n",
        "03:38:21 WARNING: Cluster 199 with 0 genes: no sequences!\n"
       ]
      },
      {
       "output_type": "stream",
       "stream": "stderr",
       "text": [
        "03:38:31 INFO: running meme/mast on cluster 1, # sequences: 23\n",
        "03:38:31 INFO: running meme/mast on cluster 55, # sequences: 13\n",
        "03:38:35 INFO: running meme/mast on cluster 2, # sequences: 12\n",
        "03:38:33 INFO: running meme/mast on cluster 56, # sequences: 10\n",
        "03:38:36 INFO: running meme/mast on cluster 3, # sequences: 4\n",
        "03:38:35 INFO: running meme/mast on cluster 57, # sequences: 1\n",
        "03:38:38 INFO: running meme/mast on cluster 4, # sequences: 8\n",
        "03:38:35 INFO: running meme/mast on cluster 58, # sequences: 5\n",
        "03:38:39 INFO: running meme/mast on cluster 5, # sequences: 12\n",
        "03:38:36 INFO: running meme/mast on cluster 59, # sequences: 8\n",
        "03:38:41 INFO: running meme/mast on cluster 6, # sequences: 6\n",
        "03:38:37 INFO: running meme/mast on cluster 60, # sequences: 5\n",
        "03:38:42 INFO: running meme/mast on cluster 7, # sequences: 9\n",
        "03:38:39 INFO: running meme/mast on cluster 61, # sequences: 5\n",
        "03:38:44 INFO: running meme/mast on cluster 8, # sequences: 6\n",
        "03:38:40 INFO: running meme/mast on cluster 62, # sequences: 3\n",
        "03:38:45 INFO: running meme/mast on cluster 9, # sequences: 16\n",
        "03:38:41 INFO: running meme/mast on cluster 63, # sequences: 6\n",
        "03:38:48 INFO: running meme/mast on cluster 10, # sequences: 10\n",
        "03:38:42 INFO: running meme/mast on cluster 64, # sequences: 7\n",
        "03:38:50 INFO: running meme/mast on cluster 11, # sequences: 11\n",
        "03:38:44 INFO: running meme/mast on cluster 65, # sequences: 7\n",
        "03:38:52 INFO: running meme/mast on cluster 12, # sequences: 11\n",
        "03:38:45 INFO: running meme/mast on cluster 66, # sequences: 7\n",
        "03:38:53 INFO: running meme/mast on cluster 13, # sequences: 2\n",
        "03:38:46 INFO: running meme/mast on cluster 67, # sequences: 6\n",
        "03:38:53 INFO: running meme/mast on cluster 14, # sequences: 14\n",
        "03:38:47 INFO: running meme/mast on cluster 68, # sequences: 10\n",
        "03:38:56 INFO: running meme/mast on cluster 15, # sequences: 9\n",
        "03:38:49 INFO: running meme/mast on cluster 69, # sequences: 11\n",
        "03:38:57 INFO: running meme/mast on cluster 16, # sequences: 10\n",
        "03:38:51 INFO: running meme/mast on cluster 70, # sequences: 3\n",
        "03:39:00 INFO: running meme/mast on cluster 17, # sequences: 9\n",
        "03:38:52 INFO: running meme/mast on cluster 71, # sequences: 8\n",
        "03:39:01 INFO: running meme/mast on cluster 18, # sequences: 10\n",
        "03:38:53 INFO: running meme/mast on cluster 72, # sequences: 10\n",
        "03:39:03 INFO: running meme/mast on cluster 19, # sequences: 11\n",
        "03:38:55 INFO: running meme/mast on cluster 73, # sequences: 4\n",
        "03:39:05 INFO: running meme/mast on cluster 20, # sequences: 11\n",
        "03:38:56 INFO: running meme/mast on cluster 74, # sequences: 13\n",
        "03:39:07 INFO: running meme/mast on cluster 21, # sequences: 9\n",
        "03:38:58 INFO: running meme/mast on cluster 75, # sequences: 6\n",
        "03:39:08 INFO: running meme/mast on cluster 22, # sequences: 12\n",
        "03:38:59 INFO: running meme/mast on cluster 76, # sequences: 7\n",
        "03:39:10 INFO: running meme/mast on cluster 23, # sequences: 7\n",
        "03:39:00 INFO: running meme/mast on cluster 77, # sequences: 4\n",
        "03:39:12 INFO: running meme/mast on cluster 24, # sequences: 1\n",
        "03:39:01 INFO: running meme/mast on cluster 78, # sequences: 9\n",
        "03:39:12 INFO: running meme/mast on cluster 25, # sequences: 4\n",
        "03:39:03 INFO: running meme/mast on cluster 79, # sequences: 5\n",
        "03:39:13 INFO: running meme/mast on cluster 26, # sequences: 9\n",
        "03:39:04 INFO: running meme/mast on cluster 80, # sequences: 3\n",
        "03:39:14 INFO: running meme/mast on cluster 27, # sequences: 7\n",
        "03:39:05 INFO: running meme/mast on cluster 81, # sequences: 3\n",
        "03:39:16 INFO: running meme/mast on cluster 28, # sequences: 5\n",
        "03:39:06 INFO: running meme/mast on cluster 82, # sequences: 8\n",
        "03:39:17 INFO: running meme/mast on cluster 29, # sequences: 7\n",
        "03:39:08 INFO: running meme/mast on cluster 83, # sequences: 2\n",
        "03:39:18 INFO: running meme/mast on cluster 30, # sequences: 10\n",
        "03:39:08 INFO: running meme/mast on cluster 84, # sequences: 5\n",
        "03:39:20 INFO: running meme/mast on cluster 31, # sequences: 3\n",
        "03:39:10 INFO: running meme/mast on cluster 85, # sequences: 4\n",
        "03:39:21 INFO: running meme/mast on cluster 32, # sequences: 2\n",
        "03:39:10 INFO: running meme/mast on cluster 86, # sequences: 13\n",
        "03:39:21 INFO: running meme/mast on cluster 33, # sequences: 4\n",
        "03:39:12 INFO: running meme/mast on cluster 87, # sequences: 6\n",
        "03:39:22 INFO: running meme/mast on cluster 34, # sequences: 11\n",
        "03:39:14 INFO: running meme/mast on cluster 88, # sequences: 14\n",
        "03:39:23 INFO: running meme/mast on cluster 35, # sequences: 6\n",
        "03:39:16 INFO: running meme/mast on cluster 89, # sequences: 1\n",
        "03:39:24 INFO: running meme/mast on cluster 36, # sequences: 1\n",
        "03:39:16 INFO: running meme/mast on cluster 90, # sequences: 3\n",
        "03:39:24 INFO: running meme/mast on cluster 37, # sequences: 6\n",
        "03:39:17 INFO: running meme/mast on cluster 91, # sequences: 12\n",
        "03:39:26 INFO: running meme/mast on cluster 38, # sequences: 14\n",
        "03:39:19 INFO: running meme/mast on cluster 92, # sequences: 5\n",
        "03:39:28 INFO: running meme/mast on cluster 39, # sequences: 6\n",
        "03:39:19 INFO: running meme/mast on cluster 93, # sequences: 5\n",
        "03:39:29 INFO: running meme/mast on cluster 40, # sequences: 10\n",
        "03:39:21 INFO: running meme/mast on cluster 94, # sequences: 9\n",
        "03:39:31 INFO: running meme/mast on cluster 41, # sequences: 3\n",
        "03:39:22 INFO: running meme/mast on cluster 95, # sequences: 2\n",
        "03:39:32 INFO: running meme/mast on cluster 42, # sequences: 8\n",
        "03:39:22 INFO: running meme/mast on cluster 96, # sequences: 4\n",
        "03:39:33 INFO: running meme/mast on cluster 43, # sequences: 2\n",
        "03:39:24 INFO: running meme/mast on cluster 97, # sequences: 4\n",
        "03:39:33 INFO: running meme/mast on cluster 44, # sequences: 15\n",
        "03:39:25 INFO: running meme/mast on cluster 98, # sequences: 11\n",
        "03:39:36 INFO: running meme/mast on cluster 45, # sequences: 6\n",
        "03:39:27 INFO: running meme/mast on cluster 99, # sequences: 5\n",
        "03:39:37 INFO: running meme/mast on cluster 46, # sequences: 4\n",
        "03:39:28 INFO: running meme/mast on cluster 100, # sequences: 9\n",
        "03:39:38 INFO: running meme/mast on cluster 47, # sequences: 9\n",
        "03:39:30 INFO: running meme/mast on cluster 101, # sequences: 2\n",
        "03:39:39 INFO: running meme/mast on cluster 48, # sequences: 8\n",
        "03:39:30 INFO: running meme/mast on cluster 102, # sequences: 1\n",
        "03:39:41 INFO: running meme/mast on cluster 49, # sequences: 16\n",
        "03:39:30 INFO: running meme/mast on cluster 103, # sequences: 2\n",
        "03:39:44 INFO: running meme/mast on cluster 50, # sequences: 9\n",
        "03:39:30 INFO: running meme/mast on cluster 104, # sequences: 8\n",
        "03:39:45 INFO: running meme/mast on cluster 51, # sequences: 11\n",
        "03:39:32 INFO: running meme/mast on cluster 105, # sequences: 10\n",
        "03:39:47 INFO: running meme/mast on cluster 52, # sequences: 5\n",
        "03:39:33 INFO: running meme/mast on cluster 106, # sequences: 4\n",
        "03:39:48 INFO: running meme/mast on cluster 53, # sequences: 3\n",
        "03:39:35 INFO: running meme/mast on cluster 107, # sequences: 9\n",
        "03:39:49 INFO: running meme/mast on cluster 54, # sequences: 8\n",
        "03:39:36 INFO: running meme/mast on cluster 108, # sequences: 10\n",
        "03:39:51 INFO: running meme/mast on cluster 163, # sequences: 7\n",
        "03:39:39 INFO: running meme/mast on cluster 109, # sequences: 1\n",
        "03:39:52 INFO: running meme/mast on cluster 164, # sequences: 7\n",
        "03:39:39 INFO: running meme/mast on cluster 110, # sequences: 11\n",
        "03:39:54 INFO: running meme/mast on cluster 165, # sequences: 25\n",
        "03:39:41 INFO: running meme/mast on cluster 111, # sequences: 12\n",
        "03:39:59 INFO: running meme/mast on cluster 166, # sequences: 6\n",
        "03:39:43 INFO: running meme/mast on cluster 112, # sequences: 19\n",
        "03:40:00 INFO: running meme/mast on cluster 167, # sequences: 6\n",
        "03:39:46 INFO: running meme/mast on cluster 113, # sequences: 12\n",
        "03:40:02 INFO: running meme/mast on cluster 168, # sequences: 8\n",
        "03:39:49 INFO: running meme/mast on cluster 114, # sequences: 11\n",
        "03:40:03 INFO: running meme/mast on cluster 169, # sequences: 4\n",
        "03:39:51 INFO: running meme/mast on cluster 115, # sequences: 11\n",
        "03:40:04 INFO: running meme/mast on cluster 170, # sequences: 1\n",
        "03:39:53 INFO: running meme/mast on cluster 116, # sequences: 27\n",
        "03:40:04 INFO: running meme/mast on cluster 171, # sequences: 10\n",
        "03:39:58 INFO: running meme/mast on cluster 117, # sequences: 9\n",
        "03:40:06 INFO: running meme/mast on cluster 172, # sequences: 3\n",
        "03:40:00 INFO: running meme/mast on cluster 118, # sequences: 2\n"
       ]
      },
      {
       "output_type": "stream",
       "stream": "stderr",
       "text": [
        "03:40:07 INFO: running meme/mast on cluster 173, # sequences: 8\n",
        "03:40:00 INFO: running meme/mast on cluster 119, # sequences: 5\n",
        "03:40:08 INFO: running meme/mast on cluster 174, # sequences: 6\n",
        "03:40:01 INFO: running meme/mast on cluster 120, # sequences: 9\n",
        "03:40:10 INFO: running meme/mast on cluster 175, # sequences: 4\n",
        "03:40:03 INFO: running meme/mast on cluster 121, # sequences: 6\n",
        "03:40:11 INFO: running meme/mast on cluster 176, # sequences: 6\n",
        "03:40:04 INFO: running meme/mast on cluster 122, # sequences: 5\n",
        "03:40:13 INFO: running meme/mast on cluster 177, # sequences: 8\n",
        "03:40:05 INFO: running meme/mast on cluster 123, # sequences: 10\n",
        "03:40:14 INFO: running meme/mast on cluster 178, # sequences: 5\n",
        "03:40:07 INFO: running meme/mast on cluster 124, # sequences: 8\n",
        "03:40:15 INFO: running meme/mast on cluster 179, # sequences: 17\n",
        "03:40:08 INFO: running meme/mast on cluster 125, # sequences: 9\n",
        "03:40:18 INFO: running meme/mast on cluster 180, # sequences: 3\n",
        "03:40:10 INFO: running meme/mast on cluster 126, # sequences: 5\n",
        "03:40:18 INFO: running meme/mast on cluster 181, # sequences: 6\n",
        "03:40:11 INFO: running meme/mast on cluster 127, # sequences: 14\n",
        "03:40:20 INFO: running meme/mast on cluster 182, # sequences: 2\n",
        "03:40:13 INFO: running meme/mast on cluster 128, # sequences: 9\n",
        "03:40:20 INFO: running meme/mast on cluster 183, # sequences: 5\n",
        "03:40:15 INFO: running meme/mast on cluster 129, # sequences: 11\n",
        "03:40:21 INFO: running meme/mast on cluster 184, # sequences: 17\n",
        "03:40:17 INFO: running meme/mast on cluster 130, # sequences: 3\n",
        "03:40:24 INFO: running meme/mast on cluster 185, # sequences: 10\n",
        "03:40:18 INFO: running meme/mast on cluster 131, # sequences: 14\n",
        "03:40:26 INFO: running meme/mast on cluster 186, # sequences: 7\n",
        "03:40:20 INFO: running meme/mast on cluster 132, # sequences: 3\n",
        "03:40:27 INFO: running meme/mast on cluster 187, # sequences: 8\n",
        "03:40:21 INFO: running meme/mast on cluster 133, # sequences: 8\n",
        "03:40:28 INFO: running meme/mast on cluster 188, # sequences: 6\n",
        "03:40:22 INFO: running meme/mast on cluster 134, # sequences: 1\n",
        "03:40:29 INFO: running meme/mast on cluster 189, # sequences: 8\n",
        "03:40:22 INFO: running meme/mast on cluster 135, # sequences: 4\n",
        "03:40:31 INFO: running meme/mast on cluster 190, # sequences: 6\n",
        "03:40:23 INFO: running meme/mast on cluster 136, # sequences: 7\n",
        "03:40:32 INFO: running meme/mast on cluster 191, # sequences: 6\n",
        "03:40:25 INFO: running meme/mast on cluster 137, # sequences: 4\n",
        "03:40:33 INFO: running meme/mast on cluster 192, # sequences: 2\n",
        "03:40:26 INFO: running meme/mast on cluster 138, # sequences: 9\n",
        "03:40:33 INFO: running meme/mast on cluster 193, # sequences: 19\n",
        "03:40:27 INFO: running meme/mast on cluster 139, # sequences: 8\n",
        "03:40:37 INFO: running meme/mast on cluster 194, # sequences: 4\n",
        "03:40:29 INFO: running meme/mast on cluster 140, # sequences: 2\n",
        "03:40:38 INFO: running meme/mast on cluster 195, # sequences: 7\n",
        "03:40:29 INFO: running meme/mast on cluster 141, # sequences: 2\n",
        "03:40:40 INFO: running meme/mast on cluster 196, # sequences: 14\n",
        "03:40:29 INFO: running meme/mast on cluster 142, # sequences: 8\n",
        "03:40:42 INFO: running meme/mast on cluster 197, # sequences: 4\n",
        "03:40:30 INFO: running meme/mast on cluster 143, # sequences: 8\n",
        "03:40:43 INFO: running meme/mast on cluster 198, # sequences: 14\n",
        "03:40:32 INFO: running meme/mast on cluster 144, # sequences: 1\n",
        "03:40:45 INFO: running meme/mast on cluster 199, # sequences: 0\n",
        "03:40:32 INFO: running meme/mast on cluster 145, # sequences: 18\n",
        "03:40:45 INFO: running meme/mast on cluster 200, # sequences: 2\n",
        "03:40:35 INFO: running meme/mast on cluster 146, # sequences: 11\n",
        "03:40:45 INFO: running meme/mast on cluster 201, # sequences: 18\n",
        "03:40:37 INFO: running meme/mast on cluster 147, # sequences: 12\n",
        "03:40:49 INFO: running meme/mast on cluster 202, # sequences: 17\n",
        "03:40:39 INFO: running meme/mast on cluster 148, # sequences: 1\n",
        "03:40:52 INFO: running meme/mast on cluster 203, # sequences: 2\n",
        "03:40:39 INFO: running meme/mast on cluster 149, # sequences: 6\n",
        "03:40:52 INFO: running meme/mast on cluster 204, # sequences: 7\n",
        "03:40:40 INFO: running meme/mast on cluster 150, # sequences: 4\n",
        "03:40:53 INFO: running meme/mast on cluster 205, # sequences: 8\n",
        "03:40:41 INFO: running meme/mast on cluster 151, # sequences: 14\n",
        "03:40:55 INFO: running meme/mast on cluster 206, # sequences: 15\n",
        "03:40:44 INFO: running meme/mast on cluster 152, # sequences: 3\n",
        "03:40:58 INFO: running meme/mast on cluster 207, # sequences: 3\n",
        "03:40:45 INFO: running meme/mast on cluster 153, # sequences: 5\n",
        "03:40:59 INFO: running meme/mast on cluster 208, # sequences: 3\n",
        "03:40:46 INFO: running meme/mast on cluster 154, # sequences: 5\n",
        "03:41:00 INFO: running meme/mast on cluster 209, # sequences: 8\n",
        "03:40:47 INFO: running meme/mast on cluster 155, # sequences: 10\n",
        "03:41:02 INFO: running meme/mast on cluster 210, # sequences: 4\n",
        "03:40:48 INFO: running meme/mast on cluster 156, # sequences: 8\n",
        "03:41:03 INFO: running meme/mast on cluster 211, # sequences: 9\n",
        "03:40:50 INFO: running meme/mast on cluster 157, # sequences: 1\n",
        "03:41:04 INFO: running meme/mast on cluster 212, # sequences: 11\n",
        "03:40:50 INFO: running meme/mast on cluster 158, # sequences: 6\n",
        "03:41:06 INFO: running meme/mast on cluster 213, # sequences: 8\n",
        "03:40:51 INFO: running meme/mast on cluster 159, # sequences: 7\n",
        "03:41:08 INFO: running meme/mast on cluster 214, # sequences: 4\n",
        "03:40:53 INFO: running meme/mast on cluster 160, # sequences: 2\n",
        "03:41:09 INFO: running meme/mast on cluster 215, # sequences: 14\n",
        "03:40:53 INFO: running meme/mast on cluster 161, # sequences: 3\n",
        "03:41:11 INFO: running meme/mast on cluster 216, # sequences: 5\n",
        "03:40:53 INFO: running meme/mast on cluster 162, # sequences: 11\n",
        "03:41:12 INFO: running meme/mast on cluster 271, # sequences: 8\n",
        "03:40:56 INFO: running meme/mast on cluster 217, # sequences: 5\n",
        "03:41:14 INFO: running meme/mast on cluster 272, # sequences: 4\n",
        "03:40:57 INFO: running meme/mast on cluster 218, # sequences: 8\n",
        "03:41:15 INFO: running meme/mast on cluster 273, # sequences: 6\n",
        "03:40:59 INFO: running meme/mast on cluster 219, # sequences: 15\n",
        "03:41:16 INFO: running meme/mast on cluster 274, # sequences: 1\n",
        "03:41:02 INFO: running meme/mast on cluster 220, # sequences: 11\n",
        "03:41:16 INFO: running meme/mast on cluster 275, # sequences: 8\n",
        "03:41:04 INFO: running meme/mast on cluster 221, # sequences: 2\n",
        "03:41:18 INFO: running meme/mast on cluster 276, # sequences: 7\n",
        "03:41:04 INFO: running meme/mast on cluster 222, # sequences: 4\n",
        "03:41:19 INFO: running meme/mast on cluster 277, # sequences: 5\n",
        "03:41:05 INFO: running meme/mast on cluster 223, # sequences: 1\n",
        "03:41:20 INFO: running meme/mast on cluster 278, # sequences: 4\n",
        "03:41:05 INFO: running meme/mast on cluster 224, # sequences: 10\n",
        "03:41:21 INFO: running meme/mast on cluster 279, # sequences: 9\n",
        "03:41:07 INFO: running meme/mast on cluster 225, # sequences: 6\n",
        "03:41:22 INFO: running meme/mast on cluster 280, # sequences: 2\n",
        "03:41:08 INFO: running meme/mast on cluster 226, # sequences: 13\n",
        "03:41:22 INFO: running meme/mast on cluster 281, # sequences: 5\n",
        "03:41:10 INFO: running meme/mast on cluster 227, # sequences: 1\n",
        "03:41:23 INFO: running meme/mast on cluster 282, # sequences: 4\n",
        "03:41:10 INFO: running meme/mast on cluster 228, # sequences: 27\n",
        "03:41:24 INFO: running meme/mast on cluster 283, # sequences: 7\n",
        "03:41:15 INFO: running meme/mast on cluster 229, # sequences: 6\n",
        "03:41:26 INFO: running meme/mast on cluster 284, # sequences: 5\n",
        "03:41:17 INFO: running meme/mast on cluster 230, # sequences: 14\n",
        "03:41:27 INFO: running meme/mast on cluster 285, # sequences: 2\n",
        "03:41:19 INFO: running meme/mast on cluster 231, # sequences: 14\n",
        "03:41:27 INFO: running meme/mast on cluster 286, # sequences: 4\n",
        "03:41:21 INFO: running meme/mast on cluster 232, # sequences: 2\n",
        "03:41:28 INFO: running meme/mast on cluster 287, # sequences: 6\n",
        "03:41:21 INFO: running meme/mast on cluster 233, # sequences: 9\n",
        "03:41:29 INFO: running meme/mast on cluster 288, # sequences: 4\n",
        "03:41:23 INFO: running meme/mast on cluster 234, # sequences: 10\n",
        "03:41:31 INFO: running meme/mast on cluster 289, # sequences: 3\n",
        "03:41:25 INFO: running meme/mast on cluster 235, # sequences: 17\n",
        "03:41:32 INFO: running meme/mast on cluster 290, # sequences: 9\n",
        "03:41:29 INFO: running meme/mast on cluster 236, # sequences: 8\n"
       ]
      },
      {
       "output_type": "stream",
       "stream": "stderr",
       "text": [
        "03:41:34 INFO: running meme/mast on cluster 291, # sequences: 6\n",
        "03:41:30 INFO: running meme/mast on cluster 237, # sequences: 12\n",
        "03:41:35 INFO: running meme/mast on cluster 292, # sequences: 3\n",
        "03:41:32 INFO: running meme/mast on cluster 238, # sequences: 15\n",
        "03:41:36 INFO: running meme/mast on cluster 293, # sequences: 10\n",
        "03:41:35 INFO: running meme/mast on cluster 239, # sequences: 15\n",
        "03:41:38 INFO: running meme/mast on cluster 294, # sequences: 9\n",
        "03:41:37 INFO: running meme/mast on cluster 240, # sequences: 6\n",
        "03:41:39 INFO: running meme/mast on cluster 295, # sequences: 7\n",
        "03:41:38 INFO: running meme/mast on cluster 241, # sequences: 12\n",
        "03:41:41 INFO: running meme/mast on cluster 296, # sequences: 4\n",
        "03:41:40 INFO: running meme/mast on cluster 242, # sequences: 13\n",
        "03:41:42 INFO: running meme/mast on cluster 297, # sequences: 8\n",
        "03:41:42 INFO: running meme/mast on cluster 243, # sequences: 16\n",
        "03:41:44 INFO: running meme/mast on cluster 298, # sequences: 4\n",
        "03:41:45 INFO: running meme/mast on cluster 244, # sequences: 10\n",
        "03:41:44 INFO: running meme/mast on cluster 299, # sequences: 13\n",
        "03:41:47 INFO: running meme/mast on cluster 245, # sequences: 4\n",
        "03:41:46 INFO: running meme/mast on cluster 300, # sequences: 3\n",
        "03:41:48 INFO: running meme/mast on cluster 246, # sequences: 7\n",
        "03:41:47 INFO: running meme/mast on cluster 301, # sequences: 12\n",
        "03:41:50 INFO: running meme/mast on cluster 247, # sequences: 7\n",
        "03:41:49 INFO: running meme/mast on cluster 302, # sequences: 20\n",
        "03:41:51 INFO: running meme/mast on cluster 248, # sequences: 9\n",
        "03:41:53 INFO: running meme/mast on cluster 303, # sequences: 11\n",
        "03:41:53 INFO: running meme/mast on cluster 249, # sequences: 8\n",
        "03:41:55 INFO: running meme/mast on cluster 304, # sequences: 3\n",
        "03:41:54 INFO: running meme/mast on cluster 250, # sequences: 13\n",
        "03:41:55 INFO: running meme/mast on cluster 305, # sequences: 3\n",
        "03:41:57 INFO: running meme/mast on cluster 251, # sequences: 10\n",
        "03:41:56 INFO: running meme/mast on cluster 306, # sequences: 14\n",
        "03:41:58 INFO: running meme/mast on cluster 252, # sequences: 6\n",
        "03:41:59 INFO: running meme/mast on cluster 307, # sequences: 5\n",
        "03:42:00 INFO: running meme/mast on cluster 253, # sequences: 8\n",
        "03:42:00 INFO: running meme/mast on cluster 308, # sequences: 10\n",
        "03:42:01 INFO: running meme/mast on cluster 254, # sequences: 8\n",
        "03:42:02 INFO: running meme/mast on cluster 309, # sequences: 1\n",
        "03:42:03 INFO: running meme/mast on cluster 255, # sequences: 7\n",
        "03:42:02 INFO: running meme/mast on cluster 310, # sequences: 6\n",
        "03:42:04 INFO: running meme/mast on cluster 256, # sequences: 4\n",
        "03:42:03 INFO: running meme/mast on cluster 311, # sequences: 6\n",
        "03:42:05 INFO: running meme/mast on cluster 257, # sequences: 4\n",
        "03:42:04 INFO: running meme/mast on cluster 312, # sequences: 8\n",
        "03:42:06 INFO: running meme/mast on cluster 258, # sequences: 4\n",
        "03:42:06 INFO: running meme/mast on cluster 313, # sequences: 3\n",
        "03:42:06 INFO: running meme/mast on cluster 259, # sequences: 7\n",
        "03:42:06 INFO: running meme/mast on cluster 314, # sequences: 18\n",
        "03:42:08 INFO: running meme/mast on cluster 260, # sequences: 7\n",
        "03:42:10 INFO: running meme/mast on cluster 315, # sequences: 9\n",
        "03:42:09 INFO: running meme/mast on cluster 261, # sequences: 7\n",
        "03:42:11 INFO: running meme/mast on cluster 316, # sequences: 4\n",
        "03:42:11 INFO: running meme/mast on cluster 262, # sequences: 4\n",
        "03:42:12 INFO: running meme/mast on cluster 317, # sequences: 4\n",
        "03:42:12 INFO: running meme/mast on cluster 263, # sequences: 18\n",
        "03:42:13 INFO: running meme/mast on cluster 318, # sequences: 5\n",
        "03:42:15 INFO: running meme/mast on cluster 264, # sequences: 4\n",
        "03:42:14 INFO: running meme/mast on cluster 319, # sequences: 5\n",
        "03:42:16 INFO: running meme/mast on cluster 265, # sequences: 11\n",
        "03:42:16 INFO: running meme/mast on cluster 320, # sequences: 13\n",
        "03:42:18 INFO: running meme/mast on cluster 266, # sequences: 16\n",
        "03:42:18 INFO: running meme/mast on cluster 321, # sequences: 1\n",
        "03:42:21 INFO: running meme/mast on cluster 267, # sequences: 7\n",
        "03:42:18 INFO: running meme/mast on cluster 322, # sequences: 10\n",
        "03:42:23 INFO: running meme/mast on cluster 268, # sequences: 10\n",
        "03:42:20 INFO: running meme/mast on cluster 323, # sequences: 1\n",
        "03:42:25 INFO: running meme/mast on cluster 269, # sequences: 3\n",
        "03:42:20 INFO: running meme/mast on cluster 324, # sequences: 5\n",
        "03:42:26 INFO: running meme/mast on cluster 270, # sequences: 6\n",
        "03:42:21 INFO: running meme/mast on cluster 325, # sequences: 16\n",
        "03:42:27 INFO: running meme/mast on cluster 379, # sequences: 3\n",
        "03:42:24 INFO: running meme/mast on cluster 326, # sequences: 13\n",
        "03:42:28 INFO: running meme/mast on cluster 380, # sequences: 2\n",
        "03:42:26 INFO: running meme/mast on cluster 327, # sequences: 11\n",
        "03:42:28 INFO: running meme/mast on cluster 381, # sequences: 17\n",
        "03:42:28 INFO: running meme/mast on cluster 328, # sequences: 13\n",
        "03:42:31 INFO: running meme/mast on cluster 382, # sequences: 5\n",
        "03:42:30 INFO: running meme/mast on cluster 329, # sequences: 18\n",
        "03:42:32 INFO: running meme/mast on cluster 383, # sequences: 8\n",
        "03:42:33 INFO: running meme/mast on cluster 330, # sequences: 4\n",
        "03:42:33 INFO: running meme/mast on cluster 384, # sequences: 2\n",
        "03:42:34 INFO: running meme/mast on cluster 331, # sequences: 4\n",
        "03:42:33 INFO: running meme/mast on cluster 385, # sequences: 8\n",
        "03:42:35 INFO: running meme/mast on cluster 332, # sequences: 2\n",
        "03:42:35 INFO: running meme/mast on cluster 386, # sequences: 5\n",
        "03:42:35 INFO: running meme/mast on cluster 333, # sequences: 4\n",
        "03:42:37 INFO: running meme/mast on cluster 387, # sequences: 8\n",
        "03:42:36 INFO: running meme/mast on cluster 334, # sequences: 5\n",
        "03:42:38 INFO: running meme/mast on cluster 388, # sequences: 5\n",
        "03:42:38 INFO: running meme/mast on cluster 335, # sequences: 8\n",
        "03:42:39 INFO: running meme/mast on cluster 389, # sequences: 10\n",
        "03:42:39 INFO: running meme/mast on cluster 336, # sequences: 18\n",
        "03:42:42 INFO: running meme/mast on cluster 390, # sequences: 9\n",
        "03:42:42 INFO: running meme/mast on cluster 337, # sequences: 2\n",
        "03:42:44 INFO: running meme/mast on cluster 391, # sequences: 4\n",
        "03:42:42 INFO: running meme/mast on cluster 338, # sequences: 12\n",
        "03:42:45 INFO: running meme/mast on cluster 392, # sequences: 7\n",
        "03:42:45 INFO: running meme/mast on cluster 339, # sequences: 22\n",
        "03:42:47 INFO: running meme/mast on cluster 393, # sequences: 2\n",
        "03:42:49 INFO: running meme/mast on cluster 340, # sequences: 15\n",
        "03:42:47 INFO: running meme/mast on cluster 394, # sequences: 1\n",
        "03:42:51 INFO: running meme/mast on cluster 341, # sequences: 6\n",
        "03:42:47 INFO: running meme/mast on cluster 395, # sequences: 2\n",
        "03:42:52 INFO: running meme/mast on cluster 342, # sequences: 2\n",
        "03:42:47 INFO: running meme/mast on cluster 396, # sequences: 8\n",
        "03:42:52 INFO: running meme/mast on cluster 343, # sequences: 11\n",
        "03:42:48 INFO: running meme/mast on cluster 397, # sequences: 2\n",
        "03:42:54 INFO: running meme/mast on cluster 344, # sequences: 7\n",
        "03:42:48 INFO: running meme/mast on cluster 398, # sequences: 9\n",
        "03:42:56 INFO: running meme/mast on cluster 345, # sequences: 2\n",
        "03:42:50 INFO: running meme/mast on cluster 399, # sequences: 5\n",
        "03:42:56 INFO: running meme/mast on cluster 346, # sequences: 11\n",
        "03:42:51 INFO: running meme/mast on cluster 400, # sequences: 1\n",
        "03:42:58 INFO: running meme/mast on cluster 347, # sequences: 1\n",
        "03:42:51 INFO: running meme/mast on cluster 401, # sequences: 13\n",
        "03:42:58 INFO: running meme/mast on cluster 348, # sequences: 6\n",
        "03:42:54 INFO: running meme/mast on cluster 402, # sequences: 6\n",
        "03:42:59 INFO: running meme/mast on cluster 349, # sequences: 3\n",
        "03:42:55 INFO: running meme/mast on cluster 403, # sequences: 8\n",
        "03:43:00 INFO: running meme/mast on cluster 350, # sequences: 6\n",
        "03:42:57 INFO: running meme/mast on cluster 404, # sequences: 4\n",
        "03:43:02 INFO: running meme/mast on cluster 351, # sequences: 5\n",
        "03:42:58 INFO: running meme/mast on cluster 405, # sequences: 15\n",
        "03:43:03 INFO: running meme/mast on cluster 352, # sequences: 10\n",
        "03:43:00 INFO: running meme/mast on cluster 406, # sequences: 5\n",
        "03:43:05 INFO: running meme/mast on cluster 353, # sequences: 4\n",
        "03:43:01 INFO: running meme/mast on cluster 407, # sequences: 15\n",
        "03:43:06 INFO: running meme/mast on cluster 354, # sequences: 4\n",
        "03:43:04 INFO: running meme/mast on cluster 408, # sequences: 9\n"
       ]
      }
     ],
     "prompt_number": 6
    },
    {
     "cell_type": "markdown",
     "metadata": {},
     "source": [
      "Note, it would be nice to run this in the background so the following cell can be used \n",
      "to check status.\n",
      "\n",
      "It is possible, see http://nbviewer.ipython.org/github/adrn/ipython/blob/master/examples/IPython%20Kernel/Background%20Jobs.ipynb"
     ]
    },
    {
     "cell_type": "code",
     "collapsed": true,
     "input": [
      "cm.run_iterations(2)"
     ],
     "language": "python",
     "metadata": {},
     "outputs": [
      {
       "output_type": "stream",
       "stream": "stderr",
       "text": [
        "03:52:09 INFO: Iteration # 2\n",
        "03:43:07 INFO: running meme/mast on cluster 355, # sequences: 7\n",
        "03:43:06 INFO: running meme/mast on cluster 409, # sequences: 12\n",
        "03:43:08 INFO: running meme/mast on cluster 356, # sequences: 5\n",
        "03:43:08 INFO: running meme/mast on cluster 410, # sequences: 9\n",
        "03:43:09 INFO: running meme/mast on cluster 357, # sequences: 1\n",
        "03:43:10 INFO: running meme/mast on cluster 411, # sequences: 10\n",
        "03:43:09 INFO: running meme/mast on cluster 358, # sequences: 20\n",
        "03:43:12 INFO: running meme/mast on cluster 412, # sequences: 3\n",
        "03:43:13 INFO: running meme/mast on cluster 359, # sequences: 5\n",
        "03:43:13 INFO: running meme/mast on cluster 413, # sequences: 7\n",
        "03:43:14 INFO: running meme/mast on cluster 360, # sequences: 4\n",
        "03:43:13 INFO: running meme/mast on cluster 414, # sequences: 5\n",
        "03:43:15 INFO: running meme/mast on cluster 361, # sequences: 16\n",
        "03:43:15 INFO: running meme/mast on cluster 415, # sequences: 13\n",
        "03:43:17 INFO: running meme/mast on cluster 362, # sequences: 9\n",
        "03:43:17 INFO: running meme/mast on cluster 416, # sequences: 28\n",
        "03:43:19 INFO: running meme/mast on cluster 363, # sequences: 4\n",
        "03:43:22 INFO: running meme/mast on cluster 417, # sequences: 4\n",
        "03:43:20 INFO: running meme/mast on cluster 364, # sequences: 5\n",
        "03:43:23 INFO: running meme/mast on cluster 418, # sequences: 4\n",
        "03:43:21 INFO: running meme/mast on cluster 365, # sequences: 6\n",
        "03:43:24 INFO: running meme/mast on cluster 419, # sequences: 10\n",
        "03:43:22 INFO: running meme/mast on cluster 366, # sequences: 5\n",
        "03:43:26 INFO: running meme/mast on cluster 420, # sequences: 8\n",
        "03:43:23 INFO: running meme/mast on cluster 367, # sequences: 5\n",
        "03:43:28 INFO: running meme/mast on cluster 421, # sequences: 12\n",
        "03:43:25 INFO: running meme/mast on cluster 368, # sequences: 2\n",
        "03:43:30 INFO: running meme/mast on cluster 422, # sequences: 13\n",
        "03:43:25 INFO: running meme/mast on cluster 369, # sequences: 5\n",
        "03:43:32 INFO: running meme/mast on cluster 423, # sequences: 2\n",
        "03:43:26 INFO: running meme/mast on cluster 370, # sequences: 7\n",
        "03:43:32 INFO: running meme/mast on cluster 424, # sequences: 2\n",
        "03:43:28 INFO: running meme/mast on cluster 371, # sequences: 2\n",
        "03:43:32 INFO: running meme/mast on cluster 425, # sequences: 4\n",
        "03:43:28 INFO: running meme/mast on cluster 372, # sequences: 13\n",
        "03:43:33 INFO: running meme/mast on cluster 426, # sequences: 5\n",
        "03:43:29 INFO: running meme/mast on cluster 373, # sequences: 8\n",
        "03:43:34 INFO: running meme/mast on cluster 427, # sequences: 12\n",
        "03:43:31 INFO: running meme/mast on cluster 374, # sequences: 7\n",
        "03:43:36 INFO: running meme/mast on cluster 428, # sequences: 5\n",
        "03:43:33 INFO: running meme/mast on cluster 375, # sequences: 2\n",
        "03:43:37 INFO: running meme/mast on cluster 429, # sequences: 13\n",
        "03:43:33 INFO: running meme/mast on cluster 376, # sequences: 2\n",
        "03:43:39 INFO: running meme/mast on cluster 430, # sequences: 5\n",
        "03:43:33 INFO: running meme/mast on cluster 377, # sequences: 5\n",
        "03:43:34 INFO: running meme/mast on cluster 378, # sequences: 9\n"
       ]
      },
      {
       "output_type": "stream",
       "stream": "stderr",
       "text": [
        "03:52:16 INFO: Iteration # 3\n"
       ]
      },
      {
       "output_type": "stream",
       "stream": "stderr",
       "text": [
        "03:52:26 INFO: Iteration # 4\n"
       ]
      },
      {
       "output_type": "stream",
       "stream": "stderr",
       "text": [
        "03:52:32 INFO: Iteration # 5\n"
       ]
      },
      {
       "output_type": "stream",
       "stream": "stderr",
       "text": [
        "03:52:42 INFO: Iteration # 6\n"
       ]
      },
      {
       "output_type": "stream",
       "stream": "stderr",
       "text": [
        "03:52:51 INFO: Iteration # 7\n"
       ]
      },
      {
       "output_type": "stream",
       "stream": "stderr",
       "text": [
        "03:53:00 INFO: Iteration # 8\n"
       ]
      },
      {
       "output_type": "stream",
       "stream": "stderr",
       "text": [
        "03:53:15 INFO: Iteration # 9\n"
       ]
      },
      {
       "output_type": "stream",
       "stream": "stderr",
       "text": [
        "03:53:25 INFO: Iteration # 10\n"
       ]
      },
      {
       "output_type": "stream",
       "stream": "stderr",
       "text": [
        "03:53:35 INFO: Iteration # 11\n"
       ]
      },
      {
       "output_type": "stream",
       "stream": "stderr",
       "text": [
        "03:53:46 INFO: Iteration # 12\n"
       ]
      },
      {
       "output_type": "stream",
       "stream": "stderr",
       "text": [
        "03:53:53 INFO: Iteration # 13\n"
       ]
      },
      {
       "output_type": "stream",
       "stream": "stderr",
       "text": [
        "03:54:03 INFO: Iteration # 14\n"
       ]
      },
      {
       "output_type": "stream",
       "stream": "stderr",
       "text": [
        "03:54:10 INFO: Iteration # 15\n"
       ]
      },
      {
       "output_type": "stream",
       "stream": "stderr",
       "text": [
        "03:54:26 INFO: Iteration # 16\n"
       ]
      },
      {
       "output_type": "stream",
       "stream": "stderr",
       "text": [
        "03:54:35 INFO: Iteration # 17\n"
       ]
      },
      {
       "output_type": "stream",
       "stream": "stderr",
       "text": [
        "03:54:44 INFO: Iteration # 18\n"
       ]
      },
      {
       "output_type": "stream",
       "stream": "stderr",
       "text": [
        "03:54:51 INFO: Iteration # 19\n"
       ]
      },
      {
       "output_type": "stream",
       "stream": "stderr",
       "text": [
        "03:55:00 INFO: Iteration # 20\n"
       ]
      },
      {
       "output_type": "stream",
       "stream": "stderr",
       "text": [
        "03:55:10 INFO: Iteration # 21\n"
       ]
      },
      {
       "output_type": "stream",
       "stream": "stderr",
       "text": [
        "03:55:22 INFO: Iteration # 22\n"
       ]
      },
      {
       "output_type": "stream",
       "stream": "stderr",
       "text": [
        "03:55:36 INFO: Iteration # 23\n"
       ]
      },
      {
       "output_type": "stream",
       "stream": "stderr",
       "text": [
        "03:55:46 INFO: Iteration # 24\n"
       ]
      },
      {
       "output_type": "stream",
       "stream": "stderr",
       "text": [
        "03:55:53 INFO: Iteration # 25\n"
       ]
      },
      {
       "output_type": "stream",
       "stream": "stderr",
       "text": [
        "03:56:02 INFO: Iteration # 26\n"
       ]
      },
      {
       "output_type": "stream",
       "stream": "stderr",
       "text": [
        "03:56:11 INFO: Iteration # 27\n"
       ]
      },
      {
       "output_type": "stream",
       "stream": "stderr",
       "text": [
        "03:56:21 INFO: Iteration # 28\n"
       ]
      },
      {
       "output_type": "stream",
       "stream": "stderr",
       "text": [
        "03:56:28 INFO: Iteration # 29\n"
       ]
      },
      {
       "output_type": "stream",
       "stream": "stderr",
       "text": [
        "03:56:44 INFO: Iteration # 30\n"
       ]
      },
      {
       "output_type": "stream",
       "stream": "stderr",
       "text": [
        "03:56:54 INFO: Iteration # 31\n"
       ]
      },
      {
       "output_type": "stream",
       "stream": "stderr",
       "text": [
        "03:57:05 INFO: Iteration # 32\n"
       ]
      },
      {
       "output_type": "stream",
       "stream": "stderr",
       "text": [
        "03:57:13 INFO: Iteration # 33\n"
       ]
      },
      {
       "output_type": "stream",
       "stream": "stderr",
       "text": [
        "03:57:22 INFO: Iteration # 34\n"
       ]
      },
      {
       "output_type": "stream",
       "stream": "stderr",
       "text": [
        "03:57:29 INFO: Iteration # 35\n"
       ]
      },
      {
       "output_type": "stream",
       "stream": "stderr",
       "text": [
        "03:57:39 INFO: Iteration # 36\n"
       ]
      },
      {
       "output_type": "stream",
       "stream": "stderr",
       "text": [
        "03:57:54 INFO: Iteration # 37\n"
       ]
      },
      {
       "output_type": "stream",
       "stream": "stderr",
       "text": [
        "03:58:04 INFO: Iteration # 38\n"
       ]
      },
      {
       "output_type": "stream",
       "stream": "stderr",
       "text": [
        "03:58:11 INFO: Iteration # 39\n"
       ]
      },
      {
       "output_type": "stream",
       "stream": "stderr",
       "text": [
        "03:58:20 INFO: Iteration # 40\n"
       ]
      },
      {
       "output_type": "stream",
       "stream": "stderr",
       "text": [
        "03:58:30 INFO: Iteration # 41\n"
       ]
      },
      {
       "output_type": "stream",
       "stream": "stderr",
       "text": [
        "03:58:42 INFO: Iteration # 42\n"
       ]
      },
      {
       "output_type": "stream",
       "stream": "stderr",
       "text": [
        "03:58:49 INFO: Iteration # 43\n"
       ]
      },
      {
       "output_type": "stream",
       "stream": "stderr",
       "text": [
        "03:59:05 INFO: Iteration # 44\n"
       ]
      },
      {
       "output_type": "stream",
       "stream": "stderr",
       "text": [
        "03:59:12 INFO: Iteration # 45\n"
       ]
      },
      {
       "output_type": "stream",
       "stream": "stderr",
       "text": [
        "03:59:22 INFO: Iteration # 46\n"
       ]
      },
      {
       "output_type": "stream",
       "stream": "stderr",
       "text": [
        "03:59:31 INFO: Iteration # 47\n"
       ]
      },
      {
       "output_type": "stream",
       "stream": "stderr",
       "text": [
        "03:59:40 INFO: Iteration # 48\n"
       ]
      },
      {
       "output_type": "stream",
       "stream": "stderr",
       "text": [
        "03:59:47 INFO: Iteration # 49\n"
       ]
      },
      {
       "output_type": "stream",
       "stream": "stderr",
       "text": [
        "03:59:57 INFO: Iteration # 50\n"
       ]
      },
      {
       "output_type": "stream",
       "stream": "stderr",
       "text": [
        "04:00:14 INFO: Iteration # 51\n"
       ]
      },
      {
       "output_type": "stream",
       "stream": "stderr",
       "text": [
        "04:00:25 INFO: Iteration # 52\n"
       ]
      },
      {
       "output_type": "stream",
       "stream": "stderr",
       "text": [
        "04:00:32 INFO: Iteration # 53\n"
       ]
      },
      {
       "output_type": "stream",
       "stream": "stderr",
       "text": [
        "04:00:42 INFO: Iteration # 54\n"
       ]
      },
      {
       "output_type": "stream",
       "stream": "stderr",
       "text": [
        "04:00:49 INFO: Iteration # 55\n"
       ]
      },
      {
       "output_type": "stream",
       "stream": "stderr",
       "text": [
        "04:00:59 INFO: Iteration # 56\n"
       ]
      },
      {
       "output_type": "stream",
       "stream": "stderr",
       "text": [
        "04:01:07 INFO: Iteration # 57\n"
       ]
      },
      {
       "output_type": "stream",
       "stream": "stderr",
       "text": [
        "04:01:24 INFO: Iteration # 58\n"
       ]
      },
      {
       "output_type": "stream",
       "stream": "stderr",
       "text": [
        "04:01:30 INFO: Iteration # 59\n"
       ]
      },
      {
       "output_type": "stream",
       "stream": "stderr",
       "text": [
        "04:01:40 INFO: Iteration # 60\n"
       ]
      },
      {
       "output_type": "stream",
       "stream": "stderr",
       "text": [
        "04:01:50 INFO: Iteration # 61\n"
       ]
      },
      {
       "output_type": "stream",
       "stream": "stderr",
       "text": [
        "04:02:02 INFO: Iteration # 62\n"
       ]
      },
      {
       "output_type": "stream",
       "stream": "stderr",
       "text": [
        "04:02:09 INFO: Iteration # 63\n"
       ]
      },
      {
       "output_type": "stream",
       "stream": "stderr",
       "text": [
        "04:02:19 INFO: Iteration # 64\n"
       ]
      },
      {
       "output_type": "stream",
       "stream": "stderr",
       "text": [
        "04:02:32 INFO: Iteration # 65\n"
       ]
      },
      {
       "output_type": "stream",
       "stream": "stderr",
       "text": [
        "04:02:42 INFO: Iteration # 66\n"
       ]
      },
      {
       "output_type": "stream",
       "stream": "stderr",
       "text": [
        "04:02:51 INFO: Iteration # 67\n"
       ]
      },
      {
       "output_type": "stream",
       "stream": "stderr",
       "text": [
        "04:03:00 INFO: Iteration # 68\n"
       ]
      },
      {
       "output_type": "stream",
       "stream": "stderr",
       "text": [
        "04:03:07 INFO: Iteration # 69\n"
       ]
      },
      {
       "output_type": "stream",
       "stream": "stderr",
       "text": [
        "04:03:17 INFO: Iteration # 70\n"
       ]
      },
      {
       "output_type": "stream",
       "stream": "stderr",
       "text": [
        "04:03:27 INFO: Iteration # 71\n"
       ]
      },
      {
       "output_type": "stream",
       "stream": "stderr",
       "text": [
        "04:03:45 INFO: Iteration # 72\n"
       ]
      },
      {
       "output_type": "stream",
       "stream": "stderr",
       "text": [
        "04:03:52 INFO: Iteration # 73\n"
       ]
      },
      {
       "output_type": "stream",
       "stream": "stderr",
       "text": [
        "04:04:02 INFO: Iteration # 74\n"
       ]
      },
      {
       "output_type": "stream",
       "stream": "stderr",
       "text": [
        "04:04:09 INFO: Iteration # 75\n"
       ]
      },
      {
       "output_type": "stream",
       "stream": "stderr",
       "text": [
        "04:04:18 INFO: Iteration # 76\n"
       ]
      },
      {
       "output_type": "stream",
       "stream": "stderr",
       "text": [
        "04:04:27 INFO: Iteration # 77\n"
       ]
      },
      {
       "output_type": "stream",
       "stream": "stderr",
       "text": [
        "04:04:37 INFO: Iteration # 78\n"
       ]
      },
      {
       "output_type": "stream",
       "stream": "stderr",
       "text": [
        "04:04:51 INFO: Iteration # 79\n"
       ]
      },
      {
       "output_type": "stream",
       "stream": "stderr",
       "text": [
        "04:05:00 INFO: Iteration # 80\n"
       ]
      },
      {
       "output_type": "stream",
       "stream": "stderr",
       "text": [
        "04:05:11 INFO: Iteration # 81\n"
       ]
      },
      {
       "output_type": "stream",
       "stream": "stderr",
       "text": [
        "04:05:22 INFO: Iteration # 82\n"
       ]
      },
      {
       "output_type": "stream",
       "stream": "stderr",
       "text": [
        "04:05:29 INFO: Iteration # 83\n"
       ]
      },
      {
       "output_type": "stream",
       "stream": "stderr",
       "text": [
        "04:05:39 INFO: Iteration # 84\n"
       ]
      },
      {
       "output_type": "stream",
       "stream": "stderr",
       "text": [
        "04:05:46 INFO: Iteration # 85\n"
       ]
      },
      {
       "output_type": "stream",
       "stream": "stderr",
       "text": [
        "04:06:02 INFO: Iteration # 86\n"
       ]
      },
      {
       "output_type": "stream",
       "stream": "stderr",
       "text": [
        "04:06:11 INFO: Iteration # 87\n"
       ]
      },
      {
       "output_type": "stream",
       "stream": "stderr",
       "text": [
        "04:06:21 INFO: Iteration # 88\n"
       ]
      },
      {
       "output_type": "stream",
       "stream": "stderr",
       "text": [
        "04:06:28 INFO: Iteration # 89\n"
       ]
      },
      {
       "output_type": "stream",
       "stream": "stderr",
       "text": [
        "04:06:38 INFO: Iteration # 90\n"
       ]
      },
      {
       "output_type": "stream",
       "stream": "stderr",
       "text": [
        "04:06:48 INFO: Iteration # 91\n"
       ]
      },
      {
       "output_type": "stream",
       "stream": "stderr",
       "text": [
        "04:07:00 INFO: Iteration # 92\n"
       ]
      },
      {
       "output_type": "stream",
       "stream": "stderr",
       "text": [
        "04:07:14 INFO: Iteration # 93\n"
       ]
      },
      {
       "output_type": "stream",
       "stream": "stderr",
       "text": [
        "04:07:23 INFO: Iteration # 94\n"
       ]
      },
      {
       "output_type": "stream",
       "stream": "stderr",
       "text": [
        "04:07:30 INFO: Iteration # 95\n"
       ]
      },
      {
       "output_type": "stream",
       "stream": "stderr",
       "text": [
        "04:07:40 INFO: Iteration # 96\n"
       ]
      },
      {
       "output_type": "stream",
       "stream": "stderr",
       "text": [
        "04:07:48 INFO: Iteration # 97\n"
       ]
      },
      {
       "output_type": "stream",
       "stream": "stderr",
       "text": [
        "04:07:58 INFO: Iteration # 98\n"
       ]
      },
      {
       "output_type": "stream",
       "stream": "stderr",
       "text": [
        "04:08:05 INFO: Iteration # 99\n"
       ]
      },
      {
       "output_type": "stream",
       "stream": "stderr",
       "text": [
        "04:08:21 INFO: Iteration # 100\n"
       ]
      },
      {
       "output_type": "stream",
       "stream": "stderr",
       "text": [
        "04:08:31 INFO: Iteration # 101\n"
       ]
      },
      {
       "output_type": "stream",
       "stream": "stderr",
       "text": [
        "04:08:38 ERROR: No sequences read for eco!\n",
        "04:08:38 ERROR: No sequences read for eco!\n",
        "04:08:38 WARNING: Cluster 36 with 0 genes: no sequences!\n",
        "04:08:38 WARNING: Cluster 94 with 0 genes: no sequences!\n",
        "04:08:47 ERROR: No sequences read for eco!\n",
        "04:08:47 WARNING: Cluster 309 with 0 genes: no sequences!\n",
        "04:08:51 ERROR: No sequences read for eco!\n",
        "04:08:51 WARNING: Cluster 355 with 0 genes: no sequences!\n"
       ]
      },
      {
       "output_type": "stream",
       "stream": "stderr",
       "text": [
        "04:08:53 INFO: running meme/mast on cluster 1, # sequences: 13\n",
        "04:08:53 INFO: running meme/mast on cluster 55, # sequences: 21\n",
        "04:08:55 INFO: running meme/mast on cluster 2, # sequences: 23\n",
        "04:08:57 INFO: running meme/mast on cluster 56, # sequences: 8\n",
        "04:09:00 INFO: running meme/mast on cluster 3, # sequences: 15\n",
        "04:08:59 INFO: running meme/mast on cluster 57, # sequences: 15\n",
        "04:09:02 INFO: running meme/mast on cluster 4, # sequences: 6\n",
        "04:09:02 INFO: running meme/mast on cluster 58, # sequences: 13\n",
        "04:09:04 INFO: running meme/mast on cluster 5, # sequences: 5\n",
        "04:09:04 INFO: running meme/mast on cluster 59, # sequences: 5\n",
        "04:09:05 INFO: running meme/mast on cluster 6, # sequences: 31\n",
        "04:09:05 INFO: running meme/mast on cluster 60, # sequences: 40\n",
        "04:09:10 INFO: running meme/mast on cluster 7, # sequences: 2\n",
        "04:09:14 INFO: running meme/mast on cluster 61, # sequences: 15\n",
        "04:09:10 INFO: running meme/mast on cluster 8, # sequences: 22\n",
        "04:09:16 INFO: running meme/mast on cluster 62, # sequences: 25\n",
        "04:09:14 INFO: running meme/mast on cluster 9, # sequences: 24\n",
        "04:09:21 INFO: running meme/mast on cluster 63, # sequences: 14\n",
        "04:09:19 INFO: running meme/mast on cluster 10, # sequences: 12\n",
        "04:09:24 INFO: running meme/mast on cluster 64, # sequences: 18\n",
        "04:09:21 INFO: running meme/mast on cluster 11, # sequences: 19\n",
        "04:09:27 INFO: running meme/mast on cluster 65, # sequences: 10\n",
        "04:09:24 INFO: running meme/mast on cluster 12, # sequences: 16\n",
        "04:09:29 INFO: running meme/mast on cluster 66, # sequences: 20\n",
        "04:09:26 INFO: running meme/mast on cluster 13, # sequences: 23\n",
        "04:09:32 INFO: running meme/mast on cluster 67, # sequences: 29\n",
        "04:09:31 INFO: running meme/mast on cluster 14, # sequences: 29\n",
        "04:09:38 INFO: running meme/mast on cluster 68, # sequences: 35\n",
        "04:09:36 INFO: running meme/mast on cluster 15, # sequences: 16\n",
        "04:09:45 INFO: running meme/mast on cluster 69, # sequences: 22\n",
        "04:09:39 INFO: running meme/mast on cluster 16, # sequences: 23\n",
        "04:09:49 INFO: running meme/mast on cluster 70, # sequences: 17\n",
        "04:09:43 INFO: running meme/mast on cluster 17, # sequences: 14\n",
        "04:09:52 INFO: running meme/mast on cluster 71, # sequences: 26\n",
        "04:09:45 INFO: running meme/mast on cluster 18, # sequences: 9\n",
        "04:09:57 INFO: running meme/mast on cluster 72, # sequences: 14\n",
        "04:09:47 INFO: running meme/mast on cluster 19, # sequences: 17\n",
        "04:09:59 INFO: running meme/mast on cluster 73, # sequences: 14\n",
        "04:09:50 INFO: running meme/mast on cluster 20, # sequences: 14\n",
        "04:10:01 INFO: running meme/mast on cluster 74, # sequences: 11\n",
        "04:09:52 INFO: running meme/mast on cluster 21, # sequences: 30\n",
        "04:10:03 INFO: running meme/mast on cluster 75, # sequences: 15\n",
        "04:09:57 INFO: running meme/mast on cluster 22, # sequences: 22\n",
        "04:10:05 INFO: running meme/mast on cluster 76, # sequences: 1\n",
        "04:10:01 INFO: running meme/mast on cluster 23, # sequences: 10\n",
        "04:10:05 INFO: running meme/mast on cluster 77, # sequences: 3\n",
        "04:10:04 INFO: running meme/mast on cluster 24, # sequences: 9\n",
        "04:10:07 INFO: running meme/mast on cluster 78, # sequences: 19\n",
        "04:10:05 INFO: running meme/mast on cluster 25, # sequences: 2\n",
        "04:10:10 INFO: running meme/mast on cluster 79, # sequences: 40\n",
        "04:10:05 INFO: running meme/mast on cluster 26, # sequences: 10\n",
        "04:10:19 INFO: running meme/mast on cluster 80, # sequences: 12\n",
        "04:10:07 INFO: running meme/mast on cluster 27, # sequences: 35\n",
        "04:10:21 INFO: running meme/mast on cluster 81, # sequences: 12\n",
        "04:10:14 INFO: running meme/mast on cluster 28, # sequences: 26\n",
        "04:10:24 INFO: running meme/mast on cluster 82, # sequences: 21\n",
        "04:10:19 INFO: running meme/mast on cluster 29, # sequences: 14\n",
        "04:10:27 INFO: running meme/mast on cluster 83, # sequences: 20\n",
        "04:10:21 INFO: running meme/mast on cluster 30, # sequences: 17\n",
        "04:10:31 INFO: running meme/mast on cluster 84, # sequences: 4\n",
        "04:10:24 INFO: running meme/mast on cluster 31, # sequences: 20\n",
        "04:10:31 INFO: running meme/mast on cluster 85, # sequences: 11\n",
        "04:10:27 INFO: running meme/mast on cluster 32, # sequences: 5\n",
        "04:10:34 INFO: running meme/mast on cluster 86, # sequences: 28\n",
        "04:10:29 INFO: running meme/mast on cluster 33, # sequences: 36\n",
        "04:10:39 INFO: running meme/mast on cluster 87, # sequences: 11\n",
        "04:10:37 INFO: running meme/mast on cluster 34, # sequences: 13\n",
        "04:10:41 INFO: running meme/mast on cluster 88, # sequences: 22\n",
        "04:10:39 INFO: running meme/mast on cluster 35, # sequences: 23\n",
        "04:10:46 INFO: running meme/mast on cluster 89, # sequences: 18\n",
        "04:10:43 INFO: running meme/mast on cluster 36, # sequences: 0\n",
        "04:10:50 INFO: running meme/mast on cluster 90, # sequences: 21\n",
        "04:10:43 INFO: running meme/mast on cluster 37, # sequences: 24\n",
        "04:10:54 INFO: running meme/mast on cluster 91, # sequences: 21\n",
        "04:10:48 INFO: running meme/mast on cluster 38, # sequences: 24\n",
        "04:10:57 INFO: running meme/mast on cluster 92, # sequences: 7\n",
        "04:10:53 INFO: running meme/mast on cluster 39, # sequences: 26\n",
        "04:10:59 INFO: running meme/mast on cluster 93, # sequences: 21\n",
        "04:10:57 INFO: running meme/mast on cluster 40, # sequences: 9\n",
        "04:11:03 INFO: running meme/mast on cluster 94, # sequences: 0\n",
        "04:10:59 INFO: running meme/mast on cluster 41, # sequences: 6\n",
        "04:11:03 INFO: running meme/mast on cluster 95, # sequences: 13\n",
        "04:11:00 INFO: running meme/mast on cluster 42, # sequences: 20\n",
        "04:11:05 INFO: running meme/mast on cluster 96, # sequences: 46\n",
        "04:11:03 INFO: running meme/mast on cluster 43, # sequences: 8\n",
        "04:11:15 INFO: running meme/mast on cluster 97, # sequences: 19\n",
        "04:11:05 INFO: running meme/mast on cluster 44, # sequences: 19\n",
        "04:11:18 INFO: running meme/mast on cluster 98, # sequences: 27\n",
        "04:11:08 INFO: running meme/mast on cluster 45, # sequences: 14\n",
        "04:11:23 INFO: running meme/mast on cluster 99, # sequences: 25\n",
        "04:11:10 INFO: running meme/mast on cluster 46, # sequences: 19\n",
        "04:11:27 INFO: running meme/mast on cluster 100, # sequences: 11\n",
        "04:11:14 INFO: running meme/mast on cluster 47, # sequences: 22\n",
        "04:11:29 INFO: running meme/mast on cluster 101, # sequences: 29\n",
        "04:11:18 INFO: running meme/mast on cluster 48, # sequences: 19\n",
        "04:11:35 INFO: running meme/mast on cluster 102, # sequences: 5\n",
        "04:11:21 INFO: running meme/mast on cluster 49, # sequences: 24\n",
        "04:11:36 INFO: running meme/mast on cluster 103, # sequences: 32\n",
        "04:11:25 INFO: running meme/mast on cluster 50, # sequences: 25\n",
        "04:11:42 INFO: running meme/mast on cluster 104, # sequences: 26\n",
        "04:11:31 INFO: running meme/mast on cluster 51, # sequences: 10\n",
        "04:11:47 INFO: running meme/mast on cluster 105, # sequences: 23\n",
        "04:11:32 INFO: running meme/mast on cluster 52, # sequences: 6\n",
        "04:11:51 INFO: running meme/mast on cluster 106, # sequences: 18\n",
        "04:11:34 INFO: running meme/mast on cluster 53, # sequences: 29\n",
        "04:11:55 INFO: running meme/mast on cluster 107, # sequences: 15\n",
        "04:11:39 INFO: running meme/mast on cluster 54, # sequences: 12\n",
        "04:11:57 INFO: running meme/mast on cluster 108, # sequences: 7\n",
        "04:11:41 INFO: running meme/mast on cluster 109, # sequences: 19\n",
        "04:11:58 INFO: running meme/mast on cluster 163, # sequences: 27\n",
        "04:11:44 INFO: running meme/mast on cluster 110, # sequences: 22\n",
        "04:12:04 INFO: running meme/mast on cluster 164, # sequences: 8\n",
        "04:11:48 INFO: running meme/mast on cluster 111, # sequences: 12\n",
        "04:12:05 INFO: running meme/mast on cluster 165, # sequences: 29\n",
        "04:11:50 INFO: running meme/mast on cluster 112, # sequences: 18\n",
        "04:12:11 INFO: running meme/mast on cluster 166, # sequences: 15\n",
        "04:11:54 INFO: running meme/mast on cluster 113, # sequences: 24\n",
        "04:12:13 INFO: running meme/mast on cluster 167, # sequences: 37\n",
        "04:11:58 INFO: running meme/mast on cluster 114, # sequences: 10\n",
        "04:12:21 INFO: running meme/mast on cluster 168, # sequences: 19\n",
        "04:12:00 INFO: running meme/mast on cluster 115, # sequences: 26\n",
        "04:12:25 INFO: running meme/mast on cluster 169, # sequences: 7\n",
        "04:12:05 INFO: running meme/mast on cluster 116, # sequences: 18\n",
        "04:12:26 INFO: running meme/mast on cluster 170, # sequences: 11\n",
        "04:12:08 INFO: running meme/mast on cluster 117, # sequences: 24\n",
        "04:12:28 INFO: running meme/mast on cluster 171, # sequences: 14\n",
        "04:12:13 INFO: running meme/mast on cluster 118, # sequences: 13\n",
        "04:12:31 INFO: running meme/mast on cluster 172, # sequences: 17\n"
       ]
      },
      {
       "output_type": "stream",
       "stream": "stderr",
       "text": [
        "04:12:14 INFO: running meme/mast on cluster 119, # sequences: 20\n",
        "04:12:33 INFO: running meme/mast on cluster 173, # sequences: 22\n",
        "04:12:18 INFO: running meme/mast on cluster 120, # sequences: 16\n",
        "04:12:37 INFO: running meme/mast on cluster 174, # sequences: 11\n",
        "04:12:20 INFO: running meme/mast on cluster 121, # sequences: 25\n",
        "04:12:39 INFO: running meme/mast on cluster 175, # sequences: 7\n",
        "04:12:25 INFO: running meme/mast on cluster 122, # sequences: 32\n",
        "04:12:41 INFO: running meme/mast on cluster 176, # sequences: 13\n",
        "04:12:31 INFO: running meme/mast on cluster 123, # sequences: 4\n",
        "04:12:43 INFO: running meme/mast on cluster 177, # sequences: 13\n",
        "04:12:32 INFO: running meme/mast on cluster 124, # sequences: 21\n",
        "04:12:45 INFO: running meme/mast on cluster 178, # sequences: 18\n",
        "04:12:36 INFO: running meme/mast on cluster 125, # sequences: 29\n",
        "04:12:48 INFO: running meme/mast on cluster 179, # sequences: 22\n",
        "04:12:41 INFO: running meme/mast on cluster 126, # sequences: 29\n",
        "04:12:51 INFO: running meme/mast on cluster 180, # sequences: 20\n",
        "04:12:46 INFO: running meme/mast on cluster 127, # sequences: 16\n",
        "04:12:55 INFO: running meme/mast on cluster 181, # sequences: 8\n",
        "04:12:49 INFO: running meme/mast on cluster 128, # sequences: 9\n",
        "04:12:56 INFO: running meme/mast on cluster 182, # sequences: 13\n",
        "04:12:51 INFO: running meme/mast on cluster 129, # sequences: 17\n",
        "04:12:58 INFO: running meme/mast on cluster 183, # sequences: 5\n",
        "04:12:54 INFO: running meme/mast on cluster 130, # sequences: 8\n",
        "04:12:59 INFO: running meme/mast on cluster 184, # sequences: 24\n",
        "04:12:55 INFO: running meme/mast on cluster 131, # sequences: 9\n",
        "04:13:04 INFO: running meme/mast on cluster 185, # sequences: 10\n",
        "04:12:57 INFO: running meme/mast on cluster 132, # sequences: 5\n",
        "04:13:06 INFO: running meme/mast on cluster 186, # sequences: 7\n",
        "04:12:58 INFO: running meme/mast on cluster 133, # sequences: 17\n",
        "04:13:07 INFO: running meme/mast on cluster 187, # sequences: 9\n",
        "04:13:01 INFO: running meme/mast on cluster 134, # sequences: 26\n",
        "04:13:09 INFO: running meme/mast on cluster 188, # sequences: 16\n",
        "04:13:05 INFO: running meme/mast on cluster 135, # sequences: 18\n",
        "04:13:11 INFO: running meme/mast on cluster 189, # sequences: 32\n",
        "04:13:08 INFO: running meme/mast on cluster 136, # sequences: 8\n",
        "04:13:17 INFO: running meme/mast on cluster 190, # sequences: 5\n",
        "04:13:10 INFO: running meme/mast on cluster 137, # sequences: 14\n",
        "04:13:18 INFO: running meme/mast on cluster 191, # sequences: 23\n",
        "04:13:12 INFO: running meme/mast on cluster 138, # sequences: 7\n",
        "04:13:22 INFO: running meme/mast on cluster 192, # sequences: 12\n",
        "04:13:14 INFO: running meme/mast on cluster 139, # sequences: 13\n",
        "04:13:24 INFO: running meme/mast on cluster 193, # sequences: 50\n",
        "04:13:16 INFO: running meme/mast on cluster 140, # sequences: 22\n",
        "04:13:36 INFO: running meme/mast on cluster 194, # sequences: 37\n",
        "04:13:20 INFO: running meme/mast on cluster 141, # sequences: 14\n",
        "04:13:44 INFO: running meme/mast on cluster 195, # sequences: 24\n",
        "04:13:23 INFO: running meme/mast on cluster 142, # sequences: 18\n",
        "04:13:48 INFO: running meme/mast on cluster 196, # sequences: 37\n",
        "04:13:26 INFO: running meme/mast on cluster 143, # sequences: 4\n",
        "04:13:56 INFO: running meme/mast on cluster 197, # sequences: 17\n",
        "04:13:27 INFO: running meme/mast on cluster 144, # sequences: 17\n",
        "04:13:59 INFO: running meme/mast on cluster 198, # sequences: 26\n",
        "04:13:30 INFO: running meme/mast on cluster 145, # sequences: 16\n",
        "04:14:03 INFO: running meme/mast on cluster 199, # sequences: 11\n",
        "04:13:32 INFO: running meme/mast on cluster 146, # sequences: 37\n",
        "04:14:05 INFO: running meme/mast on cluster 200, # sequences: 18\n",
        "04:13:40 INFO: running meme/mast on cluster 147, # sequences: 17\n",
        "04:14:09 INFO: running meme/mast on cluster 201, # sequences: 43\n",
        "04:13:43 INFO: running meme/mast on cluster 148, # sequences: 4\n",
        "04:14:18 INFO: running meme/mast on cluster 202, # sequences: 26\n",
        "04:13:45 INFO: running meme/mast on cluster 149, # sequences: 19\n",
        "04:14:23 INFO: running meme/mast on cluster 203, # sequences: 7\n",
        "04:13:48 INFO: running meme/mast on cluster 150, # sequences: 6\n",
        "04:14:24 INFO: running meme/mast on cluster 204, # sequences: 15\n",
        "04:13:50 INFO: running meme/mast on cluster 151, # sequences: 20\n",
        "04:14:27 INFO: running meme/mast on cluster 205, # sequences: 25\n",
        "04:13:53 INFO: running meme/mast on cluster 152, # sequences: 12\n",
        "04:14:31 INFO: running meme/mast on cluster 206, # sequences: 23\n",
        "04:13:55 INFO: running meme/mast on cluster 153, # sequences: 30\n",
        "04:14:35 INFO: running meme/mast on cluster 207, # sequences: 16\n",
        "04:14:01 INFO: running meme/mast on cluster 154, # sequences: 14\n",
        "04:14:38 INFO: running meme/mast on cluster 208, # sequences: 8\n",
        "04:14:03 INFO: running meme/mast on cluster 155, # sequences: 20\n",
        "04:14:39 INFO: running meme/mast on cluster 209, # sequences: 12\n",
        "04:14:06 INFO: running meme/mast on cluster 156, # sequences: 6\n",
        "04:14:42 INFO: running meme/mast on cluster 210, # sequences: 9\n",
        "04:14:08 INFO: running meme/mast on cluster 157, # sequences: 2\n",
        "04:14:43 INFO: running meme/mast on cluster 211, # sequences: 14\n",
        "04:14:08 INFO: running meme/mast on cluster 158, # sequences: 8\n",
        "04:14:45 INFO: running meme/mast on cluster 212, # sequences: 21\n",
        "04:14:10 INFO: running meme/mast on cluster 159, # sequences: 16\n",
        "04:14:49 INFO: running meme/mast on cluster 213, # sequences: 14\n",
        "04:14:12 INFO: running meme/mast on cluster 160, # sequences: 8\n",
        "04:14:52 INFO: running meme/mast on cluster 214, # sequences: 4\n",
        "04:14:14 INFO: running meme/mast on cluster 161, # sequences: 17\n",
        "04:14:53 INFO: running meme/mast on cluster 215, # sequences: 36\n",
        "04:14:17 INFO: running meme/mast on cluster 162, # sequences: 23\n",
        "04:15:00 WARNING: there is an exception thrown in MAST: FATAL: No input motifs pass the E-value (-mev) threshold 99999.\n",
        "\n",
        "\n",
        "04:14:21 INFO: running meme/mast on cluster 217, # sequences: 41\n",
        "04:15:00 INFO: running meme/mast on cluster 216, # sequences: 9\n",
        "04:14:30 INFO: running meme/mast on cluster 218, # sequences: 12\n",
        "04:15:02 INFO: running meme/mast on cluster 271, # sequences: 20\n",
        "04:14:32 INFO: running meme/mast on cluster 219, # sequences: 16\n",
        "04:15:06 INFO: running meme/mast on cluster 272, # sequences: 4\n",
        "04:14:35 INFO: running meme/mast on cluster 220, # sequences: 27\n",
        "04:15:07 INFO: running meme/mast on cluster 273, # sequences: 11\n",
        "04:14:40 INFO: running meme/mast on cluster 221, # sequences: 8\n",
        "04:15:09 INFO: running meme/mast on cluster 274, # sequences: 9\n",
        "04:14:41 INFO: running meme/mast on cluster 222, # sequences: 30\n",
        "04:15:10 INFO: running meme/mast on cluster 275, # sequences: 26\n",
        "04:14:47 INFO: running meme/mast on cluster 223, # sequences: 10\n",
        "04:15:15 INFO: running meme/mast on cluster 276, # sequences: 23\n",
        "04:14:49 INFO: running meme/mast on cluster 224, # sequences: 16\n",
        "04:15:19 INFO: running meme/mast on cluster 277, # sequences: 23\n",
        "04:14:51 INFO: running meme/mast on cluster 225, # sequences: 23\n",
        "04:15:23 INFO: running meme/mast on cluster 278, # sequences: 22\n",
        "04:14:56 INFO: running meme/mast on cluster 226, # sequences: 18\n",
        "04:15:27 INFO: running meme/mast on cluster 279, # sequences: 9\n",
        "04:15:00 INFO: running meme/mast on cluster 227, # sequences: 23\n",
        "04:15:29 INFO: running meme/mast on cluster 280, # sequences: 11\n",
        "04:15:04 INFO: running meme/mast on cluster 228, # sequences: 35\n",
        "04:15:31 INFO: running meme/mast on cluster 281, # sequences: 15\n",
        "04:15:11 INFO: running meme/mast on cluster 229, # sequences: 21\n",
        "04:15:33 INFO: running meme/mast on cluster 282, # sequences: 5\n",
        "04:15:14 WARNING: there is an exception thrown in MAST: FATAL: No input motifs pass the E-value (-mev) threshold 99999.\n",
        "\n",
        "\n",
        "04:15:34 INFO: running meme/mast on cluster 283, # sequences: 19\n",
        "04:15:14 INFO: running meme/mast on cluster 230, # sequences: 28\n",
        "04:15:38 INFO: running meme/mast on cluster 284, # sequences: 15\n",
        "04:15:19 INFO: running meme/mast on cluster 231, # sequences: 14\n",
        "04:15:40 INFO: running meme/mast on cluster 285, # sequences: 6\n",
        "04:15:21 INFO: running meme/mast on cluster 232, # sequences: 15\n",
        "04:15:42 INFO: running meme/mast on cluster 286, # sequences: 24\n",
        "04:15:24 INFO: running meme/mast on cluster 233, # sequences: 20\n",
        "04:15:47 INFO: running meme/mast on cluster 287, # sequences: 6\n",
        "04:15:27 INFO: running meme/mast on cluster 234, # sequences: 16\n",
        "04:15:48 INFO: running meme/mast on cluster 288, # sequences: 12\n",
        "04:15:30 INFO: running meme/mast on cluster 235, # sequences: 13\n",
        "04:15:50 INFO: running meme/mast on cluster 289, # sequences: 7\n"
       ]
      },
      {
       "output_type": "stream",
       "stream": "stderr",
       "text": [
        "04:20:56 INFO: Iteration # 102\n",
        "04:15:32 INFO: running meme/mast on cluster 236, # sequences: 23\n",
        "04:15:51 INFO: running meme/mast on cluster 290, # sequences: 21\n",
        "04:15:36 INFO: running meme/mast on cluster 237, # sequences: 4\n",
        "04:15:55 INFO: running meme/mast on cluster 291, # sequences: 18\n",
        "04:15:37 INFO: running meme/mast on cluster 238, # sequences: 31\n",
        "04:15:58 INFO: running meme/mast on cluster 292, # sequences: 19\n",
        "04:15:43 INFO: running meme/mast on cluster 239, # sequences: 16\n",
        "04:16:01 INFO: running meme/mast on cluster 293, # sequences: 25\n",
        "04:15:46 INFO: running meme/mast on cluster 240, # sequences: 38\n",
        "04:16:06 INFO: running meme/mast on cluster 294, # sequences: 21\n",
        "04:15:55 INFO: running meme/mast on cluster 241, # sequences: 46\n",
        "04:16:10 INFO: running meme/mast on cluster 295, # sequences: 23\n",
        "04:16:06 INFO: running meme/mast on cluster 242, # sequences: 17\n",
        "04:16:14 INFO: running meme/mast on cluster 296, # sequences: 18\n",
        "04:16:10 INFO: running meme/mast on cluster 243, # sequences: 9\n",
        "04:16:18 INFO: running meme/mast on cluster 297, # sequences: 4\n",
        "04:16:11 INFO: running meme/mast on cluster 244, # sequences: 12\n",
        "04:16:19 INFO: running meme/mast on cluster 298, # sequences: 16\n",
        "04:16:14 INFO: running meme/mast on cluster 245, # sequences: 18\n",
        "04:16:21 INFO: running meme/mast on cluster 299, # sequences: 6\n",
        "04:16:16 INFO: running meme/mast on cluster 246, # sequences: 23\n",
        "04:16:23 INFO: running meme/mast on cluster 300, # sequences: 23\n",
        "04:16:21 INFO: running meme/mast on cluster 247, # sequences: 27\n",
        "04:16:26 INFO: running meme/mast on cluster 301, # sequences: 13\n",
        "04:16:25 INFO: running meme/mast on cluster 248, # sequences: 19\n",
        "04:16:29 INFO: running meme/mast on cluster 302, # sequences: 36\n",
        "04:16:29 INFO: running meme/mast on cluster 249, # sequences: 3\n",
        "04:16:37 INFO: running meme/mast on cluster 303, # sequences: 5\n",
        "04:16:30 INFO: running meme/mast on cluster 250, # sequences: 15\n",
        "04:16:38 INFO: running meme/mast on cluster 304, # sequences: 29\n",
        "04:16:32 INFO: running meme/mast on cluster 251, # sequences: 24\n",
        "04:16:44 INFO: running meme/mast on cluster 305, # sequences: 9\n",
        "04:16:37 INFO: running meme/mast on cluster 252, # sequences: 21\n",
        "04:16:46 INFO: running meme/mast on cluster 306, # sequences: 16\n",
        "04:16:41 INFO: running meme/mast on cluster 253, # sequences: 14\n",
        "04:16:48 INFO: running meme/mast on cluster 307, # sequences: 17\n",
        "04:16:43 INFO: running meme/mast on cluster 254, # sequences: 14\n",
        "04:16:52 INFO: running meme/mast on cluster 308, # sequences: 44\n",
        "04:16:45 INFO: running meme/mast on cluster 255, # sequences: 14\n",
        "04:17:01 INFO: running meme/mast on cluster 309, # sequences: 0\n",
        "04:16:47 INFO: running meme/mast on cluster 256, # sequences: 16\n",
        "04:17:01 INFO: running meme/mast on cluster 310, # sequences: 5\n",
        "04:16:51 INFO: running meme/mast on cluster 257, # sequences: 15\n",
        "04:17:03 INFO: running meme/mast on cluster 311, # sequences: 7\n",
        "04:16:53 INFO: running meme/mast on cluster 258, # sequences: 31\n",
        "04:17:04 INFO: running meme/mast on cluster 312, # sequences: 4\n",
        "04:16:59 INFO: running meme/mast on cluster 259, # sequences: 17\n",
        "04:17:05 INFO: running meme/mast on cluster 313, # sequences: 7\n",
        "04:17:02 INFO: running meme/mast on cluster 260, # sequences: 12\n",
        "04:17:07 INFO: running meme/mast on cluster 314, # sequences: 26\n",
        "04:17:04 INFO: running meme/mast on cluster 261, # sequences: 24\n",
        "04:17:11 INFO: running meme/mast on cluster 315, # sequences: 19\n",
        "04:17:08 INFO: running meme/mast on cluster 262, # sequences: 38\n",
        "04:17:14 INFO: running meme/mast on cluster 316, # sequences: 13\n",
        "04:17:17 INFO: running meme/mast on cluster 263, # sequences: 26\n",
        "04:17:17 INFO: running meme/mast on cluster 317, # sequences: 16\n",
        "04:17:22 INFO: running meme/mast on cluster 264, # sequences: 13\n",
        "04:17:19 INFO: running meme/mast on cluster 318, # sequences: 12\n",
        "04:17:24 INFO: running meme/mast on cluster 265, # sequences: 26\n",
        "04:17:21 INFO: running meme/mast on cluster 319, # sequences: 28\n",
        "04:17:29 INFO: running meme/mast on cluster 266, # sequences: 20\n",
        "04:17:27 INFO: running meme/mast on cluster 320, # sequences: 39\n",
        "04:17:32 INFO: running meme/mast on cluster 267, # sequences: 16\n",
        "04:17:35 INFO: running meme/mast on cluster 321, # sequences: 8\n",
        "04:17:35 INFO: running meme/mast on cluster 268, # sequences: 18\n",
        "04:17:37 INFO: running meme/mast on cluster 322, # sequences: 14\n",
        "04:17:38 INFO: running meme/mast on cluster 269, # sequences: 7\n",
        "04:17:40 INFO: running meme/mast on cluster 323, # sequences: 10\n",
        "04:17:39 INFO: running meme/mast on cluster 270, # sequences: 16\n",
        "04:17:41 INFO: running meme/mast on cluster 324, # sequences: 15\n",
        "04:17:42 INFO: running meme/mast on cluster 325, # sequences: 20\n",
        "04:17:44 INFO: running meme/mast on cluster 379, # sequences: 14\n",
        "04:17:46 INFO: running meme/mast on cluster 326, # sequences: 17\n",
        "04:17:46 INFO: running meme/mast on cluster 380, # sequences: 24\n",
        "04:17:49 INFO: running meme/mast on cluster 327, # sequences: 11\n",
        "04:17:51 INFO: running meme/mast on cluster 381, # sequences: 17\n",
        "04:17:51 INFO: running meme/mast on cluster 328, # sequences: 30\n",
        "04:17:54 INFO: running meme/mast on cluster 382, # sequences: 11\n",
        "04:17:56 INFO: running meme/mast on cluster 329, # sequences: 31\n",
        "04:17:56 INFO: running meme/mast on cluster 383, # sequences: 18\n",
        "04:18:02 INFO: running meme/mast on cluster 330, # sequences: 20\n",
        "04:17:59 INFO: running meme/mast on cluster 384, # sequences: 18\n",
        "04:18:06 INFO: running meme/mast on cluster 331, # sequences: 15\n",
        "04:18:02 INFO: running meme/mast on cluster 385, # sequences: 8\n",
        "04:18:08 INFO: running meme/mast on cluster 332, # sequences: 3\n",
        "04:18:04 INFO: running meme/mast on cluster 386, # sequences: 18\n",
        "04:18:10 INFO: running meme/mast on cluster 333, # sequences: 3\n",
        "04:18:07 INFO: running meme/mast on cluster 387, # sequences: 16\n",
        "04:18:10 INFO: running meme/mast on cluster 334, # sequences: 37\n",
        "04:18:09 INFO: running meme/mast on cluster 388, # sequences: 29\n",
        "04:18:18 INFO: running meme/mast on cluster 335, # sequences: 15\n",
        "04:18:15 INFO: running meme/mast on cluster 389, # sequences: 9\n",
        "04:18:20 INFO: running meme/mast on cluster 336, # sequences: 28\n",
        "04:18:16 INFO: running meme/mast on cluster 390, # sequences: 34\n",
        "04:18:26 INFO: running meme/mast on cluster 337, # sequences: 12\n",
        "04:18:24 INFO: running meme/mast on cluster 391, # sequences: 18\n",
        "04:18:28 INFO: running meme/mast on cluster 338, # sequences: 27\n",
        "04:18:27 INFO: running meme/mast on cluster 392, # sequences: 31\n",
        "04:18:33 INFO: running meme/mast on cluster 339, # sequences: 34\n",
        "04:18:33 INFO: running meme/mast on cluster 393, # sequences: 13\n",
        "04:18:40 INFO: running meme/mast on cluster 340, # sequences: 22\n",
        "04:18:35 INFO: running meme/mast on cluster 394, # sequences: 9\n",
        "04:18:44 INFO: running meme/mast on cluster 341, # sequences: 17\n",
        "04:18:36 INFO: running meme/mast on cluster 395, # sequences: 24\n",
        "04:18:47 INFO: running meme/mast on cluster 342, # sequences: 12\n",
        "04:18:41 INFO: running meme/mast on cluster 396, # sequences: 25\n",
        "04:18:49 INFO: running meme/mast on cluster 343, # sequences: 19\n",
        "04:18:45 INFO: running meme/mast on cluster 397, # sequences: 3\n",
        "04:18:52 INFO: running meme/mast on cluster 344, # sequences: 22\n",
        "04:18:46 INFO: running meme/mast on cluster 398, # sequences: 5\n",
        "04:18:56 INFO: running meme/mast on cluster 345, # sequences: 8\n",
        "04:18:47 INFO: running meme/mast on cluster 399, # sequences: 22\n",
        "04:18:58 INFO: running meme/mast on cluster 346, # sequences: 20\n",
        "04:18:51 INFO: running meme/mast on cluster 400, # sequences: 35\n",
        "04:19:01 INFO: running meme/mast on cluster 347, # sequences: 2\n",
        "04:18:58 INFO: running meme/mast on cluster 401, # sequences: 30\n",
        "04:19:01 INFO: running meme/mast on cluster 348, # sequences: 13\n",
        "04:19:04 INFO: running meme/mast on cluster 402, # sequences: 14\n",
        "04:19:03 INFO: running meme/mast on cluster 349, # sequences: 3\n",
        "04:19:07 INFO: running meme/mast on cluster 403, # sequences: 25\n",
        "04:19:04 INFO: running meme/mast on cluster 350, # sequences: 32\n",
        "04:19:11 INFO: running meme/mast on cluster 404, # sequences: 26\n",
        "04:19:10 INFO: running meme/mast on cluster 351, # sequences: 14\n",
        "04:19:15 INFO: running meme/mast on cluster 405, # sequences: 16\n",
        "04:19:12 INFO: running meme/mast on cluster 352, # sequences: 22\n",
        "04:19:18 INFO: running meme/mast on cluster 406, # sequences: 18\n",
        "04:19:17 INFO: running meme/mast on cluster 353, # sequences: 12\n",
        "04:19:21 INFO: running meme/mast on cluster 407, # sequences: 29\n"
       ]
      },
      {
       "output_type": "stream",
       "stream": "stderr",
       "text": [
        "04:21:04 INFO: Iteration # 103\n",
        "04:19:19 INFO: running meme/mast on cluster 354, # sequences: 19\n",
        "04:19:26 INFO: running meme/mast on cluster 408, # sequences: 18\n",
        "04:19:22 INFO: running meme/mast on cluster 355, # sequences: 0\n",
        "04:19:30 INFO: running meme/mast on cluster 409, # sequences: 22\n",
        "04:19:22 INFO: running meme/mast on cluster 356, # sequences: 10\n",
        "04:19:34 INFO: running meme/mast on cluster 410, # sequences: 12\n",
        "04:19:24 INFO: running meme/mast on cluster 357, # sequences: 4\n",
        "04:19:36 INFO: running meme/mast on cluster 411, # sequences: 23\n",
        "04:19:25 INFO: running meme/mast on cluster 358, # sequences: 24\n",
        "04:19:40 INFO: running meme/mast on cluster 412, # sequences: 13\n",
        "04:19:29 INFO: running meme/mast on cluster 359, # sequences: 3\n",
        "04:19:42 INFO: running meme/mast on cluster 413, # sequences: 6\n",
        "04:19:31 INFO: running meme/mast on cluster 360, # sequences: 30\n",
        "04:19:43 INFO: running meme/mast on cluster 414, # sequences: 11\n",
        "04:19:35 INFO: running meme/mast on cluster 361, # sequences: 18\n",
        "04:19:45 INFO: running meme/mast on cluster 415, # sequences: 21\n",
        "04:19:38 INFO: running meme/mast on cluster 362, # sequences: 27\n",
        "04:19:48 INFO: running meme/mast on cluster 416, # sequences: 22\n",
        "04:19:43 INFO: running meme/mast on cluster 363, # sequences: 22\n",
        "04:19:53 INFO: running meme/mast on cluster 417, # sequences: 18\n",
        "04:19:47 INFO: running meme/mast on cluster 364, # sequences: 16\n",
        "04:19:56 INFO: running meme/mast on cluster 418, # sequences: 33\n",
        "04:19:50 INFO: running meme/mast on cluster 365, # sequences: 18\n",
        "04:20:03 INFO: running meme/mast on cluster 419, # sequences: 6\n",
        "04:19:54 INFO: running meme/mast on cluster 366, # sequences: 12\n",
        "04:20:04 INFO: running meme/mast on cluster 420, # sequences: 20\n",
        "04:19:56 INFO: running meme/mast on cluster 367, # sequences: 13\n",
        "04:20:08 INFO: running meme/mast on cluster 421, # sequences: 19\n",
        "04:19:58 INFO: running meme/mast on cluster 368, # sequences: 17\n",
        "04:20:11 INFO: running meme/mast on cluster 422, # sequences: 24\n",
        "04:20:01 INFO: running meme/mast on cluster 369, # sequences: 12\n",
        "04:20:16 INFO: running meme/mast on cluster 423, # sequences: 29\n",
        "04:20:03 INFO: running meme/mast on cluster 370, # sequences: 20\n",
        "04:20:21 INFO: running meme/mast on cluster 424, # sequences: 22\n",
        "04:20:07 INFO: running meme/mast on cluster 371, # sequences: 20\n",
        "04:20:24 INFO: running meme/mast on cluster 425, # sequences: 9\n",
        "04:20:11 INFO: running meme/mast on cluster 372, # sequences: 30\n",
        "04:20:27 INFO: running meme/mast on cluster 426, # sequences: 24\n",
        "04:20:16 INFO: running meme/mast on cluster 373, # sequences: 25\n",
        "04:20:31 INFO: running meme/mast on cluster 427, # sequences: 15\n",
        "04:20:21 INFO: running meme/mast on cluster 374, # sequences: 30\n",
        "04:20:34 INFO: running meme/mast on cluster 428, # sequences: 16\n",
        "04:20:26 INFO: running meme/mast on cluster 375, # sequences: 12\n",
        "04:20:37 INFO: running meme/mast on cluster 429, # sequences: 27\n",
        "04:20:28 INFO: running meme/mast on cluster 376, # sequences: 23\n",
        "04:20:42 INFO: running meme/mast on cluster 430, # sequences: 18\n",
        "04:20:33 INFO: running meme/mast on cluster 377, # sequences: 15\n",
        "04:20:36 INFO: running meme/mast on cluster 378, # sequences: 28\n"
       ]
      },
      {
       "output_type": "stream",
       "stream": "stderr",
       "text": [
        "04:21:14 INFO: Iteration # 104\n"
       ]
      },
      {
       "output_type": "stream",
       "stream": "stderr",
       "text": [
        "04:21:21 INFO: Iteration # 105\n"
       ]
      },
      {
       "output_type": "stream",
       "stream": "stderr",
       "text": [
        "04:21:30 INFO: Iteration # 106\n"
       ]
      },
      {
       "output_type": "stream",
       "stream": "stderr",
       "text": [
        "04:21:46 INFO: Iteration # 107\n"
       ]
      },
      {
       "output_type": "stream",
       "stream": "stderr",
       "text": [
        "04:21:56 INFO: Iteration # 108\n"
       ]
      },
      {
       "output_type": "stream",
       "stream": "stderr",
       "text": [
        "04:22:03 INFO: Iteration # 109\n"
       ]
      },
      {
       "output_type": "stream",
       "stream": "stderr",
       "text": [
        "04:22:12 INFO: Iteration # 110\n"
       ]
      },
      {
       "output_type": "stream",
       "stream": "stderr",
       "text": [
        "04:22:23 INFO: Iteration # 111\n"
       ]
      },
      {
       "output_type": "stream",
       "stream": "stderr",
       "text": [
        "04:22:35 INFO: Iteration # 112\n"
       ]
      },
      {
       "output_type": "stream",
       "stream": "stderr",
       "text": [
        "04:22:42 INFO: Iteration # 113\n"
       ]
      },
      {
       "output_type": "stream",
       "stream": "stderr",
       "text": [
        "04:22:59 INFO: Iteration # 114\n"
       ]
      },
      {
       "output_type": "stream",
       "stream": "stderr",
       "text": [
        "04:23:06 INFO: Iteration # 115\n"
       ]
      },
      {
       "output_type": "stream",
       "stream": "stderr",
       "text": [
        "04:23:15 INFO: Iteration # 116\n"
       ]
      },
      {
       "output_type": "stream",
       "stream": "stderr",
       "text": [
        "04:23:24 INFO: Iteration # 117\n"
       ]
      },
      {
       "output_type": "stream",
       "stream": "stderr",
       "text": [
        "04:23:34 INFO: Iteration # 118\n"
       ]
      },
      {
       "output_type": "stream",
       "stream": "stderr",
       "text": [
        "04:23:41 INFO: Iteration # 119\n"
       ]
      },
      {
       "output_type": "stream",
       "stream": "stderr",
       "text": [
        "04:23:50 INFO: Iteration # 120\n"
       ]
      },
      {
       "output_type": "stream",
       "stream": "stderr",
       "text": [
        "04:24:08 INFO: Iteration # 121\n"
       ]
      },
      {
       "output_type": "stream",
       "stream": "stderr",
       "text": [
        "04:24:19 INFO: Iteration # 122\n"
       ]
      },
      {
       "output_type": "stream",
       "stream": "stderr",
       "text": [
        "04:24:27 INFO: Iteration # 123\n"
       ]
      },
      {
       "output_type": "stream",
       "stream": "stderr",
       "text": [
        "04:24:36 INFO: Iteration # 124\n"
       ]
      },
      {
       "output_type": "stream",
       "stream": "stderr",
       "text": [
        "04:24:43 INFO: Iteration # 125\n"
       ]
      },
      {
       "output_type": "stream",
       "stream": "stderr",
       "text": [
        "04:24:53 INFO: Iteration # 126\n"
       ]
      },
      {
       "output_type": "stream",
       "stream": "stderr",
       "text": [
        "04:25:02 INFO: Iteration # 127\n"
       ]
      },
      {
       "output_type": "stream",
       "stream": "stderr",
       "text": [
        "04:25:19 INFO: Iteration # 128\n"
       ]
      },
      {
       "output_type": "stream",
       "stream": "stderr",
       "text": [
        "04:25:26 INFO: Iteration # 129\n"
       ]
      },
      {
       "output_type": "stream",
       "stream": "stderr",
       "text": [
        "04:25:35 INFO: Iteration # 130\n"
       ]
      },
      {
       "output_type": "stream",
       "stream": "stderr",
       "text": [
        "04:25:46 INFO: Iteration # 131\n"
       ]
      },
      {
       "output_type": "stream",
       "stream": "stderr",
       "text": [
        "04:25:58 INFO: Iteration # 132\n"
       ]
      },
      {
       "output_type": "stream",
       "stream": "stderr",
       "text": [
        "04:26:05 INFO: Iteration # 133\n"
       ]
      },
      {
       "output_type": "stream",
       "stream": "stderr",
       "text": [
        "04:26:15 INFO: Iteration # 134\n"
       ]
      },
      {
       "output_type": "stream",
       "stream": "stderr",
       "text": [
        "04:26:29 INFO: Iteration # 135\n"
       ]
      },
      {
       "output_type": "stream",
       "stream": "stderr",
       "text": [
        "04:26:38 INFO: Iteration # 136\n"
       ]
      },
      {
       "output_type": "stream",
       "stream": "stderr",
       "text": [
        "04:26:47 INFO: Iteration # 137\n"
       ]
      },
      {
       "output_type": "stream",
       "stream": "stderr",
       "text": [
        "04:26:57 INFO: Iteration # 138\n"
       ]
      },
      {
       "output_type": "stream",
       "stream": "stderr",
       "text": [
        "04:27:04 INFO: Iteration # 139\n"
       ]
      },
      {
       "output_type": "stream",
       "stream": "stderr",
       "text": [
        "04:27:13 INFO: Iteration # 140\n"
       ]
      },
      {
       "output_type": "stream",
       "stream": "stderr",
       "text": [
        "04:27:24 INFO: Iteration # 141\n"
       ]
      },
      {
       "output_type": "stream",
       "stream": "stderr",
       "text": [
        "04:27:43 INFO: Iteration # 142\n"
       ]
      },
      {
       "output_type": "stream",
       "stream": "stderr",
       "text": [
        "04:27:50 INFO: Iteration # 143\n"
       ]
      },
      {
       "output_type": "stream",
       "stream": "stderr",
       "text": [
        "04:28:00 INFO: Iteration # 144\n"
       ]
      },
      {
       "output_type": "stream",
       "stream": "stderr",
       "text": [
        "04:28:07 INFO: Iteration # 145\n"
       ]
      },
      {
       "output_type": "stream",
       "stream": "stderr",
       "text": [
        "04:28:18 INFO: Iteration # 146\n"
       ]
      },
      {
       "output_type": "stream",
       "stream": "stderr",
       "text": [
        "04:28:27 INFO: Iteration # 147\n"
       ]
      },
      {
       "output_type": "stream",
       "stream": "stderr",
       "text": [
        "04:28:36 INFO: Iteration # 148\n"
       ]
      },
      {
       "output_type": "stream",
       "stream": "stderr",
       "text": [
        "04:28:50 INFO: Iteration # 149\n"
       ]
      },
      {
       "output_type": "stream",
       "stream": "stderr",
       "text": [
        "04:29:00 INFO: Iteration # 150\n"
       ]
      },
      {
       "output_type": "stream",
       "stream": "stderr",
       "text": [
        "04:29:10 INFO: Iteration # 151\n"
       ]
      },
      {
       "output_type": "stream",
       "stream": "stderr",
       "text": [
        "04:29:22 INFO: Iteration # 152\n"
       ]
      },
      {
       "output_type": "stream",
       "stream": "stderr",
       "text": [
        "04:29:29 INFO: Iteration # 153\n"
       ]
      },
      {
       "output_type": "stream",
       "stream": "stderr",
       "text": [
        "04:29:39 INFO: Iteration # 154\n"
       ]
      },
      {
       "output_type": "stream",
       "stream": "stderr",
       "text": [
        "04:29:46 INFO: Iteration # 155\n"
       ]
      },
      {
       "output_type": "stream",
       "stream": "stderr",
       "text": [
        "04:30:02 INFO: Iteration # 156\n"
       ]
      },
      {
       "output_type": "stream",
       "stream": "stderr",
       "text": [
        "04:30:11 INFO: Iteration # 157\n"
       ]
      },
      {
       "output_type": "stream",
       "stream": "stderr",
       "text": [
        "04:30:21 INFO: Iteration # 158\n"
       ]
      },
      {
       "output_type": "stream",
       "stream": "stderr",
       "text": [
        "04:30:28 INFO: Iteration # 159\n"
       ]
      },
      {
       "output_type": "stream",
       "stream": "stderr",
       "text": [
        "04:30:37 INFO: Iteration # 160\n"
       ]
      },
      {
       "output_type": "stream",
       "stream": "stderr",
       "text": [
        "04:30:48 INFO: Iteration # 161\n"
       ]
      },
      {
       "output_type": "stream",
       "stream": "stderr",
       "text": [
        "04:31:00 INFO: Iteration # 162\n"
       ]
      },
      {
       "output_type": "stream",
       "stream": "stderr",
       "text": [
        "04:31:14 INFO: Iteration # 163\n"
       ]
      },
      {
       "output_type": "stream",
       "stream": "stderr",
       "text": [
        "04:31:23 INFO: Iteration # 164\n"
       ]
      },
      {
       "output_type": "stream",
       "stream": "stderr",
       "text": [
        "04:31:30 INFO: Iteration # 165\n"
       ]
      },
      {
       "output_type": "stream",
       "stream": "stderr",
       "text": [
        "04:31:40 INFO: Iteration # 166\n"
       ]
      },
      {
       "output_type": "stream",
       "stream": "stderr",
       "text": [
        "04:31:49 INFO: Iteration # 167\n"
       ]
      },
      {
       "output_type": "stream",
       "stream": "stderr",
       "text": [
        "04:31:58 INFO: Iteration # 168\n"
       ]
      },
      {
       "output_type": "stream",
       "stream": "stderr",
       "text": [
        "04:32:05 INFO: Iteration # 169\n"
       ]
      },
      {
       "output_type": "stream",
       "stream": "stderr",
       "text": [
        "04:32:22 INFO: Iteration # 170\n"
       ]
      },
      {
       "output_type": "stream",
       "stream": "stderr",
       "text": [
        "04:32:32 INFO: Iteration # 171\n"
       ]
      },
      {
       "output_type": "stream",
       "stream": "stderr",
       "text": [
        "04:32:44 INFO: Iteration # 172\n"
       ]
      },
      {
       "output_type": "stream",
       "stream": "stderr",
       "text": [
        "04:32:51 INFO: Iteration # 173\n"
       ]
      },
      {
       "output_type": "stream",
       "stream": "stderr",
       "text": [
        "04:33:01 INFO: Iteration # 174\n"
       ]
      },
      {
       "output_type": "stream",
       "stream": "stderr",
       "text": [
        "04:33:08 INFO: Iteration # 175\n"
       ]
      },
      {
       "output_type": "stream",
       "stream": "stderr",
       "text": [
        "04:33:18 INFO: Iteration # 176\n"
       ]
      },
      {
       "output_type": "stream",
       "stream": "stderr",
       "text": [
        "04:33:33 INFO: Iteration # 177\n"
       ]
      },
      {
       "output_type": "stream",
       "stream": "stderr",
       "text": [
        "04:33:43 INFO: Iteration # 178\n"
       ]
      },
      {
       "output_type": "stream",
       "stream": "stderr",
       "text": [
        "04:33:50 INFO: Iteration # 179\n"
       ]
      },
      {
       "output_type": "stream",
       "stream": "stderr",
       "text": [
        "04:34:00 INFO: Iteration # 180\n"
       ]
      },
      {
       "output_type": "stream",
       "stream": "stderr",
       "text": [
        "04:34:11 INFO: Iteration # 181\n"
       ]
      },
      {
       "output_type": "stream",
       "stream": "stderr",
       "text": [
        "04:34:22 INFO: Iteration # 182\n"
       ]
      },
      {
       "output_type": "stream",
       "stream": "stderr",
       "text": [
        "04:34:30 INFO: Iteration # 183\n"
       ]
      },
      {
       "output_type": "stream",
       "stream": "stderr",
       "text": [
        "04:34:46 INFO: Iteration # 184\n"
       ]
      },
      {
       "output_type": "stream",
       "stream": "stderr",
       "text": [
        "04:34:53 INFO: Iteration # 185\n"
       ]
      },
      {
       "output_type": "stream",
       "stream": "stderr",
       "text": [
        "04:35:03 INFO: Iteration # 186\n"
       ]
      },
      {
       "output_type": "stream",
       "stream": "stderr",
       "text": [
        "04:35:12 INFO: Iteration # 187\n"
       ]
      },
      {
       "output_type": "stream",
       "stream": "stderr",
       "text": [
        "04:35:21 INFO: Iteration # 188\n"
       ]
      },
      {
       "output_type": "stream",
       "stream": "stderr",
       "text": [
        "04:35:28 INFO: Iteration # 189\n"
       ]
      },
      {
       "output_type": "stream",
       "stream": "stderr",
       "text": [
        "04:35:38 INFO: Iteration # 190\n"
       ]
      },
      {
       "output_type": "stream",
       "stream": "stderr",
       "text": [
        "04:35:56 INFO: Iteration # 191\n"
       ]
      },
      {
       "output_type": "stream",
       "stream": "stderr",
       "text": [
        "04:36:07 INFO: Iteration # 192\n"
       ]
      },
      {
       "output_type": "stream",
       "stream": "stderr",
       "text": [
        "04:36:15 INFO: Iteration # 193\n"
       ]
      },
      {
       "output_type": "stream",
       "stream": "stderr",
       "text": [
        "04:36:25 INFO: Iteration # 194\n"
       ]
      },
      {
       "output_type": "stream",
       "stream": "stderr",
       "text": [
        "04:36:32 INFO: Iteration # 195\n"
       ]
      },
      {
       "output_type": "stream",
       "stream": "stderr",
       "text": [
        "04:36:41 INFO: Iteration # 196\n"
       ]
      },
      {
       "output_type": "stream",
       "stream": "stderr",
       "text": [
        "04:36:50 INFO: Iteration # 197\n"
       ]
      },
      {
       "output_type": "stream",
       "stream": "stderr",
       "text": [
        "04:37:07 INFO: Iteration # 198\n"
       ]
      },
      {
       "output_type": "stream",
       "stream": "stderr",
       "text": [
        "04:37:14 INFO: Iteration # 199\n"
       ]
      },
      {
       "output_type": "stream",
       "stream": "stderr",
       "text": [
        "04:37:23 INFO: Iteration # 200\n"
       ]
      },
      {
       "output_type": "stream",
       "stream": "stderr",
       "text": [
        "04:37:35 INFO: Iteration # 201\n"
       ]
      },
      {
       "output_type": "stream",
       "stream": "stderr",
       "text": [
        "04:37:40 ERROR: No sequences read for eco!\n",
        "04:37:41 ERROR: No sequences read for eco!\n",
        "04:37:40 WARNING: Cluster 10 with 0 genes: no sequences!\n",
        "04:37:41 WARNING: Cluster 85 with 0 genes: no sequences!\n",
        "04:37:42 ERROR: No sequences read for eco!\n",
        "04:37:42 ERROR: No sequences read for eco!\n",
        "04:37:42 WARNING: Cluster 36 with 0 genes: no sequences!\n",
        "04:37:42 WARNING: Cluster 94 with 0 genes: no sequences!\n",
        "04:37:42 ERROR: No sequences read for eco!\n",
        "04:37:52 ERROR: No sequences read for eco!\n",
        "04:37:42 WARNING: Cluster 41 with 0 genes: no sequences!\n",
        "04:37:52 WARNING: Cluster 249 with 0 genes: no sequences!\n",
        "04:37:52 ERROR: No sequences read for eco!\n",
        "04:37:56 ERROR: No sequences read for eco!\n",
        "04:37:52 WARNING: Cluster 309 with 0 genes: no sequences!\n",
        "04:37:56 WARNING: Cluster 355 with 0 genes: no sequences!\n",
        "04:37:55 ERROR: No sequences read for eco!\n",
        "04:37:55 WARNING: Cluster 397 with 0 genes: no sequences!\n"
       ]
      },
      {
       "output_type": "stream",
       "stream": "stderr",
       "text": [
        "04:37:58 INFO: running meme/mast on cluster 1, # sequences: 10\n",
        "04:37:58 INFO: running meme/mast on cluster 56, # sequences: 8\n",
        "04:38:00 INFO: running meme/mast on cluster 2, # sequences: 18\n",
        "04:38:00 INFO: running meme/mast on cluster 57, # sequences: 12\n",
        "04:38:03 INFO: running meme/mast on cluster 3, # sequences: 17\n",
        "04:38:02 INFO: running meme/mast on cluster 58, # sequences: 20\n",
        "04:38:06 INFO: running meme/mast on cluster 4, # sequences: 29\n",
        "04:38:06 INFO: running meme/mast on cluster 59, # sequences: 15\n",
        "04:38:11 INFO: running meme/mast on cluster 5, # sequences: 21\n",
        "04:38:08 INFO: running meme/mast on cluster 60, # sequences: 30\n",
        "04:38:15 INFO: running meme/mast on cluster 6, # sequences: 9\n",
        "04:38:14 INFO: running meme/mast on cluster 61, # sequences: 3\n",
        "04:38:17 INFO: running meme/mast on cluster 7, # sequences: 21\n",
        "04:38:15 INFO: running meme/mast on cluster 62, # sequences: 23\n",
        "04:38:21 INFO: running meme/mast on cluster 8, # sequences: 11\n",
        "04:38:19 INFO: running meme/mast on cluster 63, # sequences: 18\n",
        "04:38:23 INFO: running meme/mast on cluster 9, # sequences: 18\n",
        "04:38:22 INFO: running meme/mast on cluster 64, # sequences: 12\n",
        "04:38:27 INFO: running meme/mast on cluster 10, # sequences: 0\n",
        "04:38:25 INFO: running meme/mast on cluster 65, # sequences: 5\n",
        "04:38:27 INFO: running meme/mast on cluster 11, # sequences: 5\n",
        "04:38:26 INFO: running meme/mast on cluster 66, # sequences: 20\n",
        "04:38:28 INFO: running meme/mast on cluster 12, # sequences: 24\n",
        "04:38:30 INFO: running meme/mast on cluster 67, # sequences: 21\n",
        "04:38:32 INFO: running meme/mast on cluster 13, # sequences: 21\n",
        "04:38:33 INFO: running meme/mast on cluster 68, # sequences: 14\n",
        "04:38:36 INFO: running meme/mast on cluster 14, # sequences: 26\n",
        "04:38:35 INFO: running meme/mast on cluster 69, # sequences: 3\n",
        "04:38:41 INFO: running meme/mast on cluster 15, # sequences: 18\n",
        "04:38:36 INFO: running meme/mast on cluster 70, # sequences: 13\n",
        "04:38:44 INFO: running meme/mast on cluster 16, # sequences: 30\n",
        "04:38:38 INFO: running meme/mast on cluster 71, # sequences: 44\n",
        "04:38:49 INFO: running meme/mast on cluster 17, # sequences: 15\n",
        "04:38:48 INFO: running meme/mast on cluster 72, # sequences: 18\n",
        "04:38:52 INFO: running meme/mast on cluster 18, # sequences: 11\n",
        "04:38:51 INFO: running meme/mast on cluster 73, # sequences: 5\n",
        "04:38:54 INFO: running meme/mast on cluster 19, # sequences: 40\n",
        "04:38:52 INFO: running meme/mast on cluster 74, # sequences: 12\n",
        "04:39:03 INFO: running meme/mast on cluster 20, # sequences: 23\n",
        "04:38:55 INFO: running meme/mast on cluster 75, # sequences: 31\n",
        "04:39:07 INFO: running meme/mast on cluster 21, # sequences: 24\n",
        "04:39:00 INFO: running meme/mast on cluster 76, # sequences: 10\n",
        "04:39:12 INFO: running meme/mast on cluster 22, # sequences: 27\n",
        "04:39:02 INFO: running meme/mast on cluster 77, # sequences: 5\n",
        "04:39:17 INFO: running meme/mast on cluster 23, # sequences: 6\n",
        "04:39:04 INFO: running meme/mast on cluster 78, # sequences: 27\n",
        "04:39:18 INFO: running meme/mast on cluster 24, # sequences: 7\n",
        "04:39:09 INFO: running meme/mast on cluster 79, # sequences: 23\n",
        "04:39:20 INFO: running meme/mast on cluster 25, # sequences: 15\n",
        "04:39:13 INFO: running meme/mast on cluster 80, # sequences: 8\n",
        "04:39:22 INFO: running meme/mast on cluster 26, # sequences: 11\n",
        "04:39:15 INFO: running meme/mast on cluster 81, # sequences: 24\n",
        "04:39:24 INFO: running meme/mast on cluster 27, # sequences: 19\n",
        "04:39:18 WARNING: there is an exception thrown in MAST: FATAL: No input motifs pass the E-value (-mev) threshold 99999.\n",
        "\n",
        "\n",
        "04:39:27 INFO: running meme/mast on cluster 28, # sequences: 24\n",
        "04:39:18 INFO: running meme/mast on cluster 82, # sequences: 14\n",
        "04:39:31 INFO: running meme/mast on cluster 29, # sequences: 15\n",
        "04:39:21 INFO: running meme/mast on cluster 83, # sequences: 22\n",
        "04:39:33 INFO: running meme/mast on cluster 30, # sequences: 15\n",
        "04:39:24 INFO: running meme/mast on cluster 84, # sequences: 11\n",
        "04:39:36 INFO: running meme/mast on cluster 31, # sequences: 14\n",
        "04:39:27 INFO: running meme/mast on cluster 85, # sequences: 0\n",
        "04:39:38 INFO: running meme/mast on cluster 32, # sequences: 35\n",
        "04:39:27 INFO: running meme/mast on cluster 86, # sequences: 19\n",
        "04:39:46 INFO: running meme/mast on cluster 33, # sequences: 24\n",
        "04:39:30 INFO: running meme/mast on cluster 87, # sequences: 11\n",
        "04:39:50 INFO: running meme/mast on cluster 34, # sequences: 10\n",
        "04:39:32 INFO: running meme/mast on cluster 88, # sequences: 24\n",
        "04:39:52 INFO: running meme/mast on cluster 35, # sequences: 21\n",
        "04:39:37 INFO: running meme/mast on cluster 89, # sequences: 28\n",
        "04:39:56 INFO: running meme/mast on cluster 37, # sequences: 33\n",
        "04:39:42 INFO: running meme/mast on cluster 90, # sequences: 5\n",
        "04:40:03 INFO: running meme/mast on cluster 38, # sequences: 9\n",
        "04:39:43 INFO: running meme/mast on cluster 91, # sequences: 21\n",
        "04:40:05 INFO: running meme/mast on cluster 39, # sequences: 4\n",
        "04:39:46 INFO: running meme/mast on cluster 92, # sequences: 3\n",
        "04:40:06 INFO: running meme/mast on cluster 40, # sequences: 4\n",
        "04:39:47 INFO: running meme/mast on cluster 93, # sequences: 16\n",
        "04:40:07 INFO: running meme/mast on cluster 41, # sequences: 0\n",
        "04:39:50 INFO: running meme/mast on cluster 95, # sequences: 23\n",
        "04:40:07 INFO: running meme/mast on cluster 42, # sequences: 18\n",
        "04:39:54 INFO: running meme/mast on cluster 96, # sequences: 23\n",
        "04:40:10 INFO: running meme/mast on cluster 43, # sequences: 11\n",
        "04:39:58 INFO: running meme/mast on cluster 97, # sequences: 21\n",
        "04:40:13 INFO: running meme/mast on cluster 44, # sequences: 18\n",
        "04:40:02 INFO: running meme/mast on cluster 98, # sequences: 29\n",
        "04:40:16 INFO: running meme/mast on cluster 45, # sequences: 24\n",
        "04:40:08 INFO: running meme/mast on cluster 99, # sequences: 21\n",
        "04:40:20 INFO: running meme/mast on cluster 46, # sequences: 30\n",
        "04:40:12 INFO: running meme/mast on cluster 100, # sequences: 19\n",
        "04:40:27 INFO: running meme/mast on cluster 47, # sequences: 20\n",
        "04:40:15 INFO: running meme/mast on cluster 101, # sequences: 23\n",
        "04:40:30 INFO: running meme/mast on cluster 48, # sequences: 19\n",
        "04:40:20 INFO: running meme/mast on cluster 102, # sequences: 20\n",
        "04:40:33 INFO: running meme/mast on cluster 49, # sequences: 21\n",
        "04:40:23 INFO: running meme/mast on cluster 103, # sequences: 15\n",
        "04:40:37 INFO: running meme/mast on cluster 50, # sequences: 21\n",
        "04:40:25 INFO: running meme/mast on cluster 104, # sequences: 10\n",
        "04:40:41 INFO: running meme/mast on cluster 51, # sequences: 10\n",
        "04:40:27 INFO: running meme/mast on cluster 105, # sequences: 31\n",
        "04:40:42 INFO: running meme/mast on cluster 52, # sequences: 9\n",
        "04:40:33 INFO: running meme/mast on cluster 106, # sequences: 21\n",
        "04:40:44 INFO: running meme/mast on cluster 53, # sequences: 10\n",
        "04:40:37 INFO: running meme/mast on cluster 107, # sequences: 20\n",
        "04:40:46 INFO: running meme/mast on cluster 54, # sequences: 5\n",
        "04:40:40 INFO: running meme/mast on cluster 108, # sequences: 23\n",
        "04:40:47 INFO: running meme/mast on cluster 55, # sequences: 4\n",
        "04:40:44 INFO: running meme/mast on cluster 109, # sequences: 3\n",
        "04:40:49 INFO: running meme/mast on cluster 111, # sequences: 28\n",
        "04:40:46 INFO: running meme/mast on cluster 110, # sequences: 20\n",
        "04:40:54 INFO: running meme/mast on cluster 112, # sequences: 22\n",
        "04:40:49 INFO: running meme/mast on cluster 165, # sequences: 26\n",
        "04:40:58 INFO: running meme/mast on cluster 113, # sequences: 23\n",
        "04:40:54 INFO: running meme/mast on cluster 166, # sequences: 27\n",
        "04:41:02 INFO: running meme/mast on cluster 114, # sequences: 13\n",
        "04:40:59 INFO: running meme/mast on cluster 167, # sequences: 20\n",
        "04:41:04 INFO: running meme/mast on cluster 115, # sequences: 21\n",
        "04:41:03 INFO: running meme/mast on cluster 168, # sequences: 18\n",
        "04:41:08 INFO: running meme/mast on cluster 116, # sequences: 17\n",
        "04:41:06 INFO: running meme/mast on cluster 169, # sequences: 2\n",
        "04:41:10 INFO: running meme/mast on cluster 117, # sequences: 27\n",
        "04:41:06 INFO: running meme/mast on cluster 170, # sequences: 23\n",
        "04:41:15 INFO: running meme/mast on cluster 118, # sequences: 19\n",
        "04:41:10 INFO: running meme/mast on cluster 171, # sequences: 14\n",
        "04:41:19 INFO: running meme/mast on cluster 119, # sequences: 28\n",
        "04:41:12 INFO: running meme/mast on cluster 172, # sequences: 20\n",
        "04:41:24 INFO: running meme/mast on cluster 120, # sequences: 15\n",
        "04:41:16 INFO: running meme/mast on cluster 173, # sequences: 11\n"
       ]
      },
      {
       "output_type": "stream",
       "stream": "stderr",
       "text": [
        "04:41:26 INFO: running meme/mast on cluster 121, # sequences: 23\n",
        "04:41:18 INFO: running meme/mast on cluster 174, # sequences: 28\n",
        "04:41:31 INFO: running meme/mast on cluster 122, # sequences: 7\n",
        "04:41:23 INFO: running meme/mast on cluster 175, # sequences: 17\n",
        "04:41:32 INFO: running meme/mast on cluster 123, # sequences: 3\n",
        "04:41:26 INFO: running meme/mast on cluster 176, # sequences: 17\n",
        "04:41:34 INFO: running meme/mast on cluster 124, # sequences: 15\n",
        "04:41:29 INFO: running meme/mast on cluster 177, # sequences: 24\n",
        "04:41:36 INFO: running meme/mast on cluster 125, # sequences: 29\n",
        "04:41:33 INFO: running meme/mast on cluster 178, # sequences: 26\n",
        "04:41:41 INFO: running meme/mast on cluster 126, # sequences: 19\n",
        "04:41:38 INFO: running meme/mast on cluster 179, # sequences: 16\n",
        "04:41:44 INFO: running meme/mast on cluster 127, # sequences: 24\n",
        "04:41:40 INFO: running meme/mast on cluster 180, # sequences: 4\n",
        "04:41:50 INFO: running meme/mast on cluster 128, # sequences: 37\n",
        "04:41:41 INFO: running meme/mast on cluster 181, # sequences: 4\n",
        "04:41:59 INFO: running meme/mast on cluster 129, # sequences: 23\n",
        "04:41:42 INFO: running meme/mast on cluster 182, # sequences: 14\n",
        "04:42:03 INFO: running meme/mast on cluster 130, # sequences: 19\n",
        "04:41:45 INFO: running meme/mast on cluster 183, # sequences: 12\n",
        "04:42:07 INFO: running meme/mast on cluster 131, # sequences: 18\n",
        "04:41:47 INFO: running meme/mast on cluster 184, # sequences: 24\n",
        "04:42:10 INFO: running meme/mast on cluster 132, # sequences: 27\n",
        "04:41:53 INFO: running meme/mast on cluster 185, # sequences: 6\n",
        "04:42:15 INFO: running meme/mast on cluster 133, # sequences: 14\n",
        "04:41:54 INFO: running meme/mast on cluster 186, # sequences: 4\n",
        "04:42:19 INFO: running meme/mast on cluster 134, # sequences: 19\n",
        "04:41:55 INFO: running meme/mast on cluster 187, # sequences: 19\n",
        "04:42:22 INFO: running meme/mast on cluster 135, # sequences: 30\n",
        "04:41:59 INFO: running meme/mast on cluster 188, # sequences: 14\n",
        "04:42:28 INFO: running meme/mast on cluster 136, # sequences: 4\n",
        "04:42:01 INFO: running meme/mast on cluster 189, # sequences: 10\n",
        "04:42:29 INFO: running meme/mast on cluster 137, # sequences: 11\n",
        "04:42:03 INFO: running meme/mast on cluster 190, # sequences: 9\n",
        "04:42:30 INFO: running meme/mast on cluster 138, # sequences: 22\n",
        "04:42:05 INFO: running meme/mast on cluster 191, # sequences: 3\n",
        "04:42:34 INFO: running meme/mast on cluster 139, # sequences: 7\n",
        "04:42:05 INFO: running meme/mast on cluster 192, # sequences: 20\n",
        "04:42:35 INFO: running meme/mast on cluster 140, # sequences: 26\n",
        "04:42:10 INFO: running meme/mast on cluster 193, # sequences: 25\n",
        "04:42:39 INFO: running meme/mast on cluster 141, # sequences: 19\n",
        "04:42:14 INFO: running meme/mast on cluster 194, # sequences: 30\n",
        "04:42:42 WARNING: there is an exception thrown in MAST: Errors from MEME text parser:\n",
        "The pspm of motif 1 has an evalue value 10000 which does not match the existing value of 10000.\n",
        "FATAL: No motifs.\n",
        "\n",
        "\n",
        "04:42:21 INFO: running meme/mast on cluster 195, # sequences: 25\n",
        "04:42:42 INFO: running meme/mast on cluster 142, # sequences: 4\n",
        "04:42:25 INFO: running meme/mast on cluster 196, # sequences: 29\n",
        "04:42:43 INFO: running meme/mast on cluster 143, # sequences: 4\n",
        "04:42:30 INFO: running meme/mast on cluster 197, # sequences: 17\n",
        "04:42:44 INFO: running meme/mast on cluster 144, # sequences: 22\n",
        "04:42:33 INFO: running meme/mast on cluster 198, # sequences: 19\n",
        "04:42:47 INFO: running meme/mast on cluster 145, # sequences: 31\n",
        "04:42:36 INFO: running meme/mast on cluster 199, # sequences: 16\n",
        "04:42:54 INFO: running meme/mast on cluster 146, # sequences: 32\n",
        "04:42:39 INFO: running meme/mast on cluster 200, # sequences: 18\n",
        "04:43:00 INFO: running meme/mast on cluster 147, # sequences: 40\n",
        "04:42:42 INFO: running meme/mast on cluster 201, # sequences: 31\n",
        "04:43:09 INFO: running meme/mast on cluster 148, # sequences: 12\n",
        "04:42:49 INFO: running meme/mast on cluster 202, # sequences: 21\n",
        "04:43:11 INFO: running meme/mast on cluster 149, # sequences: 17\n",
        "04:42:52 INFO: running meme/mast on cluster 203, # sequences: 18\n",
        "04:43:14 INFO: running meme/mast on cluster 150, # sequences: 18\n",
        "04:42:56 INFO: running meme/mast on cluster 204, # sequences: 16\n",
        "04:43:18 INFO: running meme/mast on cluster 151, # sequences: 22\n",
        "04:42:58 INFO: running meme/mast on cluster 205, # sequences: 20\n",
        "04:43:21 INFO: running meme/mast on cluster 152, # sequences: 21\n",
        "04:43:03 INFO: running meme/mast on cluster 206, # sequences: 23\n",
        "04:43:26 INFO: running meme/mast on cluster 153, # sequences: 11\n",
        "04:43:07 INFO: running meme/mast on cluster 207, # sequences: 17\n",
        "04:43:28 INFO: running meme/mast on cluster 154, # sequences: 8\n",
        "04:43:10 INFO: running meme/mast on cluster 208, # sequences: 11\n",
        "04:43:29 INFO: running meme/mast on cluster 155, # sequences: 21\n",
        "04:43:12 INFO: running meme/mast on cluster 209, # sequences: 24\n",
        "04:43:32 INFO: running meme/mast on cluster 156, # sequences: 21\n",
        "04:43:16 INFO: running meme/mast on cluster 210, # sequences: 10\n",
        "04:43:36 INFO: running meme/mast on cluster 157, # sequences: 23\n",
        "04:43:18 INFO: running meme/mast on cluster 211, # sequences: 6\n",
        "04:43:41 INFO: running meme/mast on cluster 158, # sequences: 30\n",
        "04:43:19 INFO: running meme/mast on cluster 212, # sequences: 19\n",
        "04:43:47 INFO: running meme/mast on cluster 159, # sequences: 44\n",
        "04:43:23 INFO: running meme/mast on cluster 213, # sequences: 8\n",
        "04:43:57 INFO: running meme/mast on cluster 160, # sequences: 13\n",
        "04:43:25 INFO: running meme/mast on cluster 214, # sequences: 6\n",
        "04:43:59 INFO: running meme/mast on cluster 161, # sequences: 23\n",
        "04:43:26 INFO: running meme/mast on cluster 215, # sequences: 23\n",
        "04:44:04 INFO: running meme/mast on cluster 162, # sequences: 32\n",
        "04:43:30 INFO: running meme/mast on cluster 216, # sequences: 15\n",
        "04:44:09 INFO: running meme/mast on cluster 163, # sequences: 15\n",
        "04:43:33 INFO: running meme/mast on cluster 217, # sequences: 4\n",
        "04:44:12 INFO: running meme/mast on cluster 164, # sequences: 14\n",
        "04:43:34 INFO: running meme/mast on cluster 218, # sequences: 4\n",
        "04:44:15 INFO: running meme/mast on cluster 273, # sequences: 19\n",
        "04:43:35 INFO: running meme/mast on cluster 219, # sequences: 18\n",
        "04:44:18 INFO: running meme/mast on cluster 274, # sequences: 20\n",
        "04:43:38 INFO: running meme/mast on cluster 220, # sequences: 23\n",
        "04:44:22 INFO: running meme/mast on cluster 275, # sequences: 20\n",
        "04:43:43 INFO: running meme/mast on cluster 221, # sequences: 12\n",
        "04:44:25 INFO: running meme/mast on cluster 276, # sequences: 24\n",
        "04:43:44 INFO: running meme/mast on cluster 222, # sequences: 19\n",
        "04:44:30 INFO: running meme/mast on cluster 277, # sequences: 16\n",
        "04:43:48 INFO: running meme/mast on cluster 223, # sequences: 25\n",
        "04:44:32 INFO: running meme/mast on cluster 278, # sequences: 24\n",
        "04:43:53 INFO: running meme/mast on cluster 224, # sequences: 17\n",
        "04:44:37 INFO: running meme/mast on cluster 279, # sequences: 2\n",
        "04:43:56 INFO: running meme/mast on cluster 225, # sequences: 23\n",
        "04:44:37 INFO: running meme/mast on cluster 280, # sequences: 7\n",
        "04:44:02 INFO: running meme/mast on cluster 226, # sequences: 16\n",
        "04:44:38 INFO: running meme/mast on cluster 281, # sequences: 13\n",
        "04:44:04 INFO: running meme/mast on cluster 227, # sequences: 21\n",
        "04:44:40 INFO: running meme/mast on cluster 282, # sequences: 31\n",
        "04:44:08 INFO: running meme/mast on cluster 228, # sequences: 38\n",
        "04:44:46 INFO: running meme/mast on cluster 283, # sequences: 10\n",
        "04:44:16 INFO: running meme/mast on cluster 229, # sequences: 23\n",
        "04:44:48 INFO: running meme/mast on cluster 284, # sequences: 20\n",
        "04:44:21 INFO: running meme/mast on cluster 230, # sequences: 25\n",
        "04:44:51 INFO: running meme/mast on cluster 285, # sequences: 21\n",
        "04:44:25 INFO: running meme/mast on cluster 231, # sequences: 28\n",
        "04:44:55 INFO: running meme/mast on cluster 286, # sequences: 24\n",
        "04:44:30 INFO: running meme/mast on cluster 232, # sequences: 15\n",
        "04:45:00 INFO: running meme/mast on cluster 287, # sequences: 6\n",
        "04:44:33 INFO: running meme/mast on cluster 233, # sequences: 5\n",
        "04:45:01 INFO: running meme/mast on cluster 288, # sequences: 46\n",
        "04:44:34 INFO: running meme/mast on cluster 234, # sequences: 7\n",
        "04:45:12 INFO: running meme/mast on cluster 289, # sequences: 4\n",
        "04:44:35 INFO: running meme/mast on cluster 235, # sequences: 18\n",
        "04:45:12 INFO: running meme/mast on cluster 290, # sequences: 17\n",
        "04:44:38 INFO: running meme/mast on cluster 236, # sequences: 23\n",
        "04:45:16 INFO: running meme/mast on cluster 291, # sequences: 8\n",
        "04:44:43 INFO: running meme/mast on cluster 237, # sequences: 17\n"
       ]
      },
      {
       "output_type": "stream",
       "stream": "stderr",
       "text": [
        "04:49:59 INFO: Iteration # 202\n",
        "04:45:17 INFO: running meme/mast on cluster 292, # sequences: 27\n",
        "04:44:46 INFO: running meme/mast on cluster 238, # sequences: 8\n",
        "04:45:22 INFO: running meme/mast on cluster 293, # sequences: 2\n",
        "04:44:48 INFO: running meme/mast on cluster 239, # sequences: 26\n",
        "04:45:22 INFO: running meme/mast on cluster 294, # sequences: 3\n",
        "04:44:53 INFO: running meme/mast on cluster 240, # sequences: 22\n",
        "04:45:23 INFO: running meme/mast on cluster 295, # sequences: 28\n",
        "04:44:57 INFO: running meme/mast on cluster 241, # sequences: 16\n",
        "04:45:28 INFO: running meme/mast on cluster 296, # sequences: 17\n",
        "04:45:00 INFO: running meme/mast on cluster 242, # sequences: 22\n",
        "04:45:31 INFO: running meme/mast on cluster 297, # sequences: 29\n",
        "04:45:04 INFO: running meme/mast on cluster 243, # sequences: 26\n",
        "04:45:37 INFO: running meme/mast on cluster 298, # sequences: 30\n",
        "04:45:09 INFO: running meme/mast on cluster 244, # sequences: 3\n",
        "04:45:43 INFO: running meme/mast on cluster 299, # sequences: 17\n",
        "04:45:09 INFO: running meme/mast on cluster 245, # sequences: 3\n",
        "04:45:46 INFO: running meme/mast on cluster 300, # sequences: 23\n",
        "04:45:11 INFO: running meme/mast on cluster 246, # sequences: 11\n",
        "04:45:49 INFO: running meme/mast on cluster 301, # sequences: 25\n",
        "04:45:13 INFO: running meme/mast on cluster 247, # sequences: 24\n",
        "04:45:54 INFO: running meme/mast on cluster 302, # sequences: 32\n",
        "04:45:17 INFO: running meme/mast on cluster 248, # sequences: 26\n",
        "04:46:00 INFO: running meme/mast on cluster 303, # sequences: 14\n",
        "04:45:22 INFO: running meme/mast on cluster 249, # sequences: 0\n",
        "04:46:02 INFO: running meme/mast on cluster 304, # sequences: 20\n",
        "04:45:22 INFO: running meme/mast on cluster 250, # sequences: 4\n",
        "04:46:06 INFO: running meme/mast on cluster 305, # sequences: 20\n",
        "04:45:23 INFO: running meme/mast on cluster 251, # sequences: 21\n",
        "04:46:10 INFO: running meme/mast on cluster 306, # sequences: 20\n",
        "04:45:27 INFO: running meme/mast on cluster 252, # sequences: 17\n",
        "04:46:13 INFO: running meme/mast on cluster 307, # sequences: 19\n",
        "04:45:30 INFO: running meme/mast on cluster 253, # sequences: 20\n",
        "04:46:17 INFO: running meme/mast on cluster 308, # sequences: 12\n",
        "04:45:33 INFO: running meme/mast on cluster 254, # sequences: 7\n",
        "04:46:19 INFO: running meme/mast on cluster 310, # sequences: 22\n",
        "04:45:35 INFO: running meme/mast on cluster 255, # sequences: 11\n",
        "04:46:24 INFO: running meme/mast on cluster 311, # sequences: 5\n",
        "04:45:37 INFO: running meme/mast on cluster 256, # sequences: 15\n",
        "04:46:25 INFO: running meme/mast on cluster 312, # sequences: 18\n",
        "04:45:39 INFO: running meme/mast on cluster 257, # sequences: 20\n",
        "04:46:29 INFO: running meme/mast on cluster 313, # sequences: 6\n",
        "04:45:43 INFO: running meme/mast on cluster 258, # sequences: 34\n",
        "04:46:30 INFO: running meme/mast on cluster 314, # sequences: 25\n",
        "04:45:50 INFO: running meme/mast on cluster 259, # sequences: 19\n",
        "04:46:35 INFO: running meme/mast on cluster 315, # sequences: 14\n",
        "04:45:53 INFO: running meme/mast on cluster 260, # sequences: 5\n",
        "04:46:38 INFO: running meme/mast on cluster 316, # sequences: 30\n",
        "04:45:54 INFO: running meme/mast on cluster 261, # sequences: 19\n",
        "04:46:44 INFO: running meme/mast on cluster 317, # sequences: 34\n",
        "04:45:58 INFO: running meme/mast on cluster 262, # sequences: 14\n",
        "04:46:51 INFO: running meme/mast on cluster 318, # sequences: 3\n",
        "04:45:59 INFO: running meme/mast on cluster 263, # sequences: 23\n",
        "04:46:52 INFO: running meme/mast on cluster 319, # sequences: 17\n",
        "04:46:03 INFO: running meme/mast on cluster 264, # sequences: 22\n",
        "04:46:56 INFO: running meme/mast on cluster 320, # sequences: 27\n",
        "04:46:08 INFO: running meme/mast on cluster 265, # sequences: 19\n",
        "04:47:01 INFO: running meme/mast on cluster 321, # sequences: 17\n",
        "04:46:11 INFO: running meme/mast on cluster 266, # sequences: 20\n",
        "04:47:04 INFO: running meme/mast on cluster 322, # sequences: 9\n",
        "04:46:14 INFO: running meme/mast on cluster 267, # sequences: 9\n",
        "04:47:06 INFO: running meme/mast on cluster 323, # sequences: 14\n",
        "04:46:16 INFO: running meme/mast on cluster 268, # sequences: 11\n",
        "04:47:08 INFO: running meme/mast on cluster 324, # sequences: 6\n",
        "04:46:18 INFO: running meme/mast on cluster 269, # sequences: 4\n",
        "04:47:09 INFO: running meme/mast on cluster 325, # sequences: 9\n",
        "04:46:19 INFO: running meme/mast on cluster 270, # sequences: 16\n",
        "04:47:11 INFO: running meme/mast on cluster 326, # sequences: 13\n",
        "04:46:22 INFO: running meme/mast on cluster 271, # sequences: 14\n",
        "04:47:13 INFO: running meme/mast on cluster 327, # sequences: 13\n",
        "04:46:24 INFO: running meme/mast on cluster 272, # sequences: 7\n",
        "04:47:16 INFO: running meme/mast on cluster 383, # sequences: 14\n",
        "04:46:27 INFO: running meme/mast on cluster 328, # sequences: 29\n",
        "04:47:18 INFO: running meme/mast on cluster 384, # sequences: 2\n",
        "04:46:33 INFO: running meme/mast on cluster 329, # sequences: 23\n",
        "04:47:18 INFO: running meme/mast on cluster 385, # sequences: 25\n",
        "04:46:37 INFO: running meme/mast on cluster 330, # sequences: 19\n",
        "04:47:23 INFO: running meme/mast on cluster 386, # sequences: 17\n",
        "04:46:41 INFO: running meme/mast on cluster 331, # sequences: 5\n",
        "04:47:26 INFO: running meme/mast on cluster 387, # sequences: 15\n",
        "04:46:43 INFO: running meme/mast on cluster 332, # sequences: 17\n",
        "04:47:29 INFO: running meme/mast on cluster 388, # sequences: 20\n",
        "04:46:46 INFO: running meme/mast on cluster 333, # sequences: 1\n",
        "04:47:32 INFO: running meme/mast on cluster 389, # sequences: 15\n",
        "04:46:46 INFO: running meme/mast on cluster 334, # sequences: 15\n",
        "04:47:35 INFO: running meme/mast on cluster 390, # sequences: 29\n",
        "04:46:49 INFO: running meme/mast on cluster 335, # sequences: 9\n",
        "04:47:40 INFO: running meme/mast on cluster 391, # sequences: 8\n",
        "04:46:50 INFO: running meme/mast on cluster 336, # sequences: 17\n",
        "04:47:42 INFO: running meme/mast on cluster 392, # sequences: 26\n",
        "04:46:53 INFO: running meme/mast on cluster 337, # sequences: 17\n",
        "04:47:47 INFO: running meme/mast on cluster 393, # sequences: 20\n",
        "04:46:56 INFO: running meme/mast on cluster 338, # sequences: 19\n",
        "04:47:51 INFO: running meme/mast on cluster 394, # sequences: 8\n",
        "04:46:59 INFO: running meme/mast on cluster 339, # sequences: 29\n",
        "04:47:53 INFO: running meme/mast on cluster 395, # sequences: 6\n",
        "04:47:04 INFO: running meme/mast on cluster 340, # sequences: 24\n",
        "04:47:54 INFO: running meme/mast on cluster 396, # sequences: 21\n",
        "04:47:09 INFO: running meme/mast on cluster 341, # sequences: 13\n",
        "04:47:58 INFO: running meme/mast on cluster 397, # sequences: 0\n",
        "04:47:11 INFO: running meme/mast on cluster 342, # sequences: 1\n",
        "04:47:58 INFO: running meme/mast on cluster 398, # sequences: 20\n",
        "04:47:11 INFO: running meme/mast on cluster 343, # sequences: 23\n",
        "04:48:02 INFO: running meme/mast on cluster 399, # sequences: 28\n",
        "04:47:15 INFO: running meme/mast on cluster 344, # sequences: 6\n",
        "04:48:07 INFO: running meme/mast on cluster 400, # sequences: 22\n",
        "04:47:17 INFO: running meme/mast on cluster 345, # sequences: 4\n",
        "04:48:11 INFO: running meme/mast on cluster 401, # sequences: 36\n",
        "04:47:18 INFO: running meme/mast on cluster 346, # sequences: 24\n",
        "04:48:19 INFO: running meme/mast on cluster 402, # sequences: 17\n",
        "04:47:22 INFO: running meme/mast on cluster 347, # sequences: 21\n",
        "04:48:22 INFO: running meme/mast on cluster 403, # sequences: 30\n",
        "04:47:26 INFO: running meme/mast on cluster 348, # sequences: 9\n",
        "04:48:28 INFO: running meme/mast on cluster 404, # sequences: 3\n",
        "04:47:28 INFO: running meme/mast on cluster 349, # sequences: 29\n",
        "04:48:29 INFO: running meme/mast on cluster 405, # sequences: 6\n",
        "04:47:33 INFO: running meme/mast on cluster 350, # sequences: 51\n",
        "04:48:30 INFO: running meme/mast on cluster 406, # sequences: 34\n",
        "04:47:45 INFO: running meme/mast on cluster 351, # sequences: 10\n",
        "04:48:38 INFO: running meme/mast on cluster 407, # sequences: 32\n",
        "04:47:47 INFO: running meme/mast on cluster 352, # sequences: 34\n",
        "04:48:44 INFO: running meme/mast on cluster 408, # sequences: 21\n",
        "04:47:55 INFO: running meme/mast on cluster 353, # sequences: 26\n",
        "04:48:48 INFO: running meme/mast on cluster 409, # sequences: 18\n",
        "04:48:00 INFO: running meme/mast on cluster 354, # sequences: 20\n",
        "04:48:51 INFO: running meme/mast on cluster 410, # sequences: 8\n",
        "04:48:03 INFO: running meme/mast on cluster 356, # sequences: 6\n",
        "04:48:52 INFO: running meme/mast on cluster 411, # sequences: 27\n",
        "04:48:04 INFO: running meme/mast on cluster 357, # sequences: 23\n"
       ]
      },
      {
       "output_type": "stream",
       "stream": "stderr",
       "text": [
        "04:50:06 INFO: Iteration # 203\n",
        "04:48:58 INFO: running meme/mast on cluster 412, # sequences: 23\n",
        "04:48:09 INFO: running meme/mast on cluster 358, # sequences: 25\n",
        "04:49:02 INFO: running meme/mast on cluster 413, # sequences: 6\n",
        "04:48:13 INFO: running meme/mast on cluster 359, # sequences: 3\n",
        "04:49:03 INFO: running meme/mast on cluster 414, # sequences: 13\n",
        "04:48:13 INFO: running meme/mast on cluster 360, # sequences: 24\n",
        "04:49:05 INFO: running meme/mast on cluster 415, # sequences: 17\n",
        "04:48:18 INFO: running meme/mast on cluster 361, # sequences: 9\n",
        "04:49:09 INFO: running meme/mast on cluster 416, # sequences: 20\n",
        "04:48:19 INFO: running meme/mast on cluster 362, # sequences: 25\n",
        "04:49:12 INFO: running meme/mast on cluster 417, # sequences: 10\n",
        "04:48:24 INFO: running meme/mast on cluster 363, # sequences: 21\n",
        "04:49:14 INFO: running meme/mast on cluster 418, # sequences: 13\n",
        "04:48:28 INFO: running meme/mast on cluster 364, # sequences: 13\n",
        "04:49:16 INFO: running meme/mast on cluster 419, # sequences: 1\n",
        "04:48:30 INFO: running meme/mast on cluster 365, # sequences: 26\n",
        "04:49:16 INFO: running meme/mast on cluster 420, # sequences: 18\n",
        "04:48:35 INFO: running meme/mast on cluster 366, # sequences: 11\n",
        "04:49:20 INFO: running meme/mast on cluster 421, # sequences: 2\n",
        "04:48:37 INFO: running meme/mast on cluster 367, # sequences: 19\n",
        "04:49:20 INFO: running meme/mast on cluster 422, # sequences: 23\n",
        "04:48:41 INFO: running meme/mast on cluster 368, # sequences: 13\n",
        "04:49:24 INFO: running meme/mast on cluster 423, # sequences: 6\n",
        "04:48:43 INFO: running meme/mast on cluster 369, # sequences: 21\n",
        "04:49:24 INFO: running meme/mast on cluster 424, # sequences: 27\n",
        "04:48:47 INFO: running meme/mast on cluster 370, # sequences: 13\n",
        "04:49:29 INFO: running meme/mast on cluster 425, # sequences: 20\n",
        "04:48:49 INFO: running meme/mast on cluster 371, # sequences: 20\n",
        "04:49:33 INFO: running meme/mast on cluster 426, # sequences: 14\n",
        "04:48:53 INFO: running meme/mast on cluster 372, # sequences: 26\n",
        "04:49:35 INFO: running meme/mast on cluster 427, # sequences: 23\n",
        "04:48:57 INFO: running meme/mast on cluster 373, # sequences: 23\n",
        "04:49:39 INFO: running meme/mast on cluster 428, # sequences: 31\n",
        "04:49:01 INFO: running meme/mast on cluster 374, # sequences: 19\n",
        "04:49:44 INFO: running meme/mast on cluster 429, # sequences: 10\n",
        "04:49:05 INFO: running meme/mast on cluster 375, # sequences: 27\n",
        "04:49:46 INFO: running meme/mast on cluster 430, # sequences: 5\n",
        "04:49:10 INFO: running meme/mast on cluster 376, # sequences: 28\n",
        "04:49:16 INFO: running meme/mast on cluster 377, # sequences: 18\n",
        "04:49:19 INFO: running meme/mast on cluster 378, # sequences: 14\n",
        "04:49:21 INFO: running meme/mast on cluster 379, # sequences: 10\n",
        "04:49:23 INFO: running meme/mast on cluster 380, # sequences: 6\n",
        "04:49:25 INFO: running meme/mast on cluster 381, # sequences: 21\n",
        "04:49:28 INFO: running meme/mast on cluster 382, # sequences: 20\n"
       ]
      },
      {
       "output_type": "stream",
       "stream": "stderr",
       "text": [
        "04:50:16 INFO: Iteration # 204\n"
       ]
      },
      {
       "output_type": "stream",
       "stream": "stderr",
       "text": [
        "04:50:29 INFO: Iteration # 205\n"
       ]
      },
      {
       "output_type": "stream",
       "stream": "stderr",
       "text": [
        "04:50:39 INFO: Iteration # 206\n"
       ]
      },
      {
       "output_type": "stream",
       "stream": "stderr",
       "text": [
        "04:50:48 INFO: Iteration # 207\n"
       ]
      },
      {
       "output_type": "stream",
       "stream": "stderr",
       "text": [
        "04:50:58 INFO: Iteration # 208\n"
       ]
      },
      {
       "output_type": "stream",
       "stream": "stderr",
       "text": [
        "04:51:05 INFO: Iteration # 209\n"
       ]
      },
      {
       "output_type": "stream",
       "stream": "stderr",
       "text": [
        "04:51:15 INFO: Iteration # 210\n"
       ]
      },
      {
       "output_type": "stream",
       "stream": "stderr",
       "text": [
        "04:51:26 INFO: Iteration # 211\n"
       ]
      },
      {
       "output_type": "stream",
       "stream": "stderr",
       "text": [
        "04:51:45 INFO: Iteration # 212\n"
       ]
      },
      {
       "output_type": "stream",
       "stream": "stderr",
       "text": [
        "04:51:52 INFO: Iteration # 213\n"
       ]
      },
      {
       "output_type": "stream",
       "stream": "stderr",
       "text": [
        "04:52:02 INFO: Iteration # 214\n"
       ]
      },
      {
       "output_type": "stream",
       "stream": "stderr",
       "text": [
        "04:52:09 INFO: Iteration # 215\n"
       ]
      },
      {
       "output_type": "stream",
       "stream": "stderr",
       "text": [
        "04:52:19 INFO: Iteration # 216\n"
       ]
      },
      {
       "output_type": "stream",
       "stream": "stderr",
       "text": [
        "04:52:28 INFO: Iteration # 217\n"
       ]
      },
      {
       "output_type": "stream",
       "stream": "stderr",
       "text": [
        "04:52:37 INFO: Iteration # 218\n"
       ]
      },
      {
       "output_type": "stream",
       "stream": "stderr",
       "text": [
        "04:52:51 INFO: Iteration # 219\n"
       ]
      },
      {
       "output_type": "stream",
       "stream": "stderr",
       "text": [
        "04:53:01 INFO: Iteration # 220\n"
       ]
      },
      {
       "output_type": "stream",
       "stream": "stderr",
       "text": [
        "04:53:12 INFO: Iteration # 221\n"
       ]
      },
      {
       "output_type": "stream",
       "stream": "stderr",
       "text": [
        "04:53:24 INFO: Iteration # 222\n"
       ]
      },
      {
       "output_type": "stream",
       "stream": "stderr",
       "text": [
        "04:53:31 INFO: Iteration # 223\n"
       ]
      },
      {
       "output_type": "stream",
       "stream": "stderr",
       "text": [
        "04:53:41 INFO: Iteration # 224\n"
       ]
      },
      {
       "output_type": "stream",
       "stream": "stderr",
       "text": [
        "04:53:48 INFO: Iteration # 225\n"
       ]
      },
      {
       "output_type": "stream",
       "stream": "stderr",
       "text": [
        "04:54:05 INFO: Iteration # 226\n"
       ]
      },
      {
       "output_type": "stream",
       "stream": "stderr",
       "text": [
        "04:54:14 INFO: Iteration # 227\n"
       ]
      },
      {
       "output_type": "stream",
       "stream": "stderr",
       "text": [
        "04:54:23 INFO: Iteration # 228\n"
       ]
      },
      {
       "output_type": "stream",
       "stream": "stderr",
       "text": [
        "04:54:30 INFO: Iteration # 229\n"
       ]
      },
      {
       "output_type": "stream",
       "stream": "stderr",
       "text": [
        "04:54:40 INFO: Iteration # 230\n"
       ]
      },
      {
       "output_type": "stream",
       "stream": "stderr",
       "text": [
        "04:54:51 INFO: Iteration # 231\n"
       ]
      },
      {
       "output_type": "stream",
       "stream": "stderr",
       "text": [
        "04:55:03 INFO: Iteration # 232\n"
       ]
      },
      {
       "output_type": "stream",
       "stream": "stderr",
       "text": [
        "04:55:17 INFO: Iteration # 233\n"
       ]
      },
      {
       "output_type": "stream",
       "stream": "stderr",
       "text": [
        "04:55:26 INFO: Iteration # 234\n"
       ]
      },
      {
       "output_type": "stream",
       "stream": "stderr",
       "text": [
        "04:55:33 INFO: Iteration # 235\n"
       ]
      },
      {
       "output_type": "stream",
       "stream": "stderr",
       "text": [
        "04:55:43 INFO: Iteration # 236\n"
       ]
      },
      {
       "output_type": "stream",
       "stream": "stderr",
       "text": [
        "04:55:52 INFO: Iteration # 237\n"
       ]
      },
      {
       "output_type": "stream",
       "stream": "stderr",
       "text": [
        "04:56:02 INFO: Iteration # 238\n"
       ]
      },
      {
       "output_type": "stream",
       "stream": "stderr",
       "text": [
        "04:56:09 INFO: Iteration # 239\n"
       ]
      },
      {
       "output_type": "stream",
       "stream": "stderr",
       "text": [
        "04:56:25 INFO: Iteration # 240\n"
       ]
      },
      {
       "output_type": "stream",
       "stream": "stderr",
       "text": [
        "04:56:36 INFO: Iteration # 241\n"
       ]
      },
      {
       "output_type": "stream",
       "stream": "stderr",
       "text": [
        "04:56:48 INFO: Iteration # 242\n"
       ]
      },
      {
       "output_type": "stream",
       "stream": "stderr",
       "text": [
        "04:56:55 INFO: Iteration # 243\n"
       ]
      },
      {
       "output_type": "stream",
       "stream": "stderr",
       "text": [
        "04:57:05 INFO: Iteration # 244\n"
       ]
      },
      {
       "output_type": "stream",
       "stream": "stderr",
       "text": [
        "04:57:12 INFO: Iteration # 245\n"
       ]
      },
      {
       "output_type": "stream",
       "stream": "stderr",
       "text": [
        "04:57:21 INFO: Iteration # 246\n"
       ]
      },
      {
       "output_type": "stream",
       "stream": "stderr",
       "text": [
        "04:57:37 INFO: Iteration # 247\n"
       ]
      },
      {
       "output_type": "stream",
       "stream": "stderr",
       "text": [
        "04:57:47 INFO: Iteration # 248\n"
       ]
      },
      {
       "output_type": "stream",
       "stream": "stderr",
       "text": [
        "04:57:54 INFO: Iteration # 249\n"
       ]
      },
      {
       "output_type": "stream",
       "stream": "stderr",
       "text": [
        "04:58:03 INFO: Iteration # 250\n"
       ]
      },
      {
       "output_type": "stream",
       "stream": "stderr",
       "text": [
        "04:58:15 INFO: Iteration # 251\n"
       ]
      },
      {
       "output_type": "stream",
       "stream": "stderr",
       "text": [
        "04:58:26 INFO: Iteration # 252\n"
       ]
      },
      {
       "output_type": "stream",
       "stream": "stderr",
       "text": [
        "04:58:34 INFO: Iteration # 253\n"
       ]
      },
      {
       "output_type": "stream",
       "stream": "stderr",
       "text": [
        "04:58:50 INFO: Iteration # 254\n"
       ]
      },
      {
       "output_type": "stream",
       "stream": "stderr",
       "text": [
        "04:58:57 INFO: Iteration # 255\n"
       ]
      },
      {
       "output_type": "stream",
       "stream": "stderr",
       "text": [
        "04:59:07 INFO: Iteration # 256\n"
       ]
      },
      {
       "output_type": "stream",
       "stream": "stderr",
       "text": [
        "04:59:16 INFO: Iteration # 257\n"
       ]
      },
      {
       "output_type": "stream",
       "stream": "stderr",
       "text": [
        "04:59:26 INFO: Iteration # 258\n"
       ]
      },
      {
       "output_type": "stream",
       "stream": "stderr",
       "text": [
        "04:59:33 INFO: Iteration # 259\n"
       ]
      },
      {
       "output_type": "stream",
       "stream": "stderr",
       "text": [
        "04:59:42 INFO: Iteration # 260\n"
       ]
      },
      {
       "output_type": "stream",
       "stream": "stderr",
       "text": [
        "05:00:00 INFO: Iteration # 261\n"
       ]
      },
      {
       "output_type": "stream",
       "stream": "stderr",
       "text": [
        "05:00:12 INFO: Iteration # 262\n"
       ]
      },
      {
       "output_type": "stream",
       "stream": "stderr",
       "text": [
        "05:00:20 INFO: Iteration # 263\n"
       ]
      },
      {
       "output_type": "stream",
       "stream": "stderr",
       "text": [
        "05:00:29 INFO: Iteration # 264\n"
       ]
      },
      {
       "output_type": "stream",
       "stream": "stderr",
       "text": [
        "05:00:36 INFO: Iteration # 265\n"
       ]
      },
      {
       "output_type": "stream",
       "stream": "stderr",
       "text": [
        "05:00:46 INFO: Iteration # 266\n"
       ]
      },
      {
       "output_type": "stream",
       "stream": "stderr",
       "text": [
        "05:00:55 INFO: Iteration # 267\n"
       ]
      },
      {
       "output_type": "stream",
       "stream": "stderr",
       "text": [
        "05:01:11 INFO: Iteration # 268\n"
       ]
      },
      {
       "output_type": "stream",
       "stream": "stderr",
       "text": [
        "05:01:18 INFO: Iteration # 269\n"
       ]
      },
      {
       "output_type": "stream",
       "stream": "stderr",
       "text": [
        "05:01:28 INFO: Iteration # 270\n"
       ]
      },
      {
       "output_type": "stream",
       "stream": "stderr",
       "text": [
        "05:01:40 INFO: Iteration # 271\n"
       ]
      },
      {
       "output_type": "stream",
       "stream": "stderr",
       "text": [
        "05:01:51 INFO: Iteration # 272\n"
       ]
      },
      {
       "output_type": "stream",
       "stream": "stderr",
       "text": [
        "05:01:59 INFO: Iteration # 273\n"
       ]
      },
      {
       "output_type": "stream",
       "stream": "stderr",
       "text": [
        "05:02:08 INFO: Iteration # 274\n"
       ]
      },
      {
       "output_type": "stream",
       "stream": "stderr",
       "text": [
        "05:02:22 INFO: Iteration # 275\n"
       ]
      },
      {
       "output_type": "stream",
       "stream": "stderr",
       "text": [
        "05:02:32 INFO: Iteration # 276\n"
       ]
      },
      {
       "output_type": "stream",
       "stream": "stderr",
       "text": [
        "05:02:41 INFO: Iteration # 277\n"
       ]
      },
      {
       "output_type": "stream",
       "stream": "stderr",
       "text": [
        "05:02:50 INFO: Iteration # 278\n"
       ]
      },
      {
       "output_type": "stream",
       "stream": "stderr",
       "text": [
        "05:02:57 INFO: Iteration # 279\n"
       ]
      },
      {
       "output_type": "stream",
       "stream": "stderr",
       "text": [
        "05:03:07 INFO: Iteration # 280\n"
       ]
      },
      {
       "output_type": "stream",
       "stream": "stderr",
       "text": [
        "05:03:19 INFO: Iteration # 281\n"
       ]
      },
      {
       "output_type": "stream",
       "stream": "stderr",
       "text": [
        "05:03:37 INFO: Iteration # 282\n"
       ]
      },
      {
       "output_type": "stream",
       "stream": "stderr",
       "text": [
        "05:03:44 INFO: Iteration # 283\n"
       ]
      },
      {
       "output_type": "stream",
       "stream": "stderr",
       "text": [
        "05:03:54 INFO: Iteration # 284\n"
       ]
      },
      {
       "output_type": "stream",
       "stream": "stderr",
       "text": [
        "05:04:01 INFO: Iteration # 285\n"
       ]
      },
      {
       "output_type": "stream",
       "stream": "stderr",
       "text": [
        "05:04:11 INFO: Iteration # 286\n"
       ]
      },
      {
       "output_type": "stream",
       "stream": "stderr",
       "text": [
        "05:04:20 INFO: Iteration # 287\n"
       ]
      },
      {
       "output_type": "stream",
       "stream": "stderr",
       "text": [
        "05:04:29 INFO: Iteration # 288\n"
       ]
      },
      {
       "output_type": "stream",
       "stream": "stderr",
       "text": [
        "05:04:43 INFO: Iteration # 289\n"
       ]
      },
      {
       "output_type": "stream",
       "stream": "stderr",
       "text": [
        "05:04:53 INFO: Iteration # 290\n"
       ]
      },
      {
       "output_type": "stream",
       "stream": "stderr",
       "text": [
        "05:05:05 INFO: Iteration # 291\n"
       ]
      },
      {
       "output_type": "stream",
       "stream": "stderr",
       "text": [
        "05:05:17 INFO: Iteration # 292\n"
       ]
      },
      {
       "output_type": "stream",
       "stream": "stderr",
       "text": [
        "05:05:24 INFO: Iteration # 293\n"
       ]
      },
      {
       "output_type": "stream",
       "stream": "stderr",
       "text": [
        "05:05:34 INFO: Iteration # 294\n"
       ]
      },
      {
       "output_type": "stream",
       "stream": "stderr",
       "text": [
        "05:05:41 INFO: Iteration # 295\n"
       ]
      },
      {
       "output_type": "stream",
       "stream": "stderr",
       "text": [
        "05:05:57 INFO: Iteration # 296\n"
       ]
      },
      {
       "output_type": "stream",
       "stream": "stderr",
       "text": [
        "05:06:06 INFO: Iteration # 297\n"
       ]
      },
      {
       "output_type": "stream",
       "stream": "stderr",
       "text": [
        "05:06:16 INFO: Iteration # 298\n"
       ]
      },
      {
       "output_type": "stream",
       "stream": "stderr",
       "text": [
        "05:06:23 INFO: Iteration # 299\n"
       ]
      },
      {
       "output_type": "stream",
       "stream": "stderr",
       "text": [
        "05:06:33 INFO: Iteration # 300\n"
       ]
      },
      {
       "output_type": "stream",
       "stream": "stderr",
       "text": [
        "05:06:45 INFO: Iteration # 301\n"
       ]
      },
      {
       "output_type": "stream",
       "stream": "stderr",
       "text": [
        "05:06:49 ERROR: No sequences read for eco!\n",
        "05:06:52 ERROR: No sequences read for eco!\n",
        "05:06:49 WARNING: Cluster 10 with 0 genes: no sequences!\n",
        "05:06:52 WARNING: Cluster 85 with 0 genes: no sequences!\n",
        "05:06:52 ERROR: No sequences read for eco!\n",
        "05:06:53 ERROR: No sequences read for eco!\n",
        "05:06:52 WARNING: Cluster 36 with 0 genes: no sequences!\n",
        "05:06:53 WARNING: Cluster 94 with 0 genes: no sequences!\n",
        "05:06:52 ERROR: No sequences read for eco!\n",
        "05:07:03 ERROR: No sequences read for eco!\n",
        "05:06:52 WARNING: Cluster 38 with 0 genes: no sequences!\n",
        "05:07:03 WARNING: Cluster 249 with 0 genes: no sequences!\n",
        "05:06:53 ERROR: No sequences read for eco!\n",
        "05:07:05 ERROR: No sequences read for eco!\n",
        "05:06:53 WARNING: Cluster 41 with 0 genes: no sequences!\n",
        "05:07:05 WARNING: Cluster 383 with 0 genes: no sequences!\n",
        "05:07:01 ERROR: No sequences read for eco!\n",
        "05:07:06 ERROR: No sequences read for eco!\n",
        "05:07:01 WARNING: Cluster 287 with 0 genes: no sequences!\n",
        "05:07:06 WARNING: Cluster 397 with 0 genes: no sequences!\n",
        "05:07:03 ERROR: No sequences read for eco!\n",
        "05:07:07 ERROR: No sequences read for eco!\n",
        "05:07:03 WARNING: Cluster 309 with 0 genes: no sequences!\n",
        "05:07:07 WARNING: Cluster 405 with 0 genes: no sequences!\n",
        "05:07:07 ERROR: No sequences read for eco!\n",
        "05:07:07 WARNING: Cluster 348 with 0 genes: no sequences!\n",
        "05:07:07 ERROR: No sequences read for eco!\n",
        "05:07:07 WARNING: Cluster 350 with 0 genes: no sequences!\n",
        "05:07:07 ERROR: No sequences read for eco!\n",
        "05:07:07 WARNING: Cluster 355 with 0 genes: no sequences!\n",
        "05:07:09 ERROR: No sequences read for eco!\n",
        "05:07:09 WARNING: Cluster 369 with 0 genes: no sequences!\n"
       ]
      }
     ]
    },
    {
     "cell_type": "markdown",
     "metadata": {},
     "source": [
      "Need to do this from another notebook if the above cell is running cmonkey concurrently...\n",
      "\n",
      "See http://nbviewer.ipython.org/gist/dreiss-isb/94eadc69c9dec8ecc4cc for other plotting ideas."
     ]
    },
    {
     "cell_type": "code",
     "collapsed": false,
     "input": [
      "from cmonkeyobj import cMonkey2 as cm2\n",
      "b = cm2(cm['out_database']) ##'eco-test/cmonkey_run.db')"
     ],
     "language": "python",
     "metadata": {},
     "outputs": [
      {
       "output_type": "stream",
       "stream": "stdout",
       "text": [
        "importing utils\n",
        "iteration = 730\n"
       ]
      }
     ],
     "prompt_number": 1
    },
    {
     "cell_type": "code",
     "collapsed": false,
     "input": [
      "%matplotlib inline\n",
      "b.plot_motif(25,1);"
     ],
     "language": "python",
     "metadata": {},
     "outputs": [
      {
       "metadata": {},
       "output_type": "display_data",
       "png": "[encoded data removed]",
       "text": [
        "<matplotlib.figure.Figure at 0x7fd4261dda50>"
       ]
      }
     ],
     "prompt_number": 20
    },
    {
     "cell_type": "code",
     "collapsed": false,
     "input": [
      "b.tables['run_infos']"
     ],
     "language": "python",
     "metadata": {},
     "outputs": [
      {
       "html": [
        "<div style=\"max-height:1000px;max-width:1500px;overflow:auto;\">\n",
        "<table border=\"1\" class=\"dataframe\">\n",
        "  <thead>\n",
        "    <tr style=\"text-align: right;\">\n",
        "      <th></th>\n",
        "      <th>start_time</th>\n",
        "      <th>finish_time</th>\n",
        "      <th>num_iterations</th>\n",
        "      <th>last_iteration</th>\n",
        "      <th>organism</th>\n",
        "      <th>species</th>\n",
        "      <th>ncbi_code</th>\n",
        "      <th>num_rows</th>\n",
        "      <th>num_columns</th>\n",
        "      <th>num_clusters</th>\n",
        "      <th>git_sha</th>\n",
        "    </tr>\n",
        "  </thead>\n",
        "  <tbody>\n",
        "    <tr>\n",
        "      <th>0</th>\n",
        "      <td> 2015-02-01 10:25:46.784133</td>\n",
        "      <td> None</td>\n",
        "      <td> 2000</td>\n",
        "      <td> 730</td>\n",
        "      <td> eco</td>\n",
        "      <td> Escherichia_coli_K12</td>\n",
        "      <td> 511145</td>\n",
        "      <td> 4297</td>\n",
        "      <td> 176</td>\n",
        "      <td> 430</td>\n",
        "      <td> $Id: 69b1afe09739513dfe1102407ea04fe0e5c65e9e $</td>\n",
        "    </tr>\n",
        "  </tbody>\n",
        "</table>\n",
        "</div>"
       ],
       "metadata": {},
       "output_type": "pyout",
       "prompt_number": 2,
       "text": [
        "                   start_time finish_time  num_iterations  last_iteration  \\\n",
        "0  2015-02-01 10:25:46.784133        None            2000             730   \n",
        "\n",
        "  organism               species  ncbi_code  num_rows  num_columns  \\\n",
        "0      eco  Escherichia_coli_K12     511145      4297          176   \n",
        "\n",
        "   num_clusters                                          git_sha  \n",
        "0           430  $Id: 69b1afe09739513dfe1102407ea04fe0e5c65e9e $  "
       ]
      }
     ],
     "prompt_number": 2
    },
    {
     "cell_type": "code",
     "collapsed": false,
     "input": [
      "b.plot_stats();"
     ],
     "language": "python",
     "metadata": {},
     "outputs": [
      {
       "metadata": {},
       "output_type": "display_data",
       "png": "[encoded data removed]",
       "text": [
        "<matplotlib.figure.Figure at 0x7fd42669d110>"
       ]
      }
     ],
     "prompt_number": 14
    },
    {
     "cell_type": "code",
     "collapsed": false,
     "input": [
      "b.cluster_summary()"
     ],
     "language": "python",
     "metadata": {},
     "outputs": [
      {
       "html": [
        "<div style=\"max-height:1000px;max-width:1500px;overflow:auto;\">\n",
        "<table border=\"1\" class=\"dataframe\">\n",
        "  <thead>\n",
        "    <tr style=\"text-align: right;\">\n",
        "      <th></th>\n",
        "      <th>num_rows</th>\n",
        "      <th>num_cols</th>\n",
        "      <th>residual</th>\n",
        "      <th>e_value1</th>\n",
        "      <th>e_value2</th>\n",
        "      <th>p_clust1</th>\n",
        "      <th>p_clust2</th>\n",
        "    </tr>\n",
        "    <tr>\n",
        "      <th>cluster</th>\n",
        "      <th></th>\n",
        "      <th></th>\n",
        "      <th></th>\n",
        "      <th></th>\n",
        "      <th></th>\n",
        "      <th></th>\n",
        "      <th></th>\n",
        "    </tr>\n",
        "  </thead>\n",
        "  <tbody>\n",
        "    <tr>\n",
        "      <th>1  </th>\n",
        "      <td> 19</td>\n",
        "      <td> 87</td>\n",
        "      <td> 0.463886</td>\n",
        "      <td> 8.900000e+02</td>\n",
        "      <td>   2000.00</td>\n",
        "      <td> -9.167325</td>\n",
        "      <td>-11.520812</td>\n",
        "    </tr>\n",
        "    <tr>\n",
        "      <th>2  </th>\n",
        "      <td> 14</td>\n",
        "      <td> 90</td>\n",
        "      <td> 0.359209</td>\n",
        "      <td> 3.100000e+00</td>\n",
        "      <td>  22000.00</td>\n",
        "      <td> -5.280889</td>\n",
        "      <td> -5.324222</td>\n",
        "    </tr>\n",
        "    <tr>\n",
        "      <th>3  </th>\n",
        "      <td> 22</td>\n",
        "      <td> 90</td>\n",
        "      <td> 0.370580</td>\n",
        "      <td> 4.600000e+02</td>\n",
        "      <td>    170.00</td>\n",
        "      <td>-13.263603</td>\n",
        "      <td> -9.207617</td>\n",
        "    </tr>\n",
        "    <tr>\n",
        "      <th>4  </th>\n",
        "      <td> 27</td>\n",
        "      <td> 90</td>\n",
        "      <td> 0.452814</td>\n",
        "      <td> 5.200000e+01</td>\n",
        "      <td>     78.00</td>\n",
        "      <td> -8.256586</td>\n",
        "      <td> -9.484863</td>\n",
        "    </tr>\n",
        "    <tr>\n",
        "      <th>5  </th>\n",
        "      <td> 19</td>\n",
        "      <td> 90</td>\n",
        "      <td> 0.314148</td>\n",
        "      <td> 3.400000e+01</td>\n",
        "      <td>   2600.00</td>\n",
        "      <td> -9.190370</td>\n",
        "      <td> -6.225337</td>\n",
        "    </tr>\n",
        "    <tr>\n",
        "      <th>6  </th>\n",
        "      <td> 16</td>\n",
        "      <td> 88</td>\n",
        "      <td> 0.334068</td>\n",
        "      <td> 3.500000e+02</td>\n",
        "      <td>  39000.00</td>\n",
        "      <td> -7.619751</td>\n",
        "      <td> -5.086716</td>\n",
        "    </tr>\n",
        "    <tr>\n",
        "      <th>7  </th>\n",
        "      <td> 16</td>\n",
        "      <td> 92</td>\n",
        "      <td> 0.259582</td>\n",
        "      <td> 8.600000e+01</td>\n",
        "      <td>   2400.00</td>\n",
        "      <td> -5.237954</td>\n",
        "      <td> -7.674835</td>\n",
        "    </tr>\n",
        "    <tr>\n",
        "      <th>8  </th>\n",
        "      <td> 25</td>\n",
        "      <td> 88</td>\n",
        "      <td> 0.457548</td>\n",
        "      <td> 5.600000e-09</td>\n",
        "      <td>  42000.00</td>\n",
        "      <td>-12.389196</td>\n",
        "      <td> -8.597216</td>\n",
        "    </tr>\n",
        "    <tr>\n",
        "      <th>9  </th>\n",
        "      <td> 19</td>\n",
        "      <td> 85</td>\n",
        "      <td> 0.294756</td>\n",
        "      <td> 4.100000e+01</td>\n",
        "      <td>    160.00</td>\n",
        "      <td> -4.216080</td>\n",
        "      <td> -8.735613</td>\n",
        "    </tr>\n",
        "    <tr>\n",
        "      <th>10 </th>\n",
        "      <td> 22</td>\n",
        "      <td> 91</td>\n",
        "      <td> 0.290047</td>\n",
        "      <td> 8.600000e+02</td>\n",
        "      <td>  22000.00</td>\n",
        "      <td> -4.444348</td>\n",
        "      <td> -8.557409</td>\n",
        "    </tr>\n",
        "    <tr>\n",
        "      <th>11 </th>\n",
        "      <td> 31</td>\n",
        "      <td> 88</td>\n",
        "      <td> 0.515517</td>\n",
        "      <td> 4.300000e+01</td>\n",
        "      <td>  37000.00</td>\n",
        "      <td> -3.351001</td>\n",
        "      <td> -6.724915</td>\n",
        "    </tr>\n",
        "    <tr>\n",
        "      <th>12 </th>\n",
        "      <td> 28</td>\n",
        "      <td> 86</td>\n",
        "      <td> 0.441197</td>\n",
        "      <td> 9.500000e-01</td>\n",
        "      <td>      6.10</td>\n",
        "      <td>-11.329411</td>\n",
        "      <td>-10.851231</td>\n",
        "    </tr>\n",
        "    <tr>\n",
        "      <th>13 </th>\n",
        "      <td> 31</td>\n",
        "      <td> 86</td>\n",
        "      <td> 0.534283</td>\n",
        "      <td> 3.800000e+03</td>\n",
        "      <td>   8600.00</td>\n",
        "      <td> -8.132909</td>\n",
        "      <td> -5.509267</td>\n",
        "    </tr>\n",
        "    <tr>\n",
        "      <th>14 </th>\n",
        "      <td> 18</td>\n",
        "      <td> 89</td>\n",
        "      <td> 0.636444</td>\n",
        "      <td>          NaN</td>\n",
        "      <td>       NaN</td>\n",
        "      <td>       NaN</td>\n",
        "      <td>       NaN</td>\n",
        "    </tr>\n",
        "    <tr>\n",
        "      <th>15 </th>\n",
        "      <td> 19</td>\n",
        "      <td> 92</td>\n",
        "      <td> 0.272651</td>\n",
        "      <td> 1.100000e+03</td>\n",
        "      <td>   6100.00</td>\n",
        "      <td> -4.448117</td>\n",
        "      <td> -3.704522</td>\n",
        "    </tr>\n",
        "    <tr>\n",
        "      <th>16 </th>\n",
        "      <td>  6</td>\n",
        "      <td> 84</td>\n",
        "      <td> 0.629228</td>\n",
        "      <td>          NaN</td>\n",
        "      <td>       NaN</td>\n",
        "      <td>       NaN</td>\n",
        "      <td>       NaN</td>\n",
        "    </tr>\n",
        "    <tr>\n",
        "      <th>17 </th>\n",
        "      <td> 19</td>\n",
        "      <td> 87</td>\n",
        "      <td> 0.408533</td>\n",
        "      <td> 3.200000e+02</td>\n",
        "      <td>  15000.00</td>\n",
        "      <td> -4.705761</td>\n",
        "      <td> -5.959899</td>\n",
        "    </tr>\n",
        "    <tr>\n",
        "      <th>18 </th>\n",
        "      <td> 26</td>\n",
        "      <td> 90</td>\n",
        "      <td> 0.419107</td>\n",
        "      <td> 3.700000e+04</td>\n",
        "      <td>  39000.00</td>\n",
        "      <td> -9.303889</td>\n",
        "      <td> -7.277273</td>\n",
        "    </tr>\n",
        "    <tr>\n",
        "      <th>19 </th>\n",
        "      <td>  5</td>\n",
        "      <td> 88</td>\n",
        "      <td> 0.513914</td>\n",
        "      <td> 2.700000e+02</td>\n",
        "      <td>  37000.00</td>\n",
        "      <td> -3.673489</td>\n",
        "      <td> -5.570248</td>\n",
        "    </tr>\n",
        "    <tr>\n",
        "      <th>20 </th>\n",
        "      <td> 28</td>\n",
        "      <td> 85</td>\n",
        "      <td> 0.489127</td>\n",
        "      <td> 1.200000e+04</td>\n",
        "      <td> 160000.00</td>\n",
        "      <td> -4.651530</td>\n",
        "      <td> -5.441269</td>\n",
        "    </tr>\n",
        "    <tr>\n",
        "      <th>21 </th>\n",
        "      <td>  5</td>\n",
        "      <td> 85</td>\n",
        "      <td> 0.537000</td>\n",
        "      <td> 1.300000e+03</td>\n",
        "      <td>       NaN</td>\n",
        "      <td> -9.032938</td>\n",
        "      <td>       NaN</td>\n",
        "    </tr>\n",
        "    <tr>\n",
        "      <th>22 </th>\n",
        "      <td> 25</td>\n",
        "      <td> 88</td>\n",
        "      <td> 0.459982</td>\n",
        "      <td> 2.300000e+04</td>\n",
        "      <td>  73000.00</td>\n",
        "      <td> -7.780772</td>\n",
        "      <td> -5.205512</td>\n",
        "    </tr>\n",
        "    <tr>\n",
        "      <th>23 </th>\n",
        "      <td> 28</td>\n",
        "      <td> 89</td>\n",
        "      <td> 0.447121</td>\n",
        "      <td> 1.600000e+00</td>\n",
        "      <td>     34.00</td>\n",
        "      <td> -8.805628</td>\n",
        "      <td>-10.542413</td>\n",
        "    </tr>\n",
        "    <tr>\n",
        "      <th>24 </th>\n",
        "      <td> 31</td>\n",
        "      <td> 86</td>\n",
        "      <td> 0.514914</td>\n",
        "      <td> 1.400000e+02</td>\n",
        "      <td>  34000.00</td>\n",
        "      <td> -4.661150</td>\n",
        "      <td> -6.041093</td>\n",
        "    </tr>\n",
        "    <tr>\n",
        "      <th>25 </th>\n",
        "      <td> 25</td>\n",
        "      <td> 84</td>\n",
        "      <td> 0.404948</td>\n",
        "      <td> 6.000000e-02</td>\n",
        "      <td>   1500.00</td>\n",
        "      <td> -9.462116</td>\n",
        "      <td>-10.170693</td>\n",
        "    </tr>\n",
        "    <tr>\n",
        "      <th>26 </th>\n",
        "      <td> 22</td>\n",
        "      <td> 89</td>\n",
        "      <td> 0.382884</td>\n",
        "      <td> 1.000000e+01</td>\n",
        "      <td>   2000.00</td>\n",
        "      <td> -5.902741</td>\n",
        "      <td>-10.176992</td>\n",
        "    </tr>\n",
        "    <tr>\n",
        "      <th>27 </th>\n",
        "      <td> 14</td>\n",
        "      <td> 90</td>\n",
        "      <td> 0.297597</td>\n",
        "      <td> 7.800000e+02</td>\n",
        "      <td>   3000.00</td>\n",
        "      <td> -6.060868</td>\n",
        "      <td> -3.517126</td>\n",
        "    </tr>\n",
        "    <tr>\n",
        "      <th>28 </th>\n",
        "      <td> 21</td>\n",
        "      <td> 89</td>\n",
        "      <td> 0.299572</td>\n",
        "      <td> 2.100000e+04</td>\n",
        "      <td>  48000.00</td>\n",
        "      <td> -3.991400</td>\n",
        "      <td> -4.241375</td>\n",
        "    </tr>\n",
        "    <tr>\n",
        "      <th>29 </th>\n",
        "      <td> 18</td>\n",
        "      <td> 91</td>\n",
        "      <td> 0.347047</td>\n",
        "      <td> 4.100000e+00</td>\n",
        "      <td>     48.00</td>\n",
        "      <td> -8.633534</td>\n",
        "      <td> -6.876872</td>\n",
        "    </tr>\n",
        "    <tr>\n",
        "      <th>30 </th>\n",
        "      <td> 18</td>\n",
        "      <td> 86</td>\n",
        "      <td> 0.514686</td>\n",
        "      <td> 3.300000e+03</td>\n",
        "      <td>   3200.00</td>\n",
        "      <td> -6.255782</td>\n",
        "      <td> -7.206936</td>\n",
        "    </tr>\n",
        "    <tr>\n",
        "      <th>...</th>\n",
        "      <td>...</td>\n",
        "      <td>...</td>\n",
        "      <td>...</td>\n",
        "      <td>...</td>\n",
        "      <td>...</td>\n",
        "      <td>...</td>\n",
        "      <td>...</td>\n",
        "    </tr>\n",
        "    <tr>\n",
        "      <th>401</th>\n",
        "      <td> 14</td>\n",
        "      <td> 85</td>\n",
        "      <td> 0.271956</td>\n",
        "      <td> 3.200000e+03</td>\n",
        "      <td>   5600.00</td>\n",
        "      <td> -5.279968</td>\n",
        "      <td> -8.308266</td>\n",
        "    </tr>\n",
        "    <tr>\n",
        "      <th>402</th>\n",
        "      <td> 18</td>\n",
        "      <td> 88</td>\n",
        "      <td> 0.286277</td>\n",
        "      <td> 9.400000e+00</td>\n",
        "      <td>  31000.00</td>\n",
        "      <td> -7.176497</td>\n",
        "      <td> -8.057356</td>\n",
        "    </tr>\n",
        "    <tr>\n",
        "      <th>403</th>\n",
        "      <td> 30</td>\n",
        "      <td> 89</td>\n",
        "      <td> 0.526593</td>\n",
        "      <td> 1.200000e+05</td>\n",
        "      <td>  89000.00</td>\n",
        "      <td> -7.858438</td>\n",
        "      <td> -7.202023</td>\n",
        "    </tr>\n",
        "    <tr>\n",
        "      <th>404</th>\n",
        "      <td> 35</td>\n",
        "      <td> 92</td>\n",
        "      <td> 0.484192</td>\n",
        "      <td> 8.200000e-05</td>\n",
        "      <td>    160.00</td>\n",
        "      <td> -6.364408</td>\n",
        "      <td> -4.912787</td>\n",
        "    </tr>\n",
        "    <tr>\n",
        "      <th>405</th>\n",
        "      <td> 19</td>\n",
        "      <td> 86</td>\n",
        "      <td> 0.470261</td>\n",
        "      <td> 5.600000e+00</td>\n",
        "      <td>      5.90</td>\n",
        "      <td>-11.206039</td>\n",
        "      <td>-10.870106</td>\n",
        "    </tr>\n",
        "    <tr>\n",
        "      <th>406</th>\n",
        "      <td> 24</td>\n",
        "      <td> 88</td>\n",
        "      <td> 0.512985</td>\n",
        "      <td> 7.700000e+02</td>\n",
        "      <td>   3000.00</td>\n",
        "      <td> -5.476454</td>\n",
        "      <td> -5.929139</td>\n",
        "    </tr>\n",
        "    <tr>\n",
        "      <th>407</th>\n",
        "      <td> 27</td>\n",
        "      <td> 90</td>\n",
        "      <td> 0.524465</td>\n",
        "      <td> 5.700000e+03</td>\n",
        "      <td>   6100.00</td>\n",
        "      <td>-10.783312</td>\n",
        "      <td> -5.375576</td>\n",
        "    </tr>\n",
        "    <tr>\n",
        "      <th>408</th>\n",
        "      <td> 20</td>\n",
        "      <td> 90</td>\n",
        "      <td> 0.382880</td>\n",
        "      <td> 1.100000e+00</td>\n",
        "      <td>   3100.00</td>\n",
        "      <td> -6.306150</td>\n",
        "      <td> -7.406318</td>\n",
        "    </tr>\n",
        "    <tr>\n",
        "      <th>409</th>\n",
        "      <td> 28</td>\n",
        "      <td> 89</td>\n",
        "      <td> 0.558223</td>\n",
        "      <td> 2.600000e+04</td>\n",
        "      <td>  69000.00</td>\n",
        "      <td> -7.196591</td>\n",
        "      <td> -9.199742</td>\n",
        "    </tr>\n",
        "    <tr>\n",
        "      <th>410</th>\n",
        "      <td> 32</td>\n",
        "      <td> 91</td>\n",
        "      <td> 0.509368</td>\n",
        "      <td> 7.400000e+00</td>\n",
        "      <td>   9000.00</td>\n",
        "      <td> -6.977390</td>\n",
        "      <td> -3.861997</td>\n",
        "    </tr>\n",
        "    <tr>\n",
        "      <th>411</th>\n",
        "      <td> 20</td>\n",
        "      <td> 90</td>\n",
        "      <td> 0.481056</td>\n",
        "      <td> 1.800000e+03</td>\n",
        "      <td>   5800.00</td>\n",
        "      <td> -8.336620</td>\n",
        "      <td> -5.742202</td>\n",
        "    </tr>\n",
        "    <tr>\n",
        "      <th>412</th>\n",
        "      <td> 26</td>\n",
        "      <td> 93</td>\n",
        "      <td> 0.441142</td>\n",
        "      <td> 1.500000e-02</td>\n",
        "      <td>  75000.00</td>\n",
        "      <td> -5.974618</td>\n",
        "      <td> -4.730487</td>\n",
        "    </tr>\n",
        "    <tr>\n",
        "      <th>413</th>\n",
        "      <td> 13</td>\n",
        "      <td> 89</td>\n",
        "      <td> 0.229470</td>\n",
        "      <td> 3.700000e+00</td>\n",
        "      <td>   1400.00</td>\n",
        "      <td> -4.658986</td>\n",
        "      <td> -5.228963</td>\n",
        "    </tr>\n",
        "    <tr>\n",
        "      <th>414</th>\n",
        "      <td> 10</td>\n",
        "      <td> 84</td>\n",
        "      <td> 0.115440</td>\n",
        "      <td> 6.900000e-01</td>\n",
        "      <td>      3.00</td>\n",
        "      <td>-12.800549</td>\n",
        "      <td>-12.972509</td>\n",
        "    </tr>\n",
        "    <tr>\n",
        "      <th>415</th>\n",
        "      <td> 17</td>\n",
        "      <td> 85</td>\n",
        "      <td> 0.322172</td>\n",
        "      <td> 2.900000e+03</td>\n",
        "      <td>   4100.00</td>\n",
        "      <td> -7.489931</td>\n",
        "      <td> -4.439785</td>\n",
        "    </tr>\n",
        "    <tr>\n",
        "      <th>416</th>\n",
        "      <td> 18</td>\n",
        "      <td> 87</td>\n",
        "      <td> 0.351070</td>\n",
        "      <td> 1.900000e-01</td>\n",
        "      <td>   4500.00</td>\n",
        "      <td> -6.951466</td>\n",
        "      <td> -6.778483</td>\n",
        "    </tr>\n",
        "    <tr>\n",
        "      <th>417</th>\n",
        "      <td> 17</td>\n",
        "      <td> 89</td>\n",
        "      <td> 0.318195</td>\n",
        "      <td> 4.500000e+03</td>\n",
        "      <td>   6400.00</td>\n",
        "      <td> -4.748346</td>\n",
        "      <td> -6.597529</td>\n",
        "    </tr>\n",
        "    <tr>\n",
        "      <th>418</th>\n",
        "      <td> 18</td>\n",
        "      <td> 89</td>\n",
        "      <td> 0.343364</td>\n",
        "      <td> 6.700000e+01</td>\n",
        "      <td>   1400.00</td>\n",
        "      <td> -5.377141</td>\n",
        "      <td> -6.825837</td>\n",
        "    </tr>\n",
        "    <tr>\n",
        "      <th>419</th>\n",
        "      <td> 18</td>\n",
        "      <td> 91</td>\n",
        "      <td> 0.323928</td>\n",
        "      <td> 2.500000e+01</td>\n",
        "      <td>   2600.00</td>\n",
        "      <td> -7.537377</td>\n",
        "      <td> -3.904473</td>\n",
        "    </tr>\n",
        "    <tr>\n",
        "      <th>420</th>\n",
        "      <td> 14</td>\n",
        "      <td> 86</td>\n",
        "      <td> 0.373865</td>\n",
        "      <td> 2.000000e+03</td>\n",
        "      <td>   7700.00</td>\n",
        "      <td> -4.168005</td>\n",
        "      <td> -6.869644</td>\n",
        "    </tr>\n",
        "    <tr>\n",
        "      <th>421</th>\n",
        "      <td> 14</td>\n",
        "      <td> 90</td>\n",
        "      <td> 0.398562</td>\n",
        "      <td> 1.600000e+03</td>\n",
        "      <td>  25000.00</td>\n",
        "      <td> -4.925956</td>\n",
        "      <td> -6.510384</td>\n",
        "    </tr>\n",
        "    <tr>\n",
        "      <th>422</th>\n",
        "      <td> 23</td>\n",
        "      <td> 88</td>\n",
        "      <td> 0.412472</td>\n",
        "      <td> 2.300000e+04</td>\n",
        "      <td>  40000.00</td>\n",
        "      <td>-10.195103</td>\n",
        "      <td> -8.271423</td>\n",
        "    </tr>\n",
        "    <tr>\n",
        "      <th>423</th>\n",
        "      <td> 31</td>\n",
        "      <td> 90</td>\n",
        "      <td> 0.497608</td>\n",
        "      <td> 2.500000e+01</td>\n",
        "      <td>   5200.00</td>\n",
        "      <td> -8.672008</td>\n",
        "      <td> -4.887481</td>\n",
        "    </tr>\n",
        "    <tr>\n",
        "      <th>424</th>\n",
        "      <td> 19</td>\n",
        "      <td> 88</td>\n",
        "      <td> 0.273878</td>\n",
        "      <td> 3.800000e-01</td>\n",
        "      <td>   4500.00</td>\n",
        "      <td> -5.276366</td>\n",
        "      <td> -7.454125</td>\n",
        "    </tr>\n",
        "    <tr>\n",
        "      <th>425</th>\n",
        "      <td> 29</td>\n",
        "      <td> 89</td>\n",
        "      <td> 0.471565</td>\n",
        "      <td> 9.900000e+02</td>\n",
        "      <td>  69000.00</td>\n",
        "      <td> -4.933473</td>\n",
        "      <td> -5.570248</td>\n",
        "    </tr>\n",
        "    <tr>\n",
        "      <th>426</th>\n",
        "      <td> 22</td>\n",
        "      <td> 88</td>\n",
        "      <td> 0.258588</td>\n",
        "      <td> 3.200000e+01</td>\n",
        "      <td>   9700.00</td>\n",
        "      <td> -7.540990</td>\n",
        "      <td> -7.860381</td>\n",
        "    </tr>\n",
        "    <tr>\n",
        "      <th>427</th>\n",
        "      <td>  0</td>\n",
        "      <td> 84</td>\n",
        "      <td> 1.000000</td>\n",
        "      <td>          NaN</td>\n",
        "      <td>       NaN</td>\n",
        "      <td>       NaN</td>\n",
        "      <td>       NaN</td>\n",
        "    </tr>\n",
        "    <tr>\n",
        "      <th>428</th>\n",
        "      <td> 28</td>\n",
        "      <td> 92</td>\n",
        "      <td> 0.425238</td>\n",
        "      <td> 1.100000e-02</td>\n",
        "      <td>      0.12</td>\n",
        "      <td>-11.721553</td>\n",
        "      <td> -9.644854</td>\n",
        "    </tr>\n",
        "    <tr>\n",
        "      <th>429</th>\n",
        "      <td> 34</td>\n",
        "      <td> 86</td>\n",
        "      <td> 0.472604</td>\n",
        "      <td> 4.000000e+03</td>\n",
        "      <td>   9100.00</td>\n",
        "      <td> -8.524852</td>\n",
        "      <td> -4.691394</td>\n",
        "    </tr>\n",
        "    <tr>\n",
        "      <th>430</th>\n",
        "      <td> 22</td>\n",
        "      <td> 86</td>\n",
        "      <td> 0.433433</td>\n",
        "      <td> 8.100000e+01</td>\n",
        "      <td>    310.00</td>\n",
        "      <td> -5.963845</td>\n",
        "      <td>       NaN</td>\n",
        "    </tr>\n",
        "  </tbody>\n",
        "</table>\n",
        "<p>430 rows \u00d7 7 columns</p>\n",
        "</div>"
       ],
       "metadata": {},
       "output_type": "pyout",
       "prompt_number": 16,
       "text": [
        "         num_rows  num_cols  residual      e_value1   e_value2   p_clust1  \\\n",
        "cluster                                                                     \n",
        "1              19        87  0.463886  8.900000e+02    2000.00  -9.167325   \n",
        "2              14        90  0.359209  3.100000e+00   22000.00  -5.280889   \n",
        "3              22        90  0.370580  4.600000e+02     170.00 -13.263603   \n",
        "4              27        90  0.452814  5.200000e+01      78.00  -8.256586   \n",
        "5              19        90  0.314148  3.400000e+01    2600.00  -9.190370   \n",
        "6              16        88  0.334068  3.500000e+02   39000.00  -7.619751   \n",
        "7              16        92  0.259582  8.600000e+01    2400.00  -5.237954   \n",
        "8              25        88  0.457548  5.600000e-09   42000.00 -12.389196   \n",
        "9              19        85  0.294756  4.100000e+01     160.00  -4.216080   \n",
        "10             22        91  0.290047  8.600000e+02   22000.00  -4.444348   \n",
        "11             31        88  0.515517  4.300000e+01   37000.00  -3.351001   \n",
        "12             28        86  0.441197  9.500000e-01       6.10 -11.329411   \n",
        "13             31        86  0.534283  3.800000e+03    8600.00  -8.132909   \n",
        "14             18        89  0.636444           NaN        NaN        NaN   \n",
        "15             19        92  0.272651  1.100000e+03    6100.00  -4.448117   \n",
        "16              6        84  0.629228           NaN        NaN        NaN   \n",
        "17             19        87  0.408533  3.200000e+02   15000.00  -4.705761   \n",
        "18             26        90  0.419107  3.700000e+04   39000.00  -9.303889   \n",
        "19              5        88  0.513914  2.700000e+02   37000.00  -3.673489   \n",
        "20             28        85  0.489127  1.200000e+04  160000.00  -4.651530   \n",
        "21              5        85  0.537000  1.300000e+03        NaN  -9.032938   \n",
        "22             25        88  0.459982  2.300000e+04   73000.00  -7.780772   \n",
        "23             28        89  0.447121  1.600000e+00      34.00  -8.805628   \n",
        "24             31        86  0.514914  1.400000e+02   34000.00  -4.661150   \n",
        "25             25        84  0.404948  6.000000e-02    1500.00  -9.462116   \n",
        "26             22        89  0.382884  1.000000e+01    2000.00  -5.902741   \n",
        "27             14        90  0.297597  7.800000e+02    3000.00  -6.060868   \n",
        "28             21        89  0.299572  2.100000e+04   48000.00  -3.991400   \n",
        "29             18        91  0.347047  4.100000e+00      48.00  -8.633534   \n",
        "30             18        86  0.514686  3.300000e+03    3200.00  -6.255782   \n",
        "...           ...       ...       ...           ...        ...        ...   \n",
        "401            14        85  0.271956  3.200000e+03    5600.00  -5.279968   \n",
        "402            18        88  0.286277  9.400000e+00   31000.00  -7.176497   \n",
        "403            30        89  0.526593  1.200000e+05   89000.00  -7.858438   \n",
        "404            35        92  0.484192  8.200000e-05     160.00  -6.364408   \n",
        "405            19        86  0.470261  5.600000e+00       5.90 -11.206039   \n",
        "406            24        88  0.512985  7.700000e+02    3000.00  -5.476454   \n",
        "407            27        90  0.524465  5.700000e+03    6100.00 -10.783312   \n",
        "408            20        90  0.382880  1.100000e+00    3100.00  -6.306150   \n",
        "409            28        89  0.558223  2.600000e+04   69000.00  -7.196591   \n",
        "410            32        91  0.509368  7.400000e+00    9000.00  -6.977390   \n",
        "411            20        90  0.481056  1.800000e+03    5800.00  -8.336620   \n",
        "412            26        93  0.441142  1.500000e-02   75000.00  -5.974618   \n",
        "413            13        89  0.229470  3.700000e+00    1400.00  -4.658986   \n",
        "414            10        84  0.115440  6.900000e-01       3.00 -12.800549   \n",
        "415            17        85  0.322172  2.900000e+03    4100.00  -7.489931   \n",
        "416            18        87  0.351070  1.900000e-01    4500.00  -6.951466   \n",
        "417            17        89  0.318195  4.500000e+03    6400.00  -4.748346   \n",
        "418            18        89  0.343364  6.700000e+01    1400.00  -5.377141   \n",
        "419            18        91  0.323928  2.500000e+01    2600.00  -7.537377   \n",
        "420            14        86  0.373865  2.000000e+03    7700.00  -4.168005   \n",
        "421            14        90  0.398562  1.600000e+03   25000.00  -4.925956   \n",
        "422            23        88  0.412472  2.300000e+04   40000.00 -10.195103   \n",
        "423            31        90  0.497608  2.500000e+01    5200.00  -8.672008   \n",
        "424            19        88  0.273878  3.800000e-01    4500.00  -5.276366   \n",
        "425            29        89  0.471565  9.900000e+02   69000.00  -4.933473   \n",
        "426            22        88  0.258588  3.200000e+01    9700.00  -7.540990   \n",
        "427             0        84  1.000000           NaN        NaN        NaN   \n",
        "428            28        92  0.425238  1.100000e-02       0.12 -11.721553   \n",
        "429            34        86  0.472604  4.000000e+03    9100.00  -8.524852   \n",
        "430            22        86  0.433433  8.100000e+01     310.00  -5.963845   \n",
        "\n",
        "          p_clust2  \n",
        "cluster             \n",
        "1       -11.520812  \n",
        "2        -5.324222  \n",
        "3        -9.207617  \n",
        "4        -9.484863  \n",
        "5        -6.225337  \n",
        "6        -5.086716  \n",
        "7        -7.674835  \n",
        "8        -8.597216  \n",
        "9        -8.735613  \n",
        "10       -8.557409  \n",
        "11       -6.724915  \n",
        "12      -10.851231  \n",
        "13       -5.509267  \n",
        "14             NaN  \n",
        "15       -3.704522  \n",
        "16             NaN  \n",
        "17       -5.959899  \n",
        "18       -7.277273  \n",
        "19       -5.570248  \n",
        "20       -5.441269  \n",
        "21             NaN  \n",
        "22       -5.205512  \n",
        "23      -10.542413  \n",
        "24       -6.041093  \n",
        "25      -10.170693  \n",
        "26      -10.176992  \n",
        "27       -3.517126  \n",
        "28       -4.241375  \n",
        "29       -6.876872  \n",
        "30       -7.206936  \n",
        "...            ...  \n",
        "401      -8.308266  \n",
        "402      -8.057356  \n",
        "403      -7.202023  \n",
        "404      -4.912787  \n",
        "405     -10.870106  \n",
        "406      -5.929139  \n",
        "407      -5.375576  \n",
        "408      -7.406318  \n",
        "409      -9.199742  \n",
        "410      -3.861997  \n",
        "411      -5.742202  \n",
        "412      -4.730487  \n",
        "413      -5.228963  \n",
        "414     -12.972509  \n",
        "415      -4.439785  \n",
        "416      -6.778483  \n",
        "417      -6.597529  \n",
        "418      -6.825837  \n",
        "419      -3.904473  \n",
        "420      -6.869644  \n",
        "421      -6.510384  \n",
        "422      -8.271423  \n",
        "423      -4.887481  \n",
        "424      -7.454125  \n",
        "425      -5.570248  \n",
        "426      -7.860381  \n",
        "427            NaN  \n",
        "428      -9.644854  \n",
        "429      -4.691394  \n",
        "430            NaN  \n",
        "\n",
        "[430 rows x 7 columns]"
       ]
      }
     ],
     "prompt_number": 16
    },
    {
     "cell_type": "markdown",
     "metadata": {},
     "source": [
      "Do this, then open in a browser:\n",
      "\n",
      "http://localhost:8080"
     ]
    },
    {
     "cell_type": "code",
     "collapsed": true,
     "input": [
      "%run -i cmonkey2/cmviewer/main.py --out eco-test"
     ],
     "language": "python",
     "metadata": {},
     "outputs": [
      {
       "output_type": "stream",
       "stream": "stderr",
       "text": [
        "[30/Jan/2015:17:19:06] ENGINE Listening for SIGHUP.\n"
       ]
      },
      {
       "output_type": "stream",
       "stream": "stderr",
       "text": [
        "INFO:cherrypy.error:[30/Jan/2015:17:19:06] ENGINE Listening for SIGHUP.\n"
       ]
      },
      {
       "output_type": "stream",
       "stream": "stderr",
       "text": [
        "[30/Jan/2015:17:19:06] ENGINE Listening for SIGTERM.\n"
       ]
      },
      {
       "output_type": "stream",
       "stream": "stderr",
       "text": [
        "INFO:cherrypy.error:[30/Jan/2015:17:19:06] ENGINE Listening for SIGTERM.\n"
       ]
      },
      {
       "output_type": "stream",
       "stream": "stderr",
       "text": [
        "[30/Jan/2015:17:19:06] ENGINE Listening for SIGUSR1.\n"
       ]
      },
      {
       "output_type": "stream",
       "stream": "stderr",
       "text": [
        "INFO:cherrypy.error:[30/Jan/2015:17:19:06] ENGINE Listening for SIGUSR1.\n"
       ]
      },
      {
       "output_type": "stream",
       "stream": "stderr",
       "text": [
        "[30/Jan/2015:17:19:06] ENGINE Bus STARTING\n"
       ]
      },
      {
       "output_type": "stream",
       "stream": "stderr",
       "text": [
        "INFO:cherrypy.error:[30/Jan/2015:17:19:06] ENGINE Bus STARTING\n"
       ]
      },
      {
       "output_type": "stream",
       "stream": "stderr",
       "text": [
        "[30/Jan/2015:17:19:06] ENGINE Started monitor thread '_TimeoutMonitor'.\n"
       ]
      },
      {
       "output_type": "stream",
       "stream": "stderr",
       "text": [
        "INFO:cherrypy.error:[30/Jan/2015:17:19:06] ENGINE Started monitor thread '_TimeoutMonitor'.\n"
       ]
      },
      {
       "output_type": "stream",
       "stream": "stderr",
       "text": [
        "[30/Jan/2015:17:19:06] ENGINE Started monitor thread 'Autoreloader'.\n"
       ]
      },
      {
       "output_type": "stream",
       "stream": "stderr",
       "text": [
        "INFO:cherrypy.error:[30/Jan/2015:17:19:06] ENGINE Started monitor thread 'Autoreloader'.\n"
       ]
      },
      {
       "output_type": "stream",
       "stream": "stderr",
       "text": [
        "[30/Jan/2015:17:19:06] ENGINE Serving on 0.0.0.0:8080\n"
       ]
      },
      {
       "output_type": "stream",
       "stream": "stderr",
       "text": [
        "INFO:cherrypy.error:[30/Jan/2015:17:19:06] ENGINE Serving on 0.0.0.0:8080\n"
       ]
      },
      {
       "output_type": "stream",
       "stream": "stderr",
       "text": [
        "[30/Jan/2015:17:19:06] ENGINE Bus STARTED\n"
       ]
      },
      {
       "output_type": "stream",
       "stream": "stderr",
       "text": [
        "INFO:cherrypy.error:[30/Jan/2015:17:19:06] ENGINE Bus STARTED\n"
       ]
      },
      {
       "output_type": "stream",
       "stream": "stderr",
       "text": [
        "INFO:cherrypy.access.140625006800592:127.0.0.1 - - [30/Jan/2015:17:19:07] \"GET /run_status HTTP/1.1\" 200 39 \"http://localhost:8080/\" \"Mozilla/5.0 (X11; Linux x86_64) AppleWebKit/537.36 (KHTML, like Gecko) Ubuntu Chromium/39.0.2171.65 Chrome/39.0.2171.65 Safari/537.36\"\n",
        "INFO:cherrypy.access.140625006800592:127.0.0.1 - - [30/Jan/2015:17:19:07] \"GET /slider_ranges/100 HTTP/1.1\" 200 139 \"http://localhost:8080/\" \"Mozilla/5.0 (X11; Linux x86_64) AppleWebKit/537.36 (KHTML, like Gecko) Ubuntu Chromium/39.0.2171.65 Chrome/39.0.2171.65 Safari/537.36\"\n",
        "INFO:cherrypy.access.140625006800592:127.0.0.1 - - [30/Jan/2015:17:19:07] \"GET /iterations HTTP/1.1\" 200 44 \"http://localhost:8080/\" \"Mozilla/5.0 (X11; Linux x86_64) AppleWebKit/537.36 (KHTML, like Gecko) Ubuntu Chromium/39.0.2171.65 Chrome/39.0.2171.65 Safari/537.36\"\n",
        "INFO:cherrypy.access.140625006800592:127.0.0.1 - - [30/Jan/2015:17:19:12] \"GET /run_status HTTP/1.1\" 200 39 \"http://localhost:8080/\" \"Mozilla/5.0 (X11; Linux x86_64) AppleWebKit/537.36 (KHTML, like Gecko) Ubuntu Chromium/39.0.2171.65 Chrome/39.0.2171.65 Safari/537.36\"\n",
        "INFO:cherrypy.access.140625006800592:127.0.0.1 - - [30/Jan/2015:17:19:12] \"GET /slider_ranges/100 HTTP/1.1\" 200 139 \"http://localhost:8080/\" \"Mozilla/5.0 (X11; Linux x86_64) AppleWebKit/537.36 (KHTML, like Gecko) Ubuntu Chromium/39.0.2171.65 Chrome/39.0.2171.65 Safari/537.36\"\n",
        "INFO:cherrypy.access.140625006800592:127.0.0.1 - - [30/Jan/2015:17:19:12] \"GET /iterations HTTP/1.1\" 200 44 \"http://localhost:8080/\" \"Mozilla/5.0 (X11; Linux x86_64) AppleWebKit/537.36 (KHTML, like Gecko) Ubuntu Chromium/39.0.2171.65 Chrome/39.0.2171.65 Safari/537.36\"\n",
        "INFO:cherrypy.access.140625006800592:127.0.0.1 - - [30/Jan/2015:17:19:17] \"GET /run_status HTTP/1.1\" 200 39 \"http://localhost:8080/\" \"Mozilla/5.0 (X11; Linux x86_64) AppleWebKit/537.36 (KHTML, like Gecko) Ubuntu Chromium/39.0.2171.65 Chrome/39.0.2171.65 Safari/537.36\"\n",
        "INFO:cherrypy.access.140625006800592:127.0.0.1 - - [30/Jan/2015:17:19:17] \"GET /slider_ranges/100 HTTP/1.1\" 200 139 \"http://localhost:8080/\" \"Mozilla/5.0 (X11; Linux x86_64) AppleWebKit/537.36 (KHTML, like Gecko) Ubuntu Chromium/39.0.2171.65 Chrome/39.0.2171.65 Safari/537.36\"\n",
        "INFO:cherrypy.access.140625006800592:127.0.0.1 - - [30/Jan/2015:17:19:17] \"GET /iterations HTTP/1.1\" 200 44 \"http://localhost:8080/\" \"Mozilla/5.0 (X11; Linux x86_64) AppleWebKit/537.36 (KHTML, like Gecko) Ubuntu Chromium/39.0.2171.65 Chrome/39.0.2171.65 Safari/537.36\"\n",
        "INFO:cherrypy.access.140625006800592:127.0.0.1 - - [30/Jan/2015:17:19:22] \"GET /run_status HTTP/1.1\" 200 39 \"http://localhost:8080/\" \"Mozilla/5.0 (X11; Linux x86_64) AppleWebKit/537.36 (KHTML, like Gecko) Ubuntu Chromium/39.0.2171.65 Chrome/39.0.2171.65 Safari/537.36\"\n",
        "INFO:cherrypy.access.140625006800592:127.0.0.1 - - [30/Jan/2015:17:19:22] \"GET /slider_ranges/100 HTTP/1.1\" 200 139 \"http://localhost:8080/\" \"Mozilla/5.0 (X11; Linux x86_64) AppleWebKit/537.36 (KHTML, like Gecko) Ubuntu Chromium/39.0.2171.65 Chrome/39.0.2171.65 Safari/537.36\"\n",
        "INFO:cherrypy.access.140625006800592:127.0.0.1 - - [30/Jan/2015:17:19:22] \"GET /iterations HTTP/1.1\" 200 44 \"http://localhost:8080/\" \"Mozilla/5.0 (X11; Linux x86_64) AppleWebKit/537.36 (KHTML, like Gecko) Ubuntu Chromium/39.0.2171.65 Chrome/39.0.2171.65 Safari/537.36\"\n",
        "INFO:cherrypy.access.140625006800592:127.0.0.1 - - [30/Jan/2015:17:19:27] \"GET /slider_ranges/100 HTTP/1.1\" 200 139 \"http://localhost:8080/\" \"Mozilla/5.0 (X11; Linux x86_64) AppleWebKit/537.36 (KHTML, like Gecko) Ubuntu Chromium/39.0.2171.65 Chrome/39.0.2171.65 Safari/537.36\"\n",
        "INFO:cherrypy.access.140625006800592:127.0.0.1 - - [30/Jan/2015:17:19:27] \"GET /run_status HTTP/1.1\" 200 39 \"http://localhost:8080/\" \"Mozilla/5.0 (X11; Linux x86_64) AppleWebKit/537.36 (KHTML, like Gecko) Ubuntu Chromium/39.0.2171.65 Chrome/39.0.2171.65 Safari/537.36\"\n",
        "INFO:cherrypy.access.140625006800592:127.0.0.1 - - [30/Jan/2015:17:19:27] \"GET /iterations HTTP/1.1\" 200 44 \"http://localhost:8080/\" \"Mozilla/5.0 (X11; Linux x86_64) AppleWebKit/537.36 (KHTML, like Gecko) Ubuntu Chromium/39.0.2171.65 Chrome/39.0.2171.65 Safari/537.36\"\n",
        "INFO:cherrypy.access.140625006800592:127.0.0.1 - - [30/Jan/2015:17:19:32] \"GET /slider_ranges/100 HTTP/1.1\" 200 139 \"http://localhost:8080/\" \"Mozilla/5.0 (X11; Linux x86_64) AppleWebKit/537.36 (KHTML, like Gecko) Ubuntu Chromium/39.0.2171.65 Chrome/39.0.2171.65 Safari/537.36\"\n",
        "INFO:cherrypy.access.140625006800592:127.0.0.1 - - [30/Jan/2015:17:19:32] \"GET /run_status HTTP/1.1\" 200 39 \"http://localhost:8080/\" \"Mozilla/5.0 (X11; Linux x86_64) AppleWebKit/537.36 (KHTML, like Gecko) Ubuntu Chromium/39.0.2171.65 Chrome/39.0.2171.65 Safari/537.36\"\n",
        "INFO:cherrypy.access.140625006800592:127.0.0.1 - - [30/Jan/2015:17:19:32] \"GET /iterations HTTP/1.1\" 200 44 \"http://localhost:8080/\" \"Mozilla/5.0 (X11; Linux x86_64) AppleWebKit/537.36 (KHTML, like Gecko) Ubuntu Chromium/39.0.2171.65 Chrome/39.0.2171.65 Safari/537.36\"\n",
        "INFO:cherrypy.access.140625006800592:127.0.0.1 - - [30/Jan/2015:17:19:57] \"GET / HTTP/1.1\" 200 7825 \"\" \"Mozilla/5.0 (X11; Linux x86_64) AppleWebKit/537.36 (KHTML, like Gecko) Ubuntu Chromium/39.0.2171.65 Chrome/39.0.2171.65 Safari/537.36\"\n",
        "INFO:cherrypy.access.140625006800592:127.0.0.1 - - [30/Jan/2015:17:19:58] \"GET /run_status HTTP/1.1\" 200 39 \"http://localhost:8080/\" \"Mozilla/5.0 (X11; Linux x86_64) AppleWebKit/537.36 (KHTML, like Gecko) Ubuntu Chromium/39.0.2171.65 Chrome/39.0.2171.65 Safari/537.36\"\n",
        "INFO:cherrypy.access.140625006800592:127.0.0.1 - - [30/Jan/2015:17:19:58] \"GET /slider_ranges/1 HTTP/1.1\" 200 156 \"http://localhost:8080/\" \"Mozilla/5.0 (X11; Linux x86_64) AppleWebKit/537.36 (KHTML, like Gecko) Ubuntu Chromium/39.0.2171.65 Chrome/39.0.2171.65 Safari/537.36\"\n",
        "INFO:cherrypy.access.140625006800592:127.0.0.1 - - [30/Jan/2015:17:19:58] \"GET /iterations HTTP/1.1\" 200 44 \"http://localhost:8080/\" \"Mozilla/5.0 (X11; Linux x86_64) AppleWebKit/537.36 (KHTML, like Gecko) Ubuntu Chromium/39.0.2171.65 Chrome/39.0.2171.65 Safari/537.36\"\n",
        "INFO:cherrypy.access.140625006800592:127.0.0.1 - - [30/Jan/2015:17:19:58] \"GET /clusters/1?sEcho=1&iColumns=6&sColumns=%2C%2C%2C%2C%2C&iDisplayStart=0&iDisplayLength=-1&mDataProp_0=0&bSortable_0=false&mDataProp_1=1&bSortable_1=true&mDataProp_2=2&bSortable_2=true&mDataProp_3=3&bSortable_3=true&mDataProp_4=4&bSortable_4=true&mDataProp_5=5&bSortable_5=true&iSortCol_0=0&sSortDir_0=asc&iSortingCols=1&_=1422667197921 HTTP/1.1\" 200 60971 \"http://localhost:8080/\" \"Mozilla/5.0 (X11; Linux x86_64) AppleWebKit/537.36 (KHTML, like Gecko) Ubuntu Chromium/39.0.2171.65 Chrome/39.0.2171.65 Safari/537.36\"\n",
        "INFO:cherrypy.access.140625006800592:127.0.0.1 - - [30/Jan/2015:17:19:58] \"GET /network_score_means HTTP/1.1\" 200 557 \"http://localhost:8080/\" \"Mozilla/5.0 (X11; Linux x86_64) AppleWebKit/537.36 (KHTML, like Gecko) Ubuntu Chromium/39.0.2171.65 Chrome/39.0.2171.65 Safari/537.36\"\n",
        "INFO:cherrypy.access.140625006800592:127.0.0.1 - - [30/Jan/2015:17:19:58] \"GET /runlog HTTP/1.1\" 200 2424 \"http://localhost:8080/\" \"Mozilla/5.0 (X11; Linux x86_64) AppleWebKit/537.36 (KHTML, like Gecko) Ubuntu Chromium/39.0.2171.65 Chrome/39.0.2171.65 Safari/537.36\"\n",
        "INFO:cherrypy.access.140625006800592:127.0.0.1 - - [30/Jan/2015:17:19:58] \"GET /fuzzy_coeffs HTTP/1.1\" 200 219 \"http://localhost:8080/\" \"Mozilla/5.0 (X11; Linux x86_64) AppleWebKit/537.36 (KHTML, like Gecko) Ubuntu Chromium/39.0.2171.65 Chrome/39.0.2171.65 Safari/537.36\"\n",
        "INFO:cherrypy.access.140625006800592:127.0.0.1 - - [30/Jan/2015:17:19:58] \"GET /generic_score_means HTTP/1.1\" 200 281 \"http://localhost:8080/\" \"Mozilla/5.0 (X11; Linux x86_64) AppleWebKit/537.36 (KHTML, like Gecko) Ubuntu Chromium/39.0.2171.65 Chrome/39.0.2171.65 Safari/537.36\"\n",
        "INFO:cherrypy.access.140625006800592:127.0.0.1 - - [30/Jan/2015:17:19:58] \"GET /mean_residuals HTTP/1.1\" 200 284 \"http://localhost:8080/\" \"Mozilla/5.0 (X11; Linux x86_64) AppleWebKit/537.36 (KHTML, like Gecko) Ubuntu Chromium/39.0.2171.65 Chrome/39.0.2171.65 Safari/537.36\"\n",
        "INFO:cherrypy.access.140625006800592:127.0.0.1 - - [30/Jan/2015:17:19:58] \"GET /mean_cluster_members HTTP/1.1\" 200 442 \"http://localhost:8080/\" \"Mozilla/5.0 (X11; Linux x86_64) AppleWebKit/537.36 (KHTML, like Gecko) Ubuntu Chromium/39.0.2171.65 Chrome/39.0.2171.65 Safari/537.36\"\n",
        "INFO:cherrypy.access.140625006800592:127.0.0.1 - - [30/Jan/2015:17:19:58] \"GET /cluster_row_hist HTTP/1.1\" 200 394 \"http://localhost:8080/\" \"Mozilla/5.0 (X11; Linux x86_64) AppleWebKit/537.36 (KHTML, like Gecko) Ubuntu Chromium/39.0.2171.65 Chrome/39.0.2171.65 Safari/537.36\"\n",
        "INFO:cherrypy.access.140625006800592:127.0.0.1 - - [30/Jan/2015:17:19:58] \"GET /cluster_col_hist HTTP/1.1\" 200 208 \"http://localhost:8080/\" \"Mozilla/5.0 (X11; Linux x86_64) AppleWebKit/537.36 (KHTML, like Gecko) Ubuntu Chromium/39.0.2171.65 Chrome/39.0.2171.65 Safari/537.36\"\n",
        "INFO:cherrypy.access.140625006800592:127.0.0.1 - - [30/Jan/2015:17:19:58] \"GET /cluster_residuals HTTP/1.1\" 200 295 \"http://localhost:8080/\" \"Mozilla/5.0 (X11; Linux x86_64) AppleWebKit/537.36 (KHTML, like Gecko) Ubuntu Chromium/39.0.2171.65 Chrome/39.0.2171.65 Safari/537.36\"\n",
        "INFO:cherrypy.access.140625006800592:127.0.0.1 - - [30/Jan/2015:17:20:03] \"GET /run_status HTTP/1.1\" 200 39 \"http://localhost:8080/\" \"Mozilla/5.0 (X11; Linux x86_64) AppleWebKit/537.36 (KHTML, like Gecko) Ubuntu Chromium/39.0.2171.65 Chrome/39.0.2171.65 Safari/537.36\"\n",
        "INFO:cherrypy.access.140625006800592:127.0.0.1 - - [30/Jan/2015:17:20:03] \"GET /slider_ranges/100 HTTP/1.1\" 200 139 \"http://localhost:8080/\" \"Mozilla/5.0 (X11; Linux x86_64) AppleWebKit/537.36 (KHTML, like Gecko) Ubuntu Chromium/39.0.2171.65 Chrome/39.0.2171.65 Safari/537.36\"\n",
        "INFO:cherrypy.access.140625006800592:127.0.0.1 - - [30/Jan/2015:17:20:03] \"GET /iterations HTTP/1.1\" 200 44 \"http://localhost:8080/\" \"Mozilla/5.0 (X11; Linux x86_64) AppleWebKit/537.36 (KHTML, like Gecko) Ubuntu Chromium/39.0.2171.65 Chrome/39.0.2171.65 Safari/537.36\"\n",
        "INFO:cherrypy.access.140625006800592:127.0.0.1 - - [30/Jan/2015:17:20:08] \"GET /run_status HTTP/1.1\" 200 39 \"http://localhost:8080/\" \"Mozilla/5.0 (X11; Linux x86_64) AppleWebKit/537.36 (KHTML, like Gecko) Ubuntu Chromium/39.0.2171.65 Chrome/39.0.2171.65 Safari/537.36\"\n",
        "INFO:cherrypy.access.140625006800592:127.0.0.1 - - [30/Jan/2015:17:20:08] \"GET /slider_ranges/100 HTTP/1.1\" 200 139 \"http://localhost:8080/\" \"Mozilla/5.0 (X11; Linux x86_64) AppleWebKit/537.36 (KHTML, like Gecko) Ubuntu Chromium/39.0.2171.65 Chrome/39.0.2171.65 Safari/537.36\"\n",
        "INFO:cherrypy.access.140625006800592:127.0.0.1 - - [30/Jan/2015:17:20:08] \"GET /iterations HTTP/1.1\" 200 44 \"http://localhost:8080/\" \"Mozilla/5.0 (X11; Linux x86_64) AppleWebKit/537.36 (KHTML, like Gecko) Ubuntu Chromium/39.0.2171.65 Chrome/39.0.2171.65 Safari/537.36\"\n",
        "INFO:cherrypy.access.140625006800592:127.0.0.1 - - [30/Jan/2015:17:20:13] \"GET /slider_ranges/100 HTTP/1.1\" 200 139 \"http://localhost:8080/\" \"Mozilla/5.0 (X11; Linux x86_64) AppleWebKit/537.36 (KHTML, like Gecko) Ubuntu Chromium/39.0.2171.65 Chrome/39.0.2171.65 Safari/537.36\"\n",
        "INFO:cherrypy.access.140625006800592:127.0.0.1 - - [30/Jan/2015:17:20:13] \"GET /run_status HTTP/1.1\" 200 39 \"http://localhost:8080/\" \"Mozilla/5.0 (X11; Linux x86_64) AppleWebKit/537.36 (KHTML, like Gecko) Ubuntu Chromium/39.0.2171.65 Chrome/39.0.2171.65 Safari/537.36\"\n",
        "INFO:cherrypy.access.140625006800592:127.0.0.1 - - [30/Jan/2015:17:20:13] \"GET /iterations HTTP/1.1\" 200 44 \"http://localhost:8080/\" \"Mozilla/5.0 (X11; Linux x86_64) AppleWebKit/537.36 (KHTML, like Gecko) Ubuntu Chromium/39.0.2171.65 Chrome/39.0.2171.65 Safari/537.36\"\n",
        "INFO:cherrypy.access.140625006800592:127.0.0.1 - - [30/Jan/2015:17:20:18] \"GET /slider_ranges/100 HTTP/1.1\" 200 139 \"http://localhost:8080/\" \"Mozilla/5.0 (X11; Linux x86_64) AppleWebKit/537.36 (KHTML, like Gecko) Ubuntu Chromium/39.0.2171.65 Chrome/39.0.2171.65 Safari/537.36\"\n",
        "INFO:cherrypy.access.140625006800592:127.0.0.1 - - [30/Jan/2015:17:20:18] \"GET /run_status HTTP/1.1\" 200 39 \"http://localhost:8080/\" \"Mozilla/5.0 (X11; Linux x86_64) AppleWebKit/537.36 (KHTML, like Gecko) Ubuntu Chromium/39.0.2171.65 Chrome/39.0.2171.65 Safari/537.36\"\n",
        "INFO:cherrypy.access.140625006800592:127.0.0.1 - - [30/Jan/2015:17:20:18] \"GET /iterations HTTP/1.1\" 200 44 \"http://localhost:8080/\" \"Mozilla/5.0 (X11; Linux x86_64) AppleWebKit/537.36 (KHTML, like Gecko) Ubuntu Chromium/39.0.2171.65 Chrome/39.0.2171.65 Safari/537.36\"\n",
        "INFO:cherrypy.access.140625006800592:127.0.0.1 - - [30/Jan/2015:17:20:23] \"GET /run_status HTTP/1.1\" 200 39 \"http://localhost:8080/\" \"Mozilla/5.0 (X11; Linux x86_64) AppleWebKit/537.36 (KHTML, like Gecko) Ubuntu Chromium/39.0.2171.65 Chrome/39.0.2171.65 Safari/537.36\"\n",
        "INFO:cherrypy.access.140625006800592:127.0.0.1 - - [30/Jan/2015:17:20:23] \"GET /slider_ranges/100 HTTP/1.1\" 200 139 \"http://localhost:8080/\" \"Mozilla/5.0 (X11; Linux x86_64) AppleWebKit/537.36 (KHTML, like Gecko) Ubuntu Chromium/39.0.2171.65 Chrome/39.0.2171.65 Safari/537.36\"\n",
        "INFO:cherrypy.access.140625006800592:127.0.0.1 - - [30/Jan/2015:17:20:23] \"GET /iterations HTTP/1.1\" 200 44 \"http://localhost:8080/\" \"Mozilla/5.0 (X11; Linux x86_64) AppleWebKit/537.36 (KHTML, like Gecko) Ubuntu Chromium/39.0.2171.65 Chrome/39.0.2171.65 Safari/537.36\"\n",
        "INFO:cherrypy.access.140625006800592:127.0.0.1 - - [30/Jan/2015:17:20:28] \"GET /slider_ranges/100 HTTP/1.1\" 200 139 \"http://localhost:8080/\" \"Mozilla/5.0 (X11; Linux x86_64) AppleWebKit/537.36 (KHTML, like Gecko) Ubuntu Chromium/39.0.2171.65 Chrome/39.0.2171.65 Safari/537.36\"\n",
        "INFO:cherrypy.access.140625006800592:127.0.0.1 - - [30/Jan/2015:17:20:28] \"GET /run_status HTTP/1.1\" 200 39 \"http://localhost:8080/\" \"Mozilla/5.0 (X11; Linux x86_64) AppleWebKit/537.36 (KHTML, like Gecko) Ubuntu Chromium/39.0.2171.65 Chrome/39.0.2171.65 Safari/537.36\"\n",
        "INFO:cherrypy.access.140625006800592:127.0.0.1 - - [30/Jan/2015:17:20:28] \"GET /iterations HTTP/1.1\" 200 44 \"http://localhost:8080/\" \"Mozilla/5.0 (X11; Linux x86_64) AppleWebKit/537.36 (KHTML, like Gecko) Ubuntu Chromium/39.0.2171.65 Chrome/39.0.2171.65 Safari/537.36\"\n",
        "INFO:cherrypy.access.140625006800592:127.0.0.1 - - [30/Jan/2015:17:20:33] \"GET /run_status HTTP/1.1\" 200 39 \"http://localhost:8080/\" \"Mozilla/5.0 (X11; Linux x86_64) AppleWebKit/537.36 (KHTML, like Gecko) Ubuntu Chromium/39.0.2171.65 Chrome/39.0.2171.65 Safari/537.36\"\n",
        "INFO:cherrypy.access.140625006800592:127.0.0.1 - - [30/Jan/2015:17:20:33] \"GET /slider_ranges/100 HTTP/1.1\" 200 139 \"http://localhost:8080/\" \"Mozilla/5.0 (X11; Linux x86_64) AppleWebKit/537.36 (KHTML, like Gecko) Ubuntu Chromium/39.0.2171.65 Chrome/39.0.2171.65 Safari/537.36\"\n",
        "INFO:cherrypy.access.140625006800592:127.0.0.1 - - [30/Jan/2015:17:20:33] \"GET /iterations HTTP/1.1\" 200 44 \"http://localhost:8080/\" \"Mozilla/5.0 (X11; Linux x86_64) AppleWebKit/537.36 (KHTML, like Gecko) Ubuntu Chromium/39.0.2171.65 Chrome/39.0.2171.65 Safari/537.36\"\n",
        "INFO:cherrypy.access.140625006800592:127.0.0.1 - - [30/Jan/2015:17:20:38] \"GET /run_status HTTP/1.1\" 200 39 \"http://localhost:8080/\" \"Mozilla/5.0 (X11; Linux x86_64) AppleWebKit/537.36 (KHTML, like Gecko) Ubuntu Chromium/39.0.2171.65 Chrome/39.0.2171.65 Safari/537.36\"\n",
        "INFO:cherrypy.access.140625006800592:127.0.0.1 - - [30/Jan/2015:17:20:38] \"GET /slider_ranges/100 HTTP/1.1\" 200 139 \"http://localhost:8080/\" \"Mozilla/5.0 (X11; Linux x86_64) AppleWebKit/537.36 (KHTML, like Gecko) Ubuntu Chromium/39.0.2171.65 Chrome/39.0.2171.65 Safari/537.36\"\n",
        "INFO:cherrypy.access.140625006800592:127.0.0.1 - - [30/Jan/2015:17:20:38] \"GET /iterations HTTP/1.1\" 200 44 \"http://localhost:8080/\" \"Mozilla/5.0 (X11; Linux x86_64) AppleWebKit/537.36 (KHTML, like Gecko) Ubuntu Chromium/39.0.2171.65 Chrome/39.0.2171.65 Safari/537.36\"\n",
        "INFO:cherrypy.access.140625006800592:127.0.0.1 - - [30/Jan/2015:17:20:43] \"GET /run_status HTTP/1.1\" 200 39 \"http://localhost:8080/\" \"Mozilla/5.0 (X11; Linux x86_64) AppleWebKit/537.36 (KHTML, like Gecko) Ubuntu Chromium/39.0.2171.65 Chrome/39.0.2171.65 Safari/537.36\"\n",
        "INFO:cherrypy.access.140625006800592:127.0.0.1 - - [30/Jan/2015:17:20:43] \"GET /slider_ranges/100 HTTP/1.1\" 200 139 \"http://localhost:8080/\" \"Mozilla/5.0 (X11; Linux x86_64) AppleWebKit/537.36 (KHTML, like Gecko) Ubuntu Chromium/39.0.2171.65 Chrome/39.0.2171.65 Safari/537.36\"\n",
        "INFO:cherrypy.access.140625006800592:127.0.0.1 - - [30/Jan/2015:17:20:43] \"GET /iterations HTTP/1.1\" 200 44 \"http://localhost:8080/\" \"Mozilla/5.0 (X11; Linux x86_64) AppleWebKit/537.36 (KHTML, like Gecko) Ubuntu Chromium/39.0.2171.65 Chrome/39.0.2171.65 Safari/537.36\"\n",
        "INFO:cherrypy.access.140625006800592:127.0.0.1 - - [30/Jan/2015:17:20:48] \"GET /run_status HTTP/1.1\" 200 39 \"http://localhost:8080/\" \"Mozilla/5.0 (X11; Linux x86_64) AppleWebKit/537.36 (KHTML, like Gecko) Ubuntu Chromium/39.0.2171.65 Chrome/39.0.2171.65 Safari/537.36\"\n",
        "INFO:cherrypy.access.140625006800592:127.0.0.1 - - [30/Jan/2015:17:20:48] \"GET /slider_ranges/100 HTTP/1.1\" 200 139 \"http://localhost:8080/\" \"Mozilla/5.0 (X11; Linux x86_64) AppleWebKit/537.36 (KHTML, like Gecko) Ubuntu Chromium/39.0.2171.65 Chrome/39.0.2171.65 Safari/537.36\"\n",
        "INFO:cherrypy.access.140625006800592:127.0.0.1 - - [30/Jan/2015:17:20:48] \"GET /iterations HTTP/1.1\" 200 44 \"http://localhost:8080/\" \"Mozilla/5.0 (X11; Linux x86_64) AppleWebKit/537.36 (KHTML, like Gecko) Ubuntu Chromium/39.0.2171.65 Chrome/39.0.2171.65 Safari/537.36\"\n",
        "INFO:cherrypy.access.140625006800592:127.0.0.1 - - [30/Jan/2015:17:20:53] \"GET /run_status HTTP/1.1\" 200 39 \"http://localhost:8080/\" \"Mozilla/5.0 (X11; Linux x86_64) AppleWebKit/537.36 (KHTML, like Gecko) Ubuntu Chromium/39.0.2171.65 Chrome/39.0.2171.65 Safari/537.36\"\n",
        "INFO:cherrypy.access.140625006800592:127.0.0.1 - - [30/Jan/2015:17:20:53] \"GET /slider_ranges/100 HTTP/1.1\" 200 139 \"http://localhost:8080/\" \"Mozilla/5.0 (X11; Linux x86_64) AppleWebKit/537.36 (KHTML, like Gecko) Ubuntu Chromium/39.0.2171.65 Chrome/39.0.2171.65 Safari/537.36\"\n",
        "INFO:cherrypy.access.140625006800592:127.0.0.1 - - [30/Jan/2015:17:20:53] \"GET /iterations HTTP/1.1\" 200 44 \"http://localhost:8080/\" \"Mozilla/5.0 (X11; Linux x86_64) AppleWebKit/537.36 (KHTML, like Gecko) Ubuntu Chromium/39.0.2171.65 Chrome/39.0.2171.65 Safari/537.36\"\n",
        "INFO:cherrypy.access.140625006800592:127.0.0.1 - - [30/Jan/2015:17:20:58] \"GET /run_status HTTP/1.1\" 200 39 \"http://localhost:8080/\" \"Mozilla/5.0 (X11; Linux x86_64) AppleWebKit/537.36 (KHTML, like Gecko) Ubuntu Chromium/39.0.2171.65 Chrome/39.0.2171.65 Safari/537.36\"\n",
        "INFO:cherrypy.access.140625006800592:127.0.0.1 - - [30/Jan/2015:17:20:58] \"GET /slider_ranges/100 HTTP/1.1\" 200 139 \"http://localhost:8080/\" \"Mozilla/5.0 (X11; Linux x86_64) AppleWebKit/537.36 (KHTML, like Gecko) Ubuntu Chromium/39.0.2171.65 Chrome/39.0.2171.65 Safari/537.36\"\n",
        "INFO:cherrypy.access.140625006800592:127.0.0.1 - - [30/Jan/2015:17:20:58] \"GET /iterations HTTP/1.1\" 200 44 \"http://localhost:8080/\" \"Mozilla/5.0 (X11; Linux x86_64) AppleWebKit/537.36 (KHTML, like Gecko) Ubuntu Chromium/39.0.2171.65 Chrome/39.0.2171.65 Safari/537.36\"\n",
        "INFO:cherrypy.access.140625006800592:127.0.0.1 - - [30/Jan/2015:17:21:03] \"GET /run_status HTTP/1.1\" 200 39 \"http://localhost:8080/\" \"Mozilla/5.0 (X11; Linux x86_64) AppleWebKit/537.36 (KHTML, like Gecko) Ubuntu Chromium/39.0.2171.65 Chrome/39.0.2171.65 Safari/537.36\"\n",
        "INFO:cherrypy.access.140625006800592:127.0.0.1 - - [30/Jan/2015:17:21:03] \"GET /slider_ranges/100 HTTP/1.1\" 200 139 \"http://localhost:8080/\" \"Mozilla/5.0 (X11; Linux x86_64) AppleWebKit/537.36 (KHTML, like Gecko) Ubuntu Chromium/39.0.2171.65 Chrome/39.0.2171.65 Safari/537.36\"\n",
        "INFO:cherrypy.access.140625006800592:127.0.0.1 - - [30/Jan/2015:17:21:03] \"GET /iterations HTTP/1.1\" 200 44 \"http://localhost:8080/\" \"Mozilla/5.0 (X11; Linux x86_64) AppleWebKit/537.36 (KHTML, like Gecko) Ubuntu Chromium/39.0.2171.65 Chrome/39.0.2171.65 Safari/537.36\"\n",
        "[30/Jan/2015:17:21:05] ENGINE Keyboard Interrupt: shutting down bus\n"
       ]
      },
      {
       "output_type": "stream",
       "stream": "stderr",
       "text": [
        "INFO:cherrypy.error:[30/Jan/2015:17:21:05] ENGINE Keyboard Interrupt: shutting down bus\n"
       ]
      },
      {
       "output_type": "stream",
       "stream": "stderr",
       "text": [
        "[30/Jan/2015:17:21:05] ENGINE Bus STOPPING\n"
       ]
      },
      {
       "output_type": "stream",
       "stream": "stderr",
       "text": [
        "INFO:cherrypy.error:[30/Jan/2015:17:21:05] ENGINE Bus STOPPING\n"
       ]
      },
      {
       "output_type": "stream",
       "stream": "stderr",
       "text": [
        "INFO:cherrypy.access.140625006800592:127.0.0.1 - - [30/Jan/2015:17:21:08] \"GET /run_status HTTP/1.1\" 200 39 \"http://localhost:8080/\" \"Mozilla/5.0 (X11; Linux x86_64) AppleWebKit/537.36 (KHTML, like Gecko) Ubuntu Chromium/39.0.2171.65 Chrome/39.0.2171.65 Safari/537.36\"\n",
        "INFO:cherrypy.access.140625006800592:127.0.0.1 - - [30/Jan/2015:17:21:08] \"GET /slider_ranges/100 HTTP/1.1\" 200 139 \"http://localhost:8080/\" \"Mozilla/5.0 (X11; Linux x86_64) AppleWebKit/537.36 (KHTML, like Gecko) Ubuntu Chromium/39.0.2171.65 Chrome/39.0.2171.65 Safari/537.36\"\n",
        "INFO:cherrypy.access.140625006800592:127.0.0.1 - - [30/Jan/2015:17:21:08] \"GET /iterations HTTP/1.1\" 200 44 \"http://localhost:8080/\" \"Mozilla/5.0 (X11; Linux x86_64) AppleWebKit/537.36 (KHTML, like Gecko) Ubuntu Chromium/39.0.2171.65 Chrome/39.0.2171.65 Safari/537.36\"\n",
        "[30/Jan/2015:17:21:10] ENGINE HTTP Server cherrypy._cpwsgi_server.CPWSGIServer(('0.0.0.0', 8080)) shut down\n"
       ]
      },
      {
       "output_type": "stream",
       "stream": "stderr",
       "text": [
        "INFO:cherrypy.error:[30/Jan/2015:17:21:10] ENGINE HTTP Server cherrypy._cpwsgi_server.CPWSGIServer(('0.0.0.0', 8080)) shut down\n"
       ]
      },
      {
       "output_type": "stream",
       "stream": "stderr",
       "text": [
        "[30/Jan/2015:17:21:10] ENGINE Stopped thread '_TimeoutMonitor'.\n"
       ]
      },
      {
       "output_type": "stream",
       "stream": "stderr",
       "text": [
        "INFO:cherrypy.error:[30/Jan/2015:17:21:10] ENGINE Stopped thread '_TimeoutMonitor'.\n"
       ]
      },
      {
       "output_type": "stream",
       "stream": "stderr",
       "text": [
        "[30/Jan/2015:17:21:10] ENGINE Stopped thread 'Autoreloader'.\n"
       ]
      },
      {
       "output_type": "stream",
       "stream": "stderr",
       "text": [
        "INFO:cherrypy.error:[30/Jan/2015:17:21:10] ENGINE Stopped thread 'Autoreloader'.\n"
       ]
      },
      {
       "output_type": "stream",
       "stream": "stderr",
       "text": [
        "[30/Jan/2015:17:21:10] ENGINE Bus STOPPED\n"
       ]
      },
      {
       "output_type": "stream",
       "stream": "stderr",
       "text": [
        "INFO:cherrypy.error:[30/Jan/2015:17:21:10] ENGINE Bus STOPPED\n"
       ]
      },
      {
       "output_type": "stream",
       "stream": "stderr",
       "text": [
        "[30/Jan/2015:17:21:10] ENGINE Bus EXITING\n"
       ]
      },
      {
       "output_type": "stream",
       "stream": "stderr",
       "text": [
        "INFO:cherrypy.error:[30/Jan/2015:17:21:10] ENGINE Bus EXITING\n"
       ]
      },
      {
       "output_type": "stream",
       "stream": "stderr",
       "text": [
        "[30/Jan/2015:17:21:10] ENGINE Bus EXITED\n"
       ]
      },
      {
       "output_type": "stream",
       "stream": "stderr",
       "text": [
        "INFO:cherrypy.error:[30/Jan/2015:17:21:10] ENGINE Bus EXITED\n"
       ]
      },
      {
       "output_type": "stream",
       "stream": "stderr",
       "text": [
        "[30/Jan/2015:17:21:10] ENGINE Waiting for child threads to terminate...\n"
       ]
      },
      {
       "output_type": "stream",
       "stream": "stderr",
       "text": [
        "INFO:cherrypy.error:[30/Jan/2015:17:21:10] ENGINE Waiting for child threads to terminate...\n"
       ]
      },
      {
       "output_type": "stream",
       "stream": "stdout",
       "text": [
        "127.0.0.1 - - [30/Jan/2015:17:19:07] \"GET /run_status HTTP/1.1\" 200 39 \"http://localhost:8080/\" \"Mozilla/5.0 (X11; Linux x86_64) AppleWebKit/537.36 (KHTML, like Gecko) Ubuntu Chromium/39.0.2171.65 Chrome/39.0.2171.65 Safari/537.36\"\n",
        "127.0.0.1 - - [30/Jan/2015:17:19:07] \"GET /slider_ranges/100 HTTP/1.1\" 200 139 \"http://localhost:8080/\" \"Mozilla/5.0 (X11; Linux x86_64) AppleWebKit/537.36 (KHTML, like Gecko) Ubuntu Chromium/39.0.2171.65 Chrome/39.0.2171.65 Safari/537.36\"\n",
        "127.0.0.1 - - [30/Jan/2015:17:19:07] \"GET /iterations HTTP/1.1\" 200 44 \"http://localhost:8080/\" \"Mozilla/5.0 (X11; Linux x86_64) AppleWebKit/537.36 (KHTML, like Gecko) Ubuntu Chromium/39.0.2171.65 Chrome/39.0.2171.65 Safari/537.36\"\n",
        "127.0.0.1 - - [30/Jan/2015:17:19:12] \"GET /run_status HTTP/1.1\" 200 39 \"http://localhost:8080/\" \"Mozilla/5.0 (X11; Linux x86_64) AppleWebKit/537.36 (KHTML, like Gecko) Ubuntu Chromium/39.0.2171.65 Chrome/39.0.2171.65 Safari/537.36\"\n",
        "127.0.0.1 - - [30/Jan/2015:17:19:12] \"GET /slider_ranges/100 HTTP/1.1\" 200 139 \"http://localhost:8080/\" \"Mozilla/5.0 (X11; Linux x86_64) AppleWebKit/537.36 (KHTML, like Gecko) Ubuntu Chromium/39.0.2171.65 Chrome/39.0.2171.65 Safari/537.36\"\n",
        "127.0.0.1 - - [30/Jan/2015:17:19:12] \"GET /iterations HTTP/1.1\" 200 44 \"http://localhost:8080/\" \"Mozilla/5.0 (X11; Linux x86_64) AppleWebKit/537.36 (KHTML, like Gecko) Ubuntu Chromium/39.0.2171.65 Chrome/39.0.2171.65 Safari/537.36\"\n",
        "127.0.0.1 - - [30/Jan/2015:17:19:17] \"GET /run_status HTTP/1.1\" 200 39 \"http://localhost:8080/\" \"Mozilla/5.0 (X11; Linux x86_64) AppleWebKit/537.36 (KHTML, like Gecko) Ubuntu Chromium/39.0.2171.65 Chrome/39.0.2171.65 Safari/537.36\"\n",
        "127.0.0.1 - - [30/Jan/2015:17:19:17] \"GET /slider_ranges/100 HTTP/1.1\" 200 139 \"http://localhost:8080/\" \"Mozilla/5.0 (X11; Linux x86_64) AppleWebKit/537.36 (KHTML, like Gecko) Ubuntu Chromium/39.0.2171.65 Chrome/39.0.2171.65 Safari/537.36\"\n",
        "127.0.0.1 - - [30/Jan/2015:17:19:17] \"GET /iterations HTTP/1.1\" 200 44 \"http://localhost:8080/\" \"Mozilla/5.0 (X11; Linux x86_64) AppleWebKit/537.36 (KHTML, like Gecko) Ubuntu Chromium/39.0.2171.65 Chrome/39.0.2171.65 Safari/537.36\"\n",
        "127.0.0.1 - - [30/Jan/2015:17:19:22] \"GET /run_status HTTP/1.1\" 200 39 \"http://localhost:8080/\" \"Mozilla/5.0 (X11; Linux x86_64) AppleWebKit/537.36 (KHTML, like Gecko) Ubuntu Chromium/39.0.2171.65 Chrome/39.0.2171.65 Safari/537.36\"\n",
        "127.0.0.1 - - [30/Jan/2015:17:19:22] \"GET /slider_ranges/100 HTTP/1.1\" 200 139 \"http://localhost:8080/\" \"Mozilla/5.0 (X11; Linux x86_64) AppleWebKit/537.36 (KHTML, like Gecko) Ubuntu Chromium/39.0.2171.65 Chrome/39.0.2171.65 Safari/537.36\"\n",
        "127.0.0.1 - - [30/Jan/2015:17:19:22] \"GET /iterations HTTP/1.1\" 200 44 \"http://localhost:8080/\" \"Mozilla/5.0 (X11; Linux x86_64) AppleWebKit/537.36 (KHTML, like Gecko) Ubuntu Chromium/39.0.2171.65 Chrome/39.0.2171.65 Safari/537.36\"\n",
        "127.0.0.1 - - [30/Jan/2015:17:19:27] \"GET /slider_ranges/100 HTTP/1.1\" 200 139 \"http://localhost:8080/\" \"Mozilla/5.0 (X11; Linux x86_64) AppleWebKit/537.36 (KHTML, like Gecko) Ubuntu Chromium/39.0.2171.65 Chrome/39.0.2171.65 Safari/537.36\"\n",
        "127.0.0.1 - - [30/Jan/2015:17:19:27] \"GET /run_status HTTP/1.1\" 200 39 \"http://localhost:8080/\" \"Mozilla/5.0 (X11; Linux x86_64) AppleWebKit/537.36 (KHTML, like Gecko) Ubuntu Chromium/39.0.2171.65 Chrome/39.0.2171.65 Safari/537.36\"\n",
        "127.0.0.1 - - [30/Jan/2015:17:19:27] \"GET /iterations HTTP/1.1\" 200 44 \"http://localhost:8080/\" \"Mozilla/5.0 (X11; Linux x86_64) AppleWebKit/537.36 (KHTML, like Gecko) Ubuntu Chromium/39.0.2171.65 Chrome/39.0.2171.65 Safari/537.36\"\n",
        "127.0.0.1 - - [30/Jan/2015:17:19:32] \"GET /slider_ranges/100 HTTP/1.1\" 200 139 \"http://localhost:8080/\" \"Mozilla/5.0 (X11; Linux x86_64) AppleWebKit/537.36 (KHTML, like Gecko) Ubuntu Chromium/39.0.2171.65 Chrome/39.0.2171.65 Safari/537.36\"\n",
        "127.0.0.1 - - [30/Jan/2015:17:19:32] \"GET /run_status HTTP/1.1\" 200 39 \"http://localhost:8080/\" \"Mozilla/5.0 (X11; Linux x86_64) AppleWebKit/537.36 (KHTML, like Gecko) Ubuntu Chromium/39.0.2171.65 Chrome/39.0.2171.65 Safari/537.36\"\n",
        "127.0.0.1 - - [30/Jan/2015:17:19:32] \"GET /iterations HTTP/1.1\" 200 44 \"http://localhost:8080/\" \"Mozilla/5.0 (X11; Linux x86_64) AppleWebKit/537.36 (KHTML, like Gecko) Ubuntu Chromium/39.0.2171.65 Chrome/39.0.2171.65 Safari/537.36\"\n",
        "127.0.0.1 - - [30/Jan/2015:17:19:57] \"GET / HTTP/1.1\" 200 7825 \"\" \"Mozilla/5.0 (X11; Linux x86_64) AppleWebKit/537.36 (KHTML, like Gecko) Ubuntu Chromium/39.0.2171.65 Chrome/39.0.2171.65 Safari/537.36\"\n",
        "127.0.0.1 - - [30/Jan/2015:17:19:58] \"GET /run_status HTTP/1.1\" 200 39 \"http://localhost:8080/\" \"Mozilla/5.0 (X11; Linux x86_64) AppleWebKit/537.36 (KHTML, like Gecko) Ubuntu Chromium/39.0.2171.65 Chrome/39.0.2171.65 Safari/537.36\"\n",
        "127.0.0.1 - - [30/Jan/2015:17:19:58] \"GET /slider_ranges/1 HTTP/1.1\" 200 156 \"http://localhost:8080/\" \"Mozilla/5.0 (X11; Linux x86_64) AppleWebKit/537.36 (KHTML, like Gecko) Ubuntu Chromium/39.0.2171.65 Chrome/39.0.2171.65 Safari/537.36\"\n",
        "127.0.0.1 - - [30/Jan/2015:17:19:58] \"GET /iterations HTTP/1.1\" 200 44 \"http://localhost:8080/\" \"Mozilla/5.0 (X11; Linux x86_64) AppleWebKit/537.36 (KHTML, like Gecko) Ubuntu Chromium/39.0.2171.65 Chrome/39.0.2171.65 Safari/537.36\"\n",
        "127.0.0.1 - - [30/Jan/2015:17:19:58] \"GET /clusters/1?sEcho=1&iColumns=6&sColumns=%2C%2C%2C%2C%2C&iDisplayStart=0&iDisplayLength=-1&mDataProp_0=0&bSortable_0=false&mDataProp_1=1&bSortable_1=true&mDataProp_2=2&bSortable_2=true&mDataProp_3=3&bSortable_3=true&mDataProp_4=4&bSortable_4=true&mDataProp_5=5&bSortable_5=true&iSortCol_0=0&sSortDir_0=asc&iSortingCols=1&_=1422667197921 HTTP/1.1\" 200 60971 \"http://localhost:8080/\" \"Mozilla/5.0 (X11; Linux x86_64) AppleWebKit/537.36 (KHTML, like Gecko) Ubuntu Chromium/39.0.2171.65 Chrome/39.0.2171.65 Safari/537.36\"\n",
        "127.0.0.1 - - [30/Jan/2015:17:19:58] \"GET /network_score_means HTTP/1.1\" 200 557 \"http://localhost:8080/\" \"Mozilla/5.0 (X11; Linux x86_64) AppleWebKit/537.36 (KHTML, like Gecko) Ubuntu Chromium/39.0.2171.65 Chrome/39.0.2171.65 Safari/537.36\"\n",
        "127.0.0.1 - - [30/Jan/2015:17:19:58] \"GET /runlog HTTP/1.1\" 200 2424 \"http://localhost:8080/\" \"Mozilla/5.0 (X11; Linux x86_64) AppleWebKit/537.36 (KHTML, like Gecko) Ubuntu Chromium/39.0.2171.65 Chrome/39.0.2171.65 Safari/537.36\"\n",
        "127.0.0.1 - - [30/Jan/2015:17:19:58] \"GET /fuzzy_coeffs HTTP/1.1\" 200 219 \"http://localhost:8080/\" \"Mozilla/5.0 (X11; Linux x86_64) AppleWebKit/537.36 (KHTML, like Gecko) Ubuntu Chromium/39.0.2171.65 Chrome/39.0.2171.65 Safari/537.36\"\n",
        "127.0.0.1 - - [30/Jan/2015:17:19:58] \"GET /generic_score_means HTTP/1.1\" 200 281 \"http://localhost:8080/\" \"Mozilla/5.0 (X11; Linux x86_64) AppleWebKit/537.36 (KHTML, like Gecko) Ubuntu Chromium/39.0.2171.65 Chrome/39.0.2171.65 Safari/537.36\"\n",
        "127.0.0.1 - - [30/Jan/2015:17:19:58] \"GET /mean_residuals HTTP/1.1\" 200 284 \"http://localhost:8080/\" \"Mozilla/5.0 (X11; Linux x86_64) AppleWebKit/537.36 (KHTML, like Gecko) Ubuntu Chromium/39.0.2171.65 Chrome/39.0.2171.65 Safari/537.36\"\n",
        "127.0.0.1 - - [30/Jan/2015:17:19:58] \"GET /mean_cluster_members HTTP/1.1\" 200 442 \"http://localhost:8080/\" \"Mozilla/5.0 (X11; Linux x86_64) AppleWebKit/537.36 (KHTML, like Gecko) Ubuntu Chromium/39.0.2171.65 Chrome/39.0.2171.65 Safari/537.36\"\n",
        "127.0.0.1 - - [30/Jan/2015:17:19:58] \"GET /cluster_row_hist HTTP/1.1\" 200 394 \"http://localhost:8080/\" \"Mozilla/5.0 (X11; Linux x86_64) AppleWebKit/537.36 (KHTML, like Gecko) Ubuntu Chromium/39.0.2171.65 Chrome/39.0.2171.65 Safari/537.36\"\n",
        "127.0.0.1 - - [30/Jan/2015:17:19:58] \"GET /cluster_col_hist HTTP/1.1\" 200 208 \"http://localhost:8080/\" \"Mozilla/5.0 (X11; Linux x86_64) AppleWebKit/537.36 (KHTML, like Gecko) Ubuntu Chromium/39.0.2171.65 Chrome/39.0.2171.65 Safari/537.36\"\n",
        "127.0.0.1 - - [30/Jan/2015:17:19:58] \"GET /cluster_residuals HTTP/1.1\" 200 295 \"http://localhost:8080/\" \"Mozilla/5.0 (X11; Linux x86_64) AppleWebKit/537.36 (KHTML, like Gecko) Ubuntu Chromium/39.0.2171.65 Chrome/39.0.2171.65 Safari/537.36\"\n",
        "127.0.0.1 - - [30/Jan/2015:17:20:03] \"GET /run_status HTTP/1.1\" 200 39 \"http://localhost:8080/\" \"Mozilla/5.0 (X11; Linux x86_64) AppleWebKit/537.36 (KHTML, like Gecko) Ubuntu Chromium/39.0.2171.65 Chrome/39.0.2171.65 Safari/537.36\"\n",
        "127.0.0.1 - - [30/Jan/2015:17:20:03] \"GET /slider_ranges/100 HTTP/1.1\" 200 139 \"http://localhost:8080/\" \"Mozilla/5.0 (X11; Linux x86_64) AppleWebKit/537.36 (KHTML, like Gecko) Ubuntu Chromium/39.0.2171.65 Chrome/39.0.2171.65 Safari/537.36\"\n",
        "127.0.0.1 - - [30/Jan/2015:17:20:03] \"GET /iterations HTTP/1.1\" 200 44 \"http://localhost:8080/\" \"Mozilla/5.0 (X11; Linux x86_64) AppleWebKit/537.36 (KHTML, like Gecko) Ubuntu Chromium/39.0.2171.65 Chrome/39.0.2171.65 Safari/537.36\"\n",
        "127.0.0.1 - - [30/Jan/2015:17:20:08] \"GET /run_status HTTP/1.1\" 200 39 \"http://localhost:8080/\" \"Mozilla/5.0 (X11; Linux x86_64) AppleWebKit/537.36 (KHTML, like Gecko) Ubuntu Chromium/39.0.2171.65 Chrome/39.0.2171.65 Safari/537.36\"\n",
        "127.0.0.1 - - [30/Jan/2015:17:20:08] \"GET /slider_ranges/100 HTTP/1.1\" 200 139 \"http://localhost:8080/\" \"Mozilla/5.0 (X11; Linux x86_64) AppleWebKit/537.36 (KHTML, like Gecko) Ubuntu Chromium/39.0.2171.65 Chrome/39.0.2171.65 Safari/537.36\"\n",
        "127.0.0.1 - - [30/Jan/2015:17:20:08] \"GET /iterations HTTP/1.1\" 200 44 \"http://localhost:8080/\" \"Mozilla/5.0 (X11; Linux x86_64) AppleWebKit/537.36 (KHTML, like Gecko) Ubuntu Chromium/39.0.2171.65 Chrome/39.0.2171.65 Safari/537.36\"\n",
        "127.0.0.1 - - [30/Jan/2015:17:20:13] \"GET /slider_ranges/100 HTTP/1.1\" 200 139 \"http://localhost:8080/\" \"Mozilla/5.0 (X11; Linux x86_64) AppleWebKit/537.36 (KHTML, like Gecko) Ubuntu Chromium/39.0.2171.65 Chrome/39.0.2171.65 Safari/537.36\"\n",
        "127.0.0.1 - - [30/Jan/2015:17:20:13] \"GET /run_status HTTP/1.1\" 200 39 \"http://localhost:8080/\" \"Mozilla/5.0 (X11; Linux x86_64) AppleWebKit/537.36 (KHTML, like Gecko) Ubuntu Chromium/39.0.2171.65 Chrome/39.0.2171.65 Safari/537.36\"\n",
        "127.0.0.1 - - [30/Jan/2015:17:20:13] \"GET /iterations HTTP/1.1\" 200 44 \"http://localhost:8080/\" \"Mozilla/5.0 (X11; Linux x86_64) AppleWebKit/537.36 (KHTML, like Gecko) Ubuntu Chromium/39.0.2171.65 Chrome/39.0.2171.65 Safari/537.36\"\n",
        "127.0.0.1 - - [30/Jan/2015:17:20:18] \"GET /slider_ranges/100 HTTP/1.1\" 200 139 \"http://localhost:8080/\" \"Mozilla/5.0 (X11; Linux x86_64) AppleWebKit/537.36 (KHTML, like Gecko) Ubuntu Chromium/39.0.2171.65 Chrome/39.0.2171.65 Safari/537.36\"\n",
        "127.0.0.1 - - [30/Jan/2015:17:20:18] \"GET /run_status HTTP/1.1\" 200 39 \"http://localhost:8080/\" \"Mozilla/5.0 (X11; Linux x86_64) AppleWebKit/537.36 (KHTML, like Gecko) Ubuntu Chromium/39.0.2171.65 Chrome/39.0.2171.65 Safari/537.36\"\n",
        "127.0.0.1 - - [30/Jan/2015:17:20:18] \"GET /iterations HTTP/1.1\" 200 44 \"http://localhost:8080/\" \"Mozilla/5.0 (X11; Linux x86_64) AppleWebKit/537.36 (KHTML, like Gecko) Ubuntu Chromium/39.0.2171.65 Chrome/39.0.2171.65 Safari/537.36\"\n",
        "127.0.0.1 - - [30/Jan/2015:17:20:23] \"GET /run_status HTTP/1.1\" 200 39 \"http://localhost:8080/\" \"Mozilla/5.0 (X11; Linux x86_64) AppleWebKit/537.36 (KHTML, like Gecko) Ubuntu Chromium/39.0.2171.65 Chrome/39.0.2171.65 Safari/537.36\"\n",
        "127.0.0.1 - - [30/Jan/2015:17:20:23] \"GET /slider_ranges/100 HTTP/1.1\" 200 139 \"http://localhost:8080/\" \"Mozilla/5.0 (X11; Linux x86_64) AppleWebKit/537.36 (KHTML, like Gecko) Ubuntu Chromium/39.0.2171.65 Chrome/39.0.2171.65 Safari/537.36\"\n",
        "127.0.0.1 - - [30/Jan/2015:17:20:23] \"GET /iterations HTTP/1.1\" 200 44 \"http://localhost:8080/\" \"Mozilla/5.0 (X11; Linux x86_64) AppleWebKit/537.36 (KHTML, like Gecko) Ubuntu Chromium/39.0.2171.65 Chrome/39.0.2171.65 Safari/537.36\"\n",
        "127.0.0.1 - - [30/Jan/2015:17:20:28] \"GET /slider_ranges/100 HTTP/1.1\" 200 139 \"http://localhost:8080/\" \"Mozilla/5.0 (X11; Linux x86_64) AppleWebKit/537.36 (KHTML, like Gecko) Ubuntu Chromium/39.0.2171.65 Chrome/39.0.2171.65 Safari/537.36\"\n",
        "127.0.0.1 - - [30/Jan/2015:17:20:28] \"GET /run_status HTTP/1.1\" 200 39 \"http://localhost:8080/\" \"Mozilla/5.0 (X11; Linux x86_64) AppleWebKit/537.36 (KHTML, like Gecko) Ubuntu Chromium/39.0.2171.65 Chrome/39.0.2171.65 Safari/537.36\"\n",
        "127.0.0.1 - - [30/Jan/2015:17:20:28] \"GET /iterations HTTP/1.1\" 200 44 \"http://localhost:8080/\" \"Mozilla/5.0 (X11; Linux x86_64) AppleWebKit/537.36 (KHTML, like Gecko) Ubuntu Chromium/39.0.2171.65 Chrome/39.0.2171.65 Safari/537.36\"\n",
        "127.0.0.1 - - [30/Jan/2015:17:20:33] \"GET /run_status HTTP/1.1\" 200 39 \"http://localhost:8080/\" \"Mozilla/5.0 (X11; Linux x86_64) AppleWebKit/537.36 (KHTML, like Gecko) Ubuntu Chromium/39.0.2171.65 Chrome/39.0.2171.65 Safari/537.36\"\n",
        "127.0.0.1 - - [30/Jan/2015:17:20:33] \"GET /slider_ranges/100 HTTP/1.1\" 200 139 \"http://localhost:8080/\" \"Mozilla/5.0 (X11; Linux x86_64) AppleWebKit/537.36 (KHTML, like Gecko) Ubuntu Chromium/39.0.2171.65 Chrome/39.0.2171.65 Safari/537.36\"\n",
        "127.0.0.1 - - [30/Jan/2015:17:20:33] \"GET /iterations HTTP/1.1\" 200 44 \"http://localhost:8080/\" \"Mozilla/5.0 (X11; Linux x86_64) AppleWebKit/537.36 (KHTML, like Gecko) Ubuntu Chromium/39.0.2171.65 Chrome/39.0.2171.65 Safari/537.36\"\n",
        "127.0.0.1 - - [30/Jan/2015:17:20:38] \"GET /run_status HTTP/1.1\" 200 39 \"http://localhost:8080/\" \"Mozilla/5.0 (X11; Linux x86_64) AppleWebKit/537.36 (KHTML, like Gecko) Ubuntu Chromium/39.0.2171.65 Chrome/39.0.2171.65 Safari/537.36\"\n",
        "127.0.0.1 - - [30/Jan/2015:17:20:38] \"GET /slider_ranges/100 HTTP/1.1\" 200 139 \"http://localhost:8080/\" \"Mozilla/5.0 (X11; Linux x86_64) AppleWebKit/537.36 (KHTML, like Gecko) Ubuntu Chromium/39.0.2171.65 Chrome/39.0.2171.65 Safari/537.36\"\n",
        "127.0.0.1 - - [30/Jan/2015:17:20:38] \"GET /iterations HTTP/1.1\" 200 44 \"http://localhost:8080/\" \"Mozilla/5.0 (X11; Linux x86_64) AppleWebKit/537.36 (KHTML, like Gecko) Ubuntu Chromium/39.0.2171.65 Chrome/39.0.2171.65 Safari/537.36\"\n",
        "127.0.0.1 - - [30/Jan/2015:17:20:43] \"GET /run_status HTTP/1.1\" 200 39 \"http://localhost:8080/\" \"Mozilla/5.0 (X11; Linux x86_64) AppleWebKit/537.36 (KHTML, like Gecko) Ubuntu Chromium/39.0.2171.65 Chrome/39.0.2171.65 Safari/537.36\"\n",
        "127.0.0.1 - - [30/Jan/2015:17:20:43] \"GET /slider_ranges/100 HTTP/1.1\" 200 139 \"http://localhost:8080/\" \"Mozilla/5.0 (X11; Linux x86_64) AppleWebKit/537.36 (KHTML, like Gecko) Ubuntu Chromium/39.0.2171.65 Chrome/39.0.2171.65 Safari/537.36\"\n",
        "127.0.0.1 - - [30/Jan/2015:17:20:43] \"GET /iterations HTTP/1.1\" 200 44 \"http://localhost:8080/\" \"Mozilla/5.0 (X11; Linux x86_64) AppleWebKit/537.36 (KHTML, like Gecko) Ubuntu Chromium/39.0.2171.65 Chrome/39.0.2171.65 Safari/537.36\"\n",
        "127.0.0.1 - - [30/Jan/2015:17:20:48] \"GET /run_status HTTP/1.1\" 200 39 \"http://localhost:8080/\" \"Mozilla/5.0 (X11; Linux x86_64) AppleWebKit/537.36 (KHTML, like Gecko) Ubuntu Chromium/39.0.2171.65 Chrome/39.0.2171.65 Safari/537.36\"\n",
        "127.0.0.1 - - [30/Jan/2015:17:20:48] \"GET /slider_ranges/100 HTTP/1.1\" 200 139 \"http://localhost:8080/\" \"Mozilla/5.0 (X11; Linux x86_64) AppleWebKit/537.36 (KHTML, like Gecko) Ubuntu Chromium/39.0.2171.65 Chrome/39.0.2171.65 Safari/537.36\"\n",
        "127.0.0.1 - - [30/Jan/2015:17:20:48] \"GET /iterations HTTP/1.1\" 200 44 \"http://localhost:8080/\" \"Mozilla/5.0 (X11; Linux x86_64) AppleWebKit/537.36 (KHTML, like Gecko) Ubuntu Chromium/39.0.2171.65 Chrome/39.0.2171.65 Safari/537.36\"\n",
        "127.0.0.1 - - [30/Jan/2015:17:20:53] \"GET /run_status HTTP/1.1\" 200 39 \"http://localhost:8080/\" \"Mozilla/5.0 (X11; Linux x86_64) AppleWebKit/537.36 (KHTML, like Gecko) Ubuntu Chromium/39.0.2171.65 Chrome/39.0.2171.65 Safari/537.36\"\n",
        "127.0.0.1 - - [30/Jan/2015:17:20:53] \"GET /slider_ranges/100 HTTP/1.1\" 200 139 \"http://localhost:8080/\" \"Mozilla/5.0 (X11; Linux x86_64) AppleWebKit/537.36 (KHTML, like Gecko) Ubuntu Chromium/39.0.2171.65 Chrome/39.0.2171.65 Safari/537.36\"\n",
        "127.0.0.1 - - [30/Jan/2015:17:20:53] \"GET /iterations HTTP/1.1\" 200 44 \"http://localhost:8080/\" \"Mozilla/5.0 (X11; Linux x86_64) AppleWebKit/537.36 (KHTML, like Gecko) Ubuntu Chromium/39.0.2171.65 Chrome/39.0.2171.65 Safari/537.36\"\n",
        "127.0.0.1 - - [30/Jan/2015:17:20:58] \"GET /run_status HTTP/1.1\" 200 39 \"http://localhost:8080/\" \"Mozilla/5.0 (X11; Linux x86_64) AppleWebKit/537.36 (KHTML, like Gecko) Ubuntu Chromium/39.0.2171.65 Chrome/39.0.2171.65 Safari/537.36\"\n",
        "127.0.0.1 - - [30/Jan/2015:17:20:58] \"GET /slider_ranges/100 HTTP/1.1\" 200 139 \"http://localhost:8080/\" \"Mozilla/5.0 (X11; Linux x86_64) AppleWebKit/537.36 (KHTML, like Gecko) Ubuntu Chromium/39.0.2171.65 Chrome/39.0.2171.65 Safari/537.36\"\n",
        "127.0.0.1 - - [30/Jan/2015:17:20:58] \"GET /iterations HTTP/1.1\" 200 44 \"http://localhost:8080/\" \"Mozilla/5.0 (X11; Linux x86_64) AppleWebKit/537.36 (KHTML, like Gecko) Ubuntu Chromium/39.0.2171.65 Chrome/39.0.2171.65 Safari/537.36\"\n",
        "127.0.0.1 - - [30/Jan/2015:17:21:03] \"GET /run_status HTTP/1.1\" 200 39 \"http://localhost:8080/\" \"Mozilla/5.0 (X11; Linux x86_64) AppleWebKit/537.36 (KHTML, like Gecko) Ubuntu Chromium/39.0.2171.65 Chrome/39.0.2171.65 Safari/537.36\"\n",
        "127.0.0.1 - - [30/Jan/2015:17:21:03] \"GET /slider_ranges/100 HTTP/1.1\" 200 139 \"http://localhost:8080/\" \"Mozilla/5.0 (X11; Linux x86_64) AppleWebKit/537.36 (KHTML, like Gecko) Ubuntu Chromium/39.0.2171.65 Chrome/39.0.2171.65 Safari/537.36\"\n",
        "127.0.0.1 - - [30/Jan/2015:17:21:03] \"GET /iterations HTTP/1.1\" 200 44 \"http://localhost:8080/\" \"Mozilla/5.0 (X11; Linux x86_64) AppleWebKit/537.36 (KHTML, like Gecko) Ubuntu Chromium/39.0.2171.65 Chrome/39.0.2171.65 Safari/537.36\"\n",
        "127.0.0.1 - - [30/Jan/2015:17:21:08] \"GET /run_status HTTP/1.1\" 200 39 \"http://localhost:8080/\" \"Mozilla/5.0 (X11; Linux x86_64) AppleWebKit/537.36 (KHTML, like Gecko) Ubuntu Chromium/39.0.2171.65 Chrome/39.0.2171.65 Safari/537.36\"\n",
        "127.0.0.1 - - [30/Jan/2015:17:21:08] \"GET /slider_ranges/100 HTTP/1.1\" 200 139 \"http://localhost:8080/\" \"Mozilla/5.0 (X11; Linux x86_64) AppleWebKit/537.36 (KHTML, like Gecko) Ubuntu Chromium/39.0.2171.65 Chrome/39.0.2171.65 Safari/537.36\"\n",
        "127.0.0.1 - - [30/Jan/2015:17:21:08] \"GET /iterations HTTP/1.1\" 200 44 \"http://localhost:8080/\" \"Mozilla/5.0 (X11; Linux x86_64) AppleWebKit/537.36 (KHTML, like Gecko) Ubuntu Chromium/39.0.2171.65 Chrome/39.0.2171.65 Safari/537.36\"\n"
       ]
      }
     ],
     "prompt_number": 5
    },
    {
     "cell_type": "code",
     "collapsed": false,
     "input": [],
     "language": "python",
     "metadata": {},
     "outputs": []
    }
   ],
   "metadata": {}
  }
 ]
}